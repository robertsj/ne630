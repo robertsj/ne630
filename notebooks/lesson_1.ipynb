{
 "cells": [
  {
   "cell_type": "markdown",
   "id": "2adbaf8b",
   "metadata": {
    "slideshow": {
     "slide_type": "slide"
    }
   },
   "source": [
    "# NE 630 - Lesson 1"
   ]
  },
  {
   "cell_type": "markdown",
   "id": "13741e93",
   "metadata": {
    "slideshow": {
     "slide_type": "slide"
    }
   },
   "source": [
    "## Course Administrivia\n",
    "\n",
    " - Office hours are by appointment unless you tell me we need a formal time!\n",
    " - Lectures will be recorded.\n",
    " - Homework will be due weekly; problems are assigned per lesson.\n",
    " - Three, equally-weighted exams at roughly the 5-week, 10-week, and final-week marks\n",
    " "
   ]
  },
  {
   "cell_type": "markdown",
   "id": "3a197508",
   "metadata": {
    "slideshow": {
     "slide_type": "fragment"
    }
   },
   "source": [
    "**Questions?**"
   ]
  },
  {
   "cell_type": "markdown",
   "id": "c96a3884",
   "metadata": {
    "slideshow": {
     "slide_type": "slide"
    }
   },
   "source": [
    "# Course Objective\n",
    "\n",
    "By the end of the course, students will be able to **define and evaluate mathematical models for nuclear reactors and related neutronic systems using appropriate nuclear data, numerical or other approximations, and presentation techniques.**\n",
    "\n",
    "**Lessons** will be organized around one or two *macro* objectives that align with this major course objective.  Each *macro* objective is supported by a variety of *micro* objectives. "
   ]
  },
  {
   "cell_type": "markdown",
   "id": "dfca2565",
   "metadata": {
    "slideshow": {
     "slide_type": "slide"
    }
   },
   "source": [
    "## Treating Neutron Energies"
   ]
  },
  {
   "cell_type": "code",
   "execution_count": null,
   "id": "c5487d38",
   "metadata": {
    "slideshow": {
     "slide_type": "fragment"
    }
   },
   "outputs": [],
   "source": [
    "import numpy as np\n",
    "import matplotlib.pyplot as plt"
   ]
  },
  {
   "cell_type": "code",
   "execution_count": null,
   "id": "60edc7ed",
   "metadata": {
    "slideshow": {
     "slide_type": "fragment"
    }
   },
   "outputs": [],
   "source": [
    "beta = np.linspace(1e-5, 0.15, 1000) # beta = v/c"
   ]
  },
  {
   "cell_type": "code",
   "execution_count": null,
   "id": "a8b75471",
   "metadata": {
    "slideshow": {
     "slide_type": "fragment"
    }
   },
   "outputs": [],
   "source": [
    "def f(b):\n",
    "    a = 1/np.sqrt(1-b**2) - 1\n",
    "    return (a-0.5*b**2)/a\n",
    "\n",
    "from scipy.optimize import fsolve"
   ]
  },
  {
   "cell_type": "code",
   "execution_count": null,
   "id": "8979b20f",
   "metadata": {
    "slideshow": {
     "slide_type": "subslide"
    }
   },
   "outputs": [],
   "source": [
    "plt.plot(beta, f(beta))\n",
    "plt.plot(beta, np.ones_like(beta)*0.01)\n",
    "plt.xlabel(r'$\\beta$'); plt.ylabel(r'$f(\\beta)$')"
   ]
  },
  {
   "cell_type": "code",
   "execution_count": null,
   "id": "a814b843",
   "metadata": {
    "slideshow": {
     "slide_type": "subslide"
    }
   },
   "outputs": [],
   "source": [
    "def objective(b):\n",
    "    return f(b) - 0.01"
   ]
  },
  {
   "cell_type": "code",
   "execution_count": null,
   "id": "5086fea7",
   "metadata": {
    "slideshow": {
     "slide_type": "fragment"
    }
   },
   "outputs": [],
   "source": [
    "b_cutoff = fsolve(objective, 0.1)[0]\n",
    "b_cutoff "
   ]
  },
  {
   "cell_type": "code",
   "execution_count": null,
   "id": "38790253",
   "metadata": {
    "slideshow": {
     "slide_type": "fragment"
    }
   },
   "outputs": [],
   "source": [
    "0.5 * 939.5 * b_cutoff**2"
   ]
  },
  {
   "cell_type": "markdown",
   "id": "f52793fa",
   "metadata": {
    "slideshow": {
     "slide_type": "slide"
    }
   },
   "source": [
    "## Atomic Masses\n",
    "\n",
    "Possible sources for basis nuclear data:\n",
    "\n",
    "  - [Mendeleev Python module](https://mendeleev.readthedocs.io/en/stable/), which can be installed in a Google Colab notebook!\n",
    "\n",
    "  - [IAEA NUBASE](https://www-nds.iaea.org/relnsd/nubase/nubase_min.html)"
   ]
  },
  {
   "cell_type": "code",
   "execution_count": null,
   "id": "17d290f9",
   "metadata": {
    "slideshow": {
     "slide_type": "fragment"
    }
   },
   "outputs": [],
   "source": [
    "from mendeleev import isotope"
   ]
  },
  {
   "cell_type": "code",
   "execution_count": null,
   "id": "ac4be4ff",
   "metadata": {
    "slideshow": {
     "slide_type": "fragment"
    }
   },
   "outputs": [],
   "source": [
    "isotope(\"Au\", 197).mass"
   ]
  },
  {
   "cell_type": "markdown",
   "id": "9153f6e7",
   "metadata": {
    "slideshow": {
     "slide_type": "slide"
    }
   },
   "source": [
    "## Mass Defects, Binding Energies, and Stability\n",
    "\n",
    "[BNL's NUDAT](https://www.nndc.bnl.gov/nudat3/)"
   ]
  }
 ],
 "metadata": {
  "celltoolbar": "Slideshow",
  "kernelspec": {
   "display_name": "Python 3 (ipykernel)",
   "language": "python",
   "name": "python3"
  },
  "language_info": {
   "codemirror_mode": {
    "name": "ipython",
    "version": 3
   },
   "file_extension": ".py",
   "mimetype": "text/x-python",
   "name": "python",
   "nbconvert_exporter": "python",
   "pygments_lexer": "ipython3",
   "version": "3.9.7"
  }
 },
 "nbformat": 4,
 "nbformat_minor": 5
}
