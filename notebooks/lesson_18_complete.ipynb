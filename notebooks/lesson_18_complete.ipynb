{
 "cells": [
  {
   "cell_type": "markdown",
   "id": "aecc27d6",
   "metadata": {
    "slideshow": {
     "slide_type": "slide"
    }
   },
   "source": [
    "# NE 630 - Lesson 18\n",
    "\n",
    "In this tutorial, explore how to use OpenMC through the `LWRUnitCell` and `SFRUnitCell` classes in `unitcell_utils.py` to compute region-wise fluxes and cross sections."
   ]
  },
  {
   "cell_type": "markdown",
   "id": "76b5a28c",
   "metadata": {
    "slideshow": {
     "slide_type": "slide"
    }
   },
   "source": [
    "## Revisiting the SFR\n",
    "\n",
    "Generally, the neutron flux depends on energy *and* space, i.e., \n",
    "\n",
    "$$\n",
    "  \\phi = \\phi(\\mathbf{r}, E) \\, .\n",
    "$$\n",
    "\n",
    "Thus, total reaction rates (per s) require integration over both space and energy, e.g.,\n",
    "\n",
    "$$\n",
    "  k_{\\infty} = \\frac{\\iiint\\limits_{V} \\int\\limits^{\\infty}_0 \\nu(E) \\Sigma_f(E) \\phi(\\mathbf{r}, E) d^3 r}\n",
    "                    { \\iiint\\limits_{V} \\int\\limits^{\\infty}_0 \\Sigma_a(E) \\phi(\\mathbf{r}, E) d^3 r } \\, .\n",
    "$$\n"
   ]
  },
  {
   "cell_type": "markdown",
   "id": "86edab1c",
   "metadata": {
    "slideshow": {
     "slide_type": "subslide"
    }
   },
   "source": [
    "Now, recall Eq. (4.8) from the text:\n",
    "\n",
    "$$\n",
    "k_{\\infty} = \\frac{ V_f \\nu\\bar{\\Sigma}_f^f }\n",
    "                  { V_f \\bar{\\Sigma}_a^f + V_c \\bar{\\Sigma}_a^{c} + V_{st} \\bar{\\Sigma}_a^{st}} \\, .\n",
    "$$\n",
    "\n",
    "This expression for $k_{\\infty}$ assumes that $\\phi(\\mathbf{r}, E) = \\phi(E)$, i.e., the neutron flux is spatially constant.  **You should be able to derive Eq. (4.8) from the previous expression for $k_{\\infty}$.**\n",
    "\n",
    "We can again demonstrate this spatial independence."
   ]
  },
  {
   "cell_type": "markdown",
   "id": "eaffa83e",
   "metadata": {
    "slideshow": {
     "slide_type": "subslide"
    }
   },
   "source": [
    "Let's create an SFR unit cell using the `unitcell_utils.py` module uploaded to Canvas.  Get this file into your home directory on Beocat by\n",
    " \n",
    "  1. Downloading from Canvas and uploading \n",
    "  2. Executing `cp /homes/jaroberts/data/unitcell_utils.py .` in the terminal.\n",
    "\n",
    "Do one of these now."
   ]
  },
  {
   "cell_type": "code",
   "execution_count": 1,
   "id": "108af75d",
   "metadata": {
    "slideshow": {
     "slide_type": "subslide"
    }
   },
   "outputs": [],
   "source": [
    "import sys\n",
    "sys.path.append(\"unitcell\") # \n",
    "from unitcell_utils import *"
   ]
  },
  {
   "cell_type": "code",
   "execution_count": 2,
   "id": "7fd19251",
   "metadata": {
    "slideshow": {
     "slide_type": "fragment"
    }
   },
   "outputs": [
    {
     "name": "stdout",
     "output_type": "stream",
     "text": [
      "Help on function __init__ in module unitcell_utils:\n",
      "\n",
      "__init__(self, fuel_radius, clad_radius, pitch, T_cool=800, T_fuel=1200, group_bounds=array([1.e+00, 1.e+07]), enrichment=10, pu_fraction=0.1)\n",
      "    _summary_\n",
      "    \n",
      "    Args:\n",
      "        fuel_radius (float, optional): _description_. Defaults to 0.40.\n",
      "        clad_radius (float, optional): _description_. Defaults to 0.45.\n",
      "        pitch (float, optional): _description_. Defaults to 1.1.\n",
      "        T_cool (int, optional): Coolant (sodium) temperature [K]. Defaults to 600.\n",
      "        T_fuel (int, optional): Fuel temperature [K]. Defaults to 1200.\n",
      "        group_bounds (np.array, optional): Group bounds for cross sections [eV]. Defaults to np.array([1.0, 1e5, 1e7]).\n",
      "        enrichment (float, optional): Uranium enrichment [%]. Defaults to 15.\n",
      "        pu_fraction (float, optional): Fraction of heavy metal that is Pu-239. Defaults to 0.1.\n",
      "\n"
     ]
    }
   ],
   "source": [
    "help(SFRUnitCell.__init__)"
   ]
  },
  {
   "cell_type": "markdown",
   "id": "8129d0be",
   "metadata": {
    "slideshow": {
     "slide_type": "fragment"
    }
   },
   "source": [
    "Now, use the dimensions from Lesson 16 to define our SFR unit cell.  Use the defaults for other parameters."
   ]
  },
  {
   "cell_type": "code",
   "execution_count": 3,
   "id": "1d6c2ab0",
   "metadata": {
    "slideshow": {
     "slide_type": "fragment"
    }
   },
   "outputs": [
    {
     "name": "stderr",
     "output_type": "stream",
     "text": [
      "/home/robertsj/Research/openmc/openmc/material.py:745: UserWarning: A uranium enrichment of 10 was given for Material ID=\"1\". OpenMC assumes the U234/U235 mass ratio is constant at 0.008, which is only valid at low enrichments. Consider setting the isotopic composition manually for enrichments over 5%.\n",
      "  warnings.warn(msg)\n"
     ]
    }
   ],
   "source": [
    "## WORK HERE\n",
    "sfr = SFRUnitCell(fuel_radius=0.3322, clad_radius=0.3928, pitch=2*0.4935)"
   ]
  },
  {
   "cell_type": "markdown",
   "id": "c65c70f5",
   "metadata": {
    "slideshow": {
     "slide_type": "subslide"
    }
   },
   "source": [
    "Use the `plot` function to inspect the geometry."
   ]
  },
  {
   "cell_type": "code",
   "execution_count": 4,
   "id": "5f365ee4",
   "metadata": {},
   "outputs": [
    {
     "data": {
      "image/png": "[encoded data removed]",
      "text/plain": [
       "<Figure size 258.065x259.74 with 1 Axes>"
      ]
     },
     "metadata": {},
     "output_type": "display_data"
    }
   ],
   "source": [
    "## WORK HERE\n",
    "sfr.plot()"
   ]
  },
  {
   "cell_type": "markdown",
   "id": "c8b33aeb",
   "metadata": {
    "slideshow": {
     "slide_type": "subslide"
    }
   },
   "source": [
    "Now, let's run the simulation."
   ]
  },
  {
   "cell_type": "code",
   "execution_count": 5,
   "id": "f9344602",
   "metadata": {
    "slideshow": {
     "slide_type": "fragment"
    }
   },
   "outputs": [
    {
     "name": "stdout",
     "output_type": "stream",
     "text": [
      "Help on method run in module unitcell_utils:\n",
      "\n",
      "run(ng=10, np=10000) method of unitcell_utils.SFRUnitCell instance\n",
      "    Run the simulation needed to generate the fluxes and cross sections.\n",
      "    \n",
      "    The number of generations is the *total* number simulated, but 5 are always \"inactive.\n",
      "    \n",
      "    Args:\n",
      "        ng (int, optional): Number of fission generations. Defaults to 10.\n",
      "        np (int, optional): Number of particles per generation. Defaults to 10000.\n",
      "\n"
     ]
    }
   ],
   "source": [
    "help(sfr.run)"
   ]
  },
  {
   "cell_type": "code",
   "execution_count": 6,
   "id": "ebcdb995",
   "metadata": {
    "slideshow": {
     "slide_type": "fragment"
    }
   },
   "outputs": [
    {
     "name": "stderr",
     "output_type": "stream",
     "text": [
      "/home/robertsj/Research/openmc/openmc/mixin.py:70: IDWarning: Another Filter instance already exists with id=4.\n",
      "  warn(msg, IDWarning)\n",
      "/home/robertsj/Research/openmc/openmc/mixin.py:70: IDWarning: Another Filter instance already exists with id=3.\n",
      "  warn(msg, IDWarning)\n",
      "/home/robertsj/Research/openmc/openmc/mixin.py:70: IDWarning: Another Filter instance already exists with id=5.\n",
      "  warn(msg, IDWarning)\n",
      "/home/robertsj/Research/openmc/openmc/mixin.py:70: IDWarning: Another Filter instance already exists with id=15.\n",
      "  warn(msg, IDWarning)\n",
      "/home/robertsj/Research/openmc/openmc/mixin.py:70: IDWarning: Another Filter instance already exists with id=16.\n",
      "  warn(msg, IDWarning)\n",
      "/home/robertsj/Research/openmc/openmc/mixin.py:70: IDWarning: Another Filter instance already exists with id=7.\n",
      "  warn(msg, IDWarning)\n"
     ]
    },
    {
     "name": "stdout",
     "output_type": "stream",
     "text": [
      "                                %%%%%%%%%%%%%%%\n",
      "                           %%%%%%%%%%%%%%%%%%%%%%%%\n",
      "                        %%%%%%%%%%%%%%%%%%%%%%%%%%%%%%\n",
      "                      %%%%%%%%%%%%%%%%%%%%%%%%%%%%%%%%%%\n",
      "                    %%%%%%%%%%%%%%%%%%%%%%%%%%%%%%%%%%%%%%\n",
      "                   %%%%%%%%%%%%%%%%%%%%%%%%%%%%%%%%%%%%%%%%\n",
      "                                    %%%%%%%%%%%%%%%%%%%%%%%%\n",
      "                                     %%%%%%%%%%%%%%%%%%%%%%%%\n",
      "                 ###############      %%%%%%%%%%%%%%%%%%%%%%%%\n",
      "                ##################     %%%%%%%%%%%%%%%%%%%%%%%\n",
      "                ###################     %%%%%%%%%%%%%%%%%%%%%%%\n",
      "                ####################     %%%%%%%%%%%%%%%%%%%%%%\n",
      "                #####################     %%%%%%%%%%%%%%%%%%%%%\n",
      "                ######################     %%%%%%%%%%%%%%%%%%%%\n",
      "                #######################     %%%%%%%%%%%%%%%%%%\n",
      "                 #######################     %%%%%%%%%%%%%%%%%\n",
      "                 ######################     %%%%%%%%%%%%%%%%%\n",
      "                  ####################     %%%%%%%%%%%%%%%%%\n",
      "                    #################     %%%%%%%%%%%%%%%%%\n",
      "                     ###############     %%%%%%%%%%%%%%%%\n",
      "                       ############     %%%%%%%%%%%%%%%\n",
      "                          ########     %%%%%%%%%%%%%%\n",
      "                                      %%%%%%%%%%%\n",
      "\n",
      "                 | The OpenMC Monte Carlo Code\n",
      "       Copyright | 2011-2023 MIT, UChicago Argonne LLC, and contributors\n",
      "         License | https://docs.openmc.org/en/latest/license.html\n",
      "         Version | 0.13.4-dev\n",
      "        Git SHA1 | eea52238dac0162a8b7924b81800af4a3c78798e\n",
      "       Date/Time | 2023-10-06 14:40:30\n",
      "  OpenMP Threads | 8\n",
      "\n",
      " Reading settings XML file...\n",
      " Reading cross sections XML file...\n",
      " Reading materials XML file...\n",
      " Reading geometry XML file...\n",
      " Reading U234 from\n",
      " /home/robertsj/Research/openmc_data/endfb-vii.1-hdf5/neutron/U234.h5\n",
      " Reading U235 from\n",
      " /home/robertsj/Research/openmc_data/endfb-vii.1-hdf5/neutron/U235.h5\n",
      " Reading U238 from\n",
      " /home/robertsj/Research/openmc_data/endfb-vii.1-hdf5/neutron/U238.h5\n",
      " Reading U236 from\n",
      " /home/robertsj/Research/openmc_data/endfb-vii.1-hdf5/neutron/U236.h5\n",
      " Reading O16 from\n",
      " /home/robertsj/Research/openmc_data/endfb-vii.1-hdf5/neutron/O16.h5\n",
      " Reading O17 from\n",
      " /home/robertsj/Research/openmc_data/endfb-vii.1-hdf5/neutron/O17.h5\n",
      " Reading Pu239 from\n",
      " /home/robertsj/Research/openmc_data/endfb-vii.1-hdf5/neutron/Pu239.h5\n",
      " Reading Na23 from\n",
      " /home/robertsj/Research/openmc_data/endfb-vii.1-hdf5/neutron/Na23.h5\n",
      " Reading C0 from\n",
      " /home/robertsj/Research/openmc_data/endfb-vii.1-hdf5/neutron/C0.h5\n",
      " Reading Ti46 from\n",
      " /home/robertsj/Research/openmc_data/endfb-vii.1-hdf5/neutron/Ti46.h5\n",
      " Reading Ti47 from\n",
      " /home/robertsj/Research/openmc_data/endfb-vii.1-hdf5/neutron/Ti47.h5\n",
      " Reading Ti48 from\n",
      " /home/robertsj/Research/openmc_data/endfb-vii.1-hdf5/neutron/Ti48.h5\n",
      " Reading Ti49 from\n",
      " /home/robertsj/Research/openmc_data/endfb-vii.1-hdf5/neutron/Ti49.h5\n",
      " Reading Ti50 from\n",
      " /home/robertsj/Research/openmc_data/endfb-vii.1-hdf5/neutron/Ti50.h5\n",
      " Reading Cr50 from\n",
      " /home/robertsj/Research/openmc_data/endfb-vii.1-hdf5/neutron/Cr50.h5\n",
      " Reading Cr52 from\n",
      " /home/robertsj/Research/openmc_data/endfb-vii.1-hdf5/neutron/Cr52.h5\n",
      " Reading Cr53 from\n",
      " /home/robertsj/Research/openmc_data/endfb-vii.1-hdf5/neutron/Cr53.h5\n",
      " Reading Cr54 from\n",
      " /home/robertsj/Research/openmc_data/endfb-vii.1-hdf5/neutron/Cr54.h5\n",
      " Reading Fe54 from\n",
      " /home/robertsj/Research/openmc_data/endfb-vii.1-hdf5/neutron/Fe54.h5\n",
      " Reading Fe56 from\n",
      " /home/robertsj/Research/openmc_data/endfb-vii.1-hdf5/neutron/Fe56.h5\n",
      " Reading Fe57 from\n",
      " /home/robertsj/Research/openmc_data/endfb-vii.1-hdf5/neutron/Fe57.h5\n",
      " Reading Fe58 from\n",
      " /home/robertsj/Research/openmc_data/endfb-vii.1-hdf5/neutron/Fe58.h5\n",
      " Reading Ni58 from\n",
      " /home/robertsj/Research/openmc_data/endfb-vii.1-hdf5/neutron/Ni58.h5\n",
      " Reading Ni60 from\n",
      " /home/robertsj/Research/openmc_data/endfb-vii.1-hdf5/neutron/Ni60.h5\n",
      " Reading Ni61 from\n",
      " /home/robertsj/Research/openmc_data/endfb-vii.1-hdf5/neutron/Ni61.h5\n",
      " Reading Ni62 from\n",
      " /home/robertsj/Research/openmc_data/endfb-vii.1-hdf5/neutron/Ni62.h5\n",
      " Reading Ni64 from\n",
      " /home/robertsj/Research/openmc_data/endfb-vii.1-hdf5/neutron/Ni64.h5\n",
      " Reading Mn55 from\n",
      " /home/robertsj/Research/openmc_data/endfb-vii.1-hdf5/neutron/Mn55.h5\n",
      " Reading P31 from\n",
      " /home/robertsj/Research/openmc_data/endfb-vii.1-hdf5/neutron/P31.h5\n",
      " Reading Al27 from\n",
      " /home/robertsj/Research/openmc_data/endfb-vii.1-hdf5/neutron/Al27.h5\n",
      " Reading Co59 from\n",
      " /home/robertsj/Research/openmc_data/endfb-vii.1-hdf5/neutron/Co59.h5\n",
      " Reading Cu63 from\n",
      " /home/robertsj/Research/openmc_data/endfb-vii.1-hdf5/neutron/Cu63.h5\n",
      " Reading Cu65 from\n",
      " /home/robertsj/Research/openmc_data/endfb-vii.1-hdf5/neutron/Cu65.h5\n",
      " Reading Y89 from\n",
      " /home/robertsj/Research/openmc_data/endfb-vii.1-hdf5/neutron/Y89.h5\n",
      " Minimum neutron data temperature: 600 K\n",
      " Maximum neutron data temperature: 1200 K\n",
      " Reading tallies XML file...\n",
      " Preparing distributed cell instances...\n",
      " Reading plot XML file...\n",
      " Writing summary.h5 file...\n",
      " Maximum neutron transport energy: 20000000 eV for U235\n",
      " Initializing source particles...\n",
      "\n",
      " ====================>     K EIGENVALUE SIMULATION     <====================\n",
      "\n",
      "  Bat./Gen.      k            Average k\n",
      "  =========   ========   ====================\n",
      "        1/1    1.46023\n",
      "        2/1    1.46394\n",
      "        3/1    1.45005\n",
      "        4/1    1.44300\n",
      "        5/1    1.42478\n",
      "        6/1    1.46145\n",
      "        7/1    1.46293    1.46219 +/- 0.00074\n",
      "        8/1    1.46897    1.46445 +/- 0.00230\n",
      "        9/1    1.46257    1.46398 +/- 0.00169\n",
      "       10/1    1.46325    1.46383 +/- 0.00132\n",
      " Creating state point statepoint.10.h5...\n",
      "\n",
      " =======================>     TIMING STATISTICS     <=======================\n",
      "\n",
      " Total time for initialization     = 3.3049e+00 seconds\n",
      "   Reading cross sections          = 3.2899e+00 seconds\n",
      " Total time in simulation          = 1.2423e+01 seconds\n",
      "   Time in transport only          = 1.2388e+01 seconds\n",
      "   Time in inactive batches        = 4.1513e+00 seconds\n",
      "   Time in active batches          = 8.2719e+00 seconds\n",
      "   Time synchronizing fission bank = 8.8505e-03 seconds\n",
      "     Sampling source sites         = 8.4566e-03 seconds\n",
      "     SEND/RECV source sites        = 3.8820e-04 seconds\n",
      "   Time accumulating tallies       = 5.6173e-04 seconds\n",
      "   Time writing statepoints        = 2.2373e-02 seconds\n",
      " Total time for finalization       = 6.2465e-02 seconds\n",
      " Total time elapsed                = 1.5815e+01 seconds\n",
      " Calculation Rate (inactive)       = 12044.5 particles/second\n",
      " Calculation Rate (active)         = 6044.56 particles/second\n",
      "\n",
      " ============================>     RESULTS     <============================\n",
      "\n",
      " k-effective (Collision)     = 1.46313 +/- 0.00160\n",
      " k-effective (Track-length)  = 1.46383 +/- 0.00132\n",
      " k-effective (Absorption)    = 1.46102 +/- 0.00508\n",
      " Combined k-effective        = 1.46424 +/- 0.00162\n",
      " Leakage Fraction            = 0.00000 +/- 0.00000\n",
      "\n",
      "loading tallies from statepoint.10.h5\n"
     ]
    }
   ],
   "source": [
    "## WORK HERE ##\n",
    "sfr.run()"
   ]
  },
  {
   "cell_type": "markdown",
   "id": "ce56fd4a",
   "metadata": {
    "slideshow": {
     "slide_type": "subslide"
    }
   },
   "source": [
    "Now, plot the region-wise spectra:"
   ]
  },
  {
   "cell_type": "code",
   "execution_count": 7,
   "id": "742f3622",
   "metadata": {
    "slideshow": {
     "slide_type": "fragment"
    }
   },
   "outputs": [
    {
     "name": "stdout",
     "output_type": "stream",
     "text": [
      "Help on method plot_spectrum in module unitcell_utils:\n",
      "\n",
      "plot_spectrum(per_unit_lethargy=False) method of unitcell_utils.SFRUnitCell instance\n",
      "\n"
     ]
    }
   ],
   "source": [
    "help(sfr.plot_spectrum)"
   ]
  },
  {
   "cell_type": "code",
   "execution_count": 8,
   "id": "f74ecd07",
   "metadata": {
    "slideshow": {
     "slide_type": "fragment"
    }
   },
   "outputs": [
    {
     "data": {
      "image/png": "[encoded data removed]",
      "text/plain": [
       "<Figure size 640x480 with 1 Axes>"
      ]
     },
     "metadata": {},
     "output_type": "display_data"
    }
   ],
   "source": [
    "## WORK HERE\n",
    "sfr.plot_spectrum()"
   ]
  },
  {
   "cell_type": "markdown",
   "id": "5b699328",
   "metadata": {
    "slideshow": {
     "slide_type": "slide"
    }
   },
   "source": [
    "## A PWR unit cell and the Four-Factor Formula\n",
    "\n",
    "In LWRs, we can no longer factor out an energy-dependent flux spectrum, and, from Eq. (4.18), we have\n",
    "\n",
    "$$\n",
    "  k_{\\infty} = \\frac{V_f \\int^{\\infty}_0 \\nu\\Sigma^f_f(E) \\phi_f(E) dE}\n",
    "   {V_f \\int^{\\infty}_0 \\Sigma_a^f \\phi_f(E) dE \n",
    "     + V_m \\int^{\\infty}_0 \\Sigma_a^m(E) \\phi_m(E) dE} \\, .\n",
    "  \\tag{4.18} \n",
    "$$\n",
    "\n",
    "Note that this expression *does* assume that $\\phi(\\mathbf{r}, E)$ is spatially uniform within a region, e.g.,\n",
    "\n",
    "$$\n",
    "  \\phi_f(\\mathbf{r}, E) = \\phi_f(E), \\qquad \\mathbf{r} \\in V_f \\, .\n",
    "$$\n",
    "\n",
    "If there *is* spatial variation, then we still use Eq. (4.18) if we use a volume averaged flux, e.g.,\n",
    "\n",
    "$$\n",
    "  \\phi_f(E) = \\phi_f(\\mathbf{r}, E) = \\frac{\\iiint\\limits_{V_f} \\phi_f(\\mathbf{r}, E) d^3 r}{V_f} \\, .\n",
    "$$"
   ]
  },
  {
   "cell_type": "markdown",
   "id": "baad9312",
   "metadata": {
    "slideshow": {
     "slide_type": "subslide"
    }
   },
   "source": [
    "Now, let's create a PWR unit cell using the `LWRUnitCell` class, which has nearly identical inputs.  Here, take the fuel radius to be 0.41 cm, the outer cladding radius to be 0.48 cm, and the pitch to be 1.26 cm, leaving all other arguments as their defaults.  Then plot the cell."
   ]
  },
  {
   "cell_type": "code",
   "execution_count": 9,
   "id": "b8320a41",
   "metadata": {
    "slideshow": {
     "slide_type": "fragment"
    }
   },
   "outputs": [
    {
     "data": {
      "image/png": "[encoded data removed]",
      "text/plain": [
       "<Figure size 258.065x259.74 with 1 Axes>"
      ]
     },
     "metadata": {},
     "output_type": "display_data"
    }
   ],
   "source": [
    "## WORK HERE\n",
    "pwr = LWRUnitCell(0.41, 0.48, 1.26)\n",
    "pwr.plot()"
   ]
  },
  {
   "cell_type": "markdown",
   "id": "81ae85de",
   "metadata": {
    "slideshow": {
     "slide_type": "subslide"
    }
   },
   "source": [
    "Now, run the cell."
   ]
  },
  {
   "cell_type": "code",
   "execution_count": 10,
   "id": "6b37f44e",
   "metadata": {
    "slideshow": {
     "slide_type": "fragment"
    }
   },
   "outputs": [
    {
     "name": "stderr",
     "output_type": "stream",
     "text": [
      "/home/robertsj/Research/openmc/openmc/mixin.py:70: IDWarning: Another Tally instance already exists with id=1.\n",
      "  warn(msg, IDWarning)\n",
      "/home/robertsj/Research/openmc/openmc/mixin.py:70: IDWarning: Another Filter instance already exists with id=34.\n",
      "  warn(msg, IDWarning)\n",
      "/home/robertsj/Research/openmc/openmc/mixin.py:70: IDWarning: Another Filter instance already exists with id=33.\n",
      "  warn(msg, IDWarning)\n",
      "/home/robertsj/Research/openmc/openmc/mixin.py:70: IDWarning: Another Filter instance already exists with id=35.\n",
      "  warn(msg, IDWarning)\n",
      "/home/robertsj/Research/openmc/openmc/mixin.py:70: IDWarning: Another Filter instance already exists with id=45.\n",
      "  warn(msg, IDWarning)\n",
      "/home/robertsj/Research/openmc/openmc/mixin.py:70: IDWarning: Another Filter instance already exists with id=46.\n",
      "  warn(msg, IDWarning)\n",
      "/home/robertsj/Research/openmc/openmc/mixin.py:70: IDWarning: Another Filter instance already exists with id=37.\n",
      "  warn(msg, IDWarning)\n"
     ]
    },
    {
     "name": "stdout",
     "output_type": "stream",
     "text": [
      "                                %%%%%%%%%%%%%%%\n",
      "                           %%%%%%%%%%%%%%%%%%%%%%%%\n",
      "                        %%%%%%%%%%%%%%%%%%%%%%%%%%%%%%\n",
      "                      %%%%%%%%%%%%%%%%%%%%%%%%%%%%%%%%%%\n",
      "                    %%%%%%%%%%%%%%%%%%%%%%%%%%%%%%%%%%%%%%\n",
      "                   %%%%%%%%%%%%%%%%%%%%%%%%%%%%%%%%%%%%%%%%\n",
      "                                    %%%%%%%%%%%%%%%%%%%%%%%%\n",
      "                                     %%%%%%%%%%%%%%%%%%%%%%%%\n",
      "                 ###############      %%%%%%%%%%%%%%%%%%%%%%%%\n",
      "                ##################     %%%%%%%%%%%%%%%%%%%%%%%\n",
      "                ###################     %%%%%%%%%%%%%%%%%%%%%%%\n",
      "                ####################     %%%%%%%%%%%%%%%%%%%%%%\n",
      "                #####################     %%%%%%%%%%%%%%%%%%%%%\n",
      "                ######################     %%%%%%%%%%%%%%%%%%%%\n",
      "                #######################     %%%%%%%%%%%%%%%%%%\n",
      "                 #######################     %%%%%%%%%%%%%%%%%\n",
      "                 ######################     %%%%%%%%%%%%%%%%%\n",
      "                  ####################     %%%%%%%%%%%%%%%%%\n",
      "                    #################     %%%%%%%%%%%%%%%%%\n",
      "                     ###############     %%%%%%%%%%%%%%%%\n",
      "                       ############     %%%%%%%%%%%%%%%\n",
      "                          ########     %%%%%%%%%%%%%%\n",
      "                                      %%%%%%%%%%%\n",
      "\n",
      "                 | The OpenMC Monte Carlo Code\n",
      "       Copyright | 2011-2023 MIT, UChicago Argonne LLC, and contributors\n",
      "         License | https://docs.openmc.org/en/latest/license.html\n",
      "         Version | 0.13.4-dev\n",
      "        Git SHA1 | eea52238dac0162a8b7924b81800af4a3c78798e\n",
      "       Date/Time | 2023-10-06 14:40:49\n",
      "  OpenMP Threads | 8\n",
      "\n",
      " Reading settings XML file...\n",
      " Reading cross sections XML file...\n",
      " Reading materials XML file...\n",
      " Reading geometry XML file...\n",
      " Reading U234 from\n",
      " /home/robertsj/Research/openmc_data/endfb-vii.1-hdf5/neutron/U234.h5\n",
      " Reading U235 from\n",
      " /home/robertsj/Research/openmc_data/endfb-vii.1-hdf5/neutron/U235.h5\n",
      " Reading U238 from\n",
      " /home/robertsj/Research/openmc_data/endfb-vii.1-hdf5/neutron/U238.h5\n",
      " Reading U236 from\n",
      " /home/robertsj/Research/openmc_data/endfb-vii.1-hdf5/neutron/U236.h5\n",
      " Reading O16 from\n",
      " /home/robertsj/Research/openmc_data/endfb-vii.1-hdf5/neutron/O16.h5\n",
      " Reading O17 from\n",
      " /home/robertsj/Research/openmc_data/endfb-vii.1-hdf5/neutron/O17.h5\n",
      " Reading Zr90 from\n",
      " /home/robertsj/Research/openmc_data/endfb-vii.1-hdf5/neutron/Zr90.h5\n",
      " Reading Zr91 from\n",
      " /home/robertsj/Research/openmc_data/endfb-vii.1-hdf5/neutron/Zr91.h5\n",
      " Reading Zr92 from\n",
      " /home/robertsj/Research/openmc_data/endfb-vii.1-hdf5/neutron/Zr92.h5\n",
      " Reading Zr94 from\n",
      " /home/robertsj/Research/openmc_data/endfb-vii.1-hdf5/neutron/Zr94.h5\n",
      " Reading Zr96 from\n",
      " /home/robertsj/Research/openmc_data/endfb-vii.1-hdf5/neutron/Zr96.h5\n",
      " Reading H1 from\n",
      " /home/robertsj/Research/openmc_data/endfb-vii.1-hdf5/neutron/H1.h5\n",
      " Reading H2 from\n",
      " /home/robertsj/Research/openmc_data/endfb-vii.1-hdf5/neutron/H2.h5\n",
      " Reading B10 from\n",
      " /home/robertsj/Research/openmc_data/endfb-vii.1-hdf5/neutron/B10.h5\n",
      " Reading B11 from\n",
      " /home/robertsj/Research/openmc_data/endfb-vii.1-hdf5/neutron/B11.h5\n",
      " Reading c_H_in_H2O from\n",
      " /home/robertsj/Research/openmc_data/endfb-vii.1-hdf5/neutron/c_H_in_H2O.h5\n",
      " Minimum neutron data temperature: 294 K\n",
      " Maximum neutron data temperature: 1200 K\n",
      " Reading tallies XML file...\n",
      " Preparing distributed cell instances...\n",
      " Reading plot XML file...\n",
      " Writing summary.h5 file...\n",
      " Maximum neutron transport energy: 20000000 eV for U235\n",
      " Initializing source particles...\n",
      "\n",
      " ====================>     K EIGENVALUE SIMULATION     <====================\n",
      "\n",
      "  Bat./Gen.      k            Average k\n",
      "  =========   ========   ====================\n",
      "        1/1    1.32005\n",
      "        2/1    1.33129\n",
      "        3/1    1.35135\n",
      "        4/1    1.33530\n",
      "        5/1    1.35792\n",
      "        6/1    1.33058\n",
      "        7/1    1.34982    1.34020 +/- 0.00962\n",
      "        8/1    1.33883    1.33974 +/- 0.00557\n",
      "        9/1    1.33874    1.33949 +/- 0.00395\n",
      "       10/1    1.35399    1.34239 +/- 0.00421\n",
      " Creating state point statepoint.10.h5...\n",
      "\n",
      " =======================>     TIMING STATISTICS     <=======================\n",
      "\n",
      " Total time for initialization     = 9.5616e-01 seconds\n",
      "   Reading cross sections          = 9.3751e-01 seconds\n",
      " Total time in simulation          = 3.1631e+00 seconds\n",
      "   Time in transport only          = 3.1243e+00 seconds\n",
      "   Time in inactive batches        = 9.8932e-01 seconds\n",
      "   Time in active batches          = 2.1738e+00 seconds\n",
      "   Time synchronizing fission bank = 6.2544e-03 seconds\n",
      "     Sampling source sites         = 5.8263e-03 seconds\n",
      "     SEND/RECV source sites        = 4.2228e-04 seconds\n",
      "   Time accumulating tallies       = 9.5268e-03 seconds\n",
      "   Time writing statepoints        = 1.8168e-02 seconds\n",
      " Total time for finalization       = 7.3971e-02 seconds\n",
      " Total time elapsed                = 4.2072e+00 seconds\n",
      " Calculation Rate (inactive)       = 50539.9 particles/second\n",
      " Calculation Rate (active)         = 23001 particles/second\n",
      "\n",
      " ============================>     RESULTS     <============================\n",
      "\n",
      " k-effective (Collision)     = 1.34353 +/- 0.00313\n",
      " k-effective (Track-length)  = 1.34239 +/- 0.00421\n",
      " k-effective (Absorption)    = 1.34103 +/- 0.00657\n",
      " Combined k-effective        = 1.34194 +/- 0.00165\n",
      " Leakage Fraction            = 0.00000 +/- 0.00000\n",
      "\n",
      "loading tallies from statepoint.10.h5\n"
     ]
    }
   ],
   "source": [
    "pwr.run()"
   ]
  },
  {
   "cell_type": "markdown",
   "id": "ec3f380a",
   "metadata": {
    "slideshow": {
     "slide_type": "subslide"
    }
   },
   "source": [
    "By default, two-group parameters (fluxes and cross sections) are produced for energy groups $10^{-3}$-1 eV and 1-$10^{7}$ eV.  Internally, values in each of the fuel, cladding, and coolant regions are produced, but values for a fourth \"non-fuel\" region are computed: **these will be used in place of the moderator values in Eq. (4.18)!**, i.e.,\n",
    "\n",
    "$$\n",
    "  k_{\\infty} = \\frac{V_f \\int^{\\infty}_0 \\nu\\Sigma^f_f(E) \\phi_f(E) dE}\n",
    "   {V_f \\int^{\\infty}_0 \\Sigma_a^f \\phi_f(E) dE \n",
    "     + V_{nf} \\int^{\\infty}_0 \\Sigma_a^{nf}(E) \\phi_{nf}(E) dE} \\, .\n",
    "  \\tag{4.18*} \n",
    "$$\n",
    "\n",
    "For example, the fuel region's fluxes, absorption cross section, and volume are "
   ]
  },
  {
   "cell_type": "code",
   "execution_count": 11,
   "id": "06e8f5ca",
   "metadata": {
    "slideshow": {
     "slide_type": "fragment"
    }
   },
   "outputs": [
    {
     "name": "stdout",
     "output_type": "stream",
     "text": [
      "[26.17763866  3.70332474]\n",
      "[0.03014192 0.27926757]\n",
      "0.5281017250684441\n"
     ]
    }
   ],
   "source": [
    "print(pwr.flux['fuel'])\n",
    "print(pwr.SigmaA['fuel'])\n",
    "print(pwr.volume['fuel'])"
   ]
  },
  {
   "cell_type": "markdown",
   "id": "1ed1302e",
   "metadata": {
    "slideshow": {
     "slide_type": "fragment"
    }
   },
   "source": [
    "**Sanity Check Time**: \n",
    "\n",
    "  - Which flux is the the thermal flux and why?\n",
    "  - How do you print just that value?\n",
    "  - Verify the fuel volume.\n",
    "  \n",
    "The book uses the notation $\\bar{\\phi}_{fT}$ (Eq. (4.44) for the (total) fuel thermal flux.  I prefer the simpler notation $\\phi^f_{T}$ or, where unambiguous, $\\phi^f_2$, where group \"2\" is the thermal group.  In our previous two-group and multigroup content, a group flux $\\phi_g$ is *always* the integral of $\\phi(E)$ over the group energies."
   ]
  },
  {
   "cell_type": "markdown",
   "id": "5f828292",
   "metadata": {
    "slideshow": {
     "slide_type": "fragment"
    }
   },
   "source": [
    "**Double click on me and put your answers here**"
   ]
  },
  {
   "cell_type": "markdown",
   "id": "9e4127a6",
   "metadata": {
    "slideshow": {
     "slide_type": "subslide"
    }
   },
   "source": [
    "In the book, the various four factors are defined in terms of fast (F), intermediate (I), and thermal (T) reaction rates in the fuel (f) and moderator (m) regions.  Here, we're changing (m) to (nf) as noted above and lumping (I) and (F) together as one larger fast group (F).  \n",
    "\n",
    "In the equations for $\\eta_T$, $f$, $p$, and $\\epsilon$ below, I want you to modify the expressions to account for these changes.  "
   ]
  },
  {
   "cell_type": "markdown",
   "id": "6f74e8c9",
   "metadata": {
    "slideshow": {
     "slide_type": "fragment"
    }
   },
   "source": [
    "**Reproduction Factor** \n",
    "\n",
    "$$\n",
    "  \\eta_T = \\frac{\\nu\\bar{\\Sigma}_{fT}^f} {\\bar{\\Sigma}^f_{aT}}\n",
    "  \\tag{4.49}\n",
    "$$"
   ]
  },
  {
   "cell_type": "markdown",
   "id": "00422ad4",
   "metadata": {
    "slideshow": {
     "slide_type": "fragment"
    }
   },
   "source": [
    "**Thermal Utilization**\n",
    "\n",
    "$$\n",
    " f = \\frac{1}{1 + \\zeta \\left(V_m \\bar{\\Sigma}^m_{aT} \\big/ V_f \\bar{\\Sigma}^f_{aT} \\right ) } \\, ,\n",
    " \\tag{4.48}\n",
    "$$\n",
    "\n",
    "where\n",
    "\n",
    "$$\n",
    "  \\zeta = \\frac{\\bar{\\phi}_{mT}}{\\bar{\\phi}_{fT}} \\, ,\n",
    "  \\tag{4.50}\n",
    "$$\n",
    "\n",
    "is the *thermal disadvantage factor*."
   ]
  },
  {
   "cell_type": "markdown",
   "id": "c81917af",
   "metadata": {
    "slideshow": {
     "slide_type": "fragment"
    }
   },
   "source": [
    "**Resonance Escape Probability**\n",
    "\n",
    "$$\n",
    " p = 1 - \\frac{V_f \\int_I \\Sigma_a^f(E) \\phi_f(E) dE} \n",
    "              {V_f \\left [ \\int_T \\Sigma_a^f(E) \\phi_f(E) dE + \\int_T \\Sigma_a^f(E) \\phi_f(E) dE \\right ] \n",
    "               + V_m \\int_T \\Sigma_a^m(E) \\phi_m(E) dE } \\, .\n",
    " \\tag{4.28}               \n",
    "$$"
   ]
  },
  {
   "cell_type": "markdown",
   "id": "f8f3195f",
   "metadata": {
    "slideshow": {
     "slide_type": "fragment"
    }
   },
   "source": [
    "**Fast Fission Factor**\n",
    "\n",
    "$$\n",
    " \\varepsilon = \\frac{\\int_T \\nu\\Sigma_f^f(E) \\phi_f(E) dE + \\int_F \\nu\\Sigma_f^f(E) \\phi_f(E) dE}\n",
    " {\\int_T \\nu\\Sigma_f^f(E) \\phi_f(E) dE} \\, .\n",
    " \\tag{4.25}\n",
    "$$"
   ]
  },
  {
   "cell_type": "markdown",
   "id": "12fa7336",
   "metadata": {
    "slideshow": {
     "slide_type": "subslide"
    }
   },
   "source": [
    "In the expressions for $p$ and $\\varepsilon$, integrals over energies are taken.  With use of effective cross sections, one can write, e.g.,\n",
    "\n",
    "$$\n",
    "    V_f \\int_T \\Sigma^f_a(E) \\phi_f(E) dE = V_f \\bar{\\Sigma}_{aT} \\phi_{fT} .\n",
    "$$\n",
    "\n",
    "Either in new cells or your (paper) notes, simplify your modified Eqs. (4.25) and (4.28) in terms of the effective cross sections and group-wise fluxes.\n",
    "\n",
    "With those definitions, compute the four factors for our unit cell:"
   ]
  },
  {
   "cell_type": "markdown",
   "id": "6398219b",
   "metadata": {
    "slideshow": {
     "slide_type": "skip"
    }
   },
   "source": [
    "Here are the modified expressions:\n",
    "\n",
    "$$\n",
    "  \\eta_T = \\frac{\\nu\\bar{\\Sigma}_{fT}^f} {\\bar{\\Sigma}^f_{aT}} \n",
    "  \\qquad \\text{reproduction factor}\n",
    "  \\tag{4.49*}\n",
    "$$\n",
    "\n",
    "$$\n",
    " f = \\frac{1}{1 + \\zeta \\left(V_{nf} \\bar{\\Sigma}^{nf}_{aT} \\big/ V_f \\bar{\\Sigma}^f_{aT} \\right ) } \n",
    " \\qquad \\text{thermal utilization}\n",
    " \\tag{4.48*}\n",
    "$$\n",
    "\n",
    "$$\n",
    " p = 1 - \\frac{V_f \\bar{\\Sigma}^f_{aF} \\phi^{f}_{F}}\n",
    "   {V_f \\left[ \\bar{\\Sigma}^f_{aT} \\phi^{f}_{T} + \\bar{\\Sigma}^f_{aF} \\phi^{f}_{F} \\right ]+ V_{nf} \\bar{\\Sigma}^{nf}_{aT} \\phi^{nf}_{T}} \n",
    " \\qquad \\text{resonance escape probability}\n",
    " \\tag{4.28*}\n",
    "$$\n",
    "\n",
    "$$\n",
    "\\varepsilon = \\frac{\\nu\\bar{\\Sigma}^f_{fT} \\phi^{f}_{T} + \\nu\\bar{\\Sigma}^f_{fF} \\phi^{f}_{F} }\n",
    "   {\\nu\\bar{\\Sigma}^f_{fF} \\phi^{f}_{F} } \n",
    " \\qquad \\text{fast fission factor}\n",
    "\\tag{4.25*}\n",
    "$$"
   ]
  },
  {
   "cell_type": "code",
   "execution_count": 12,
   "id": "864601cc",
   "metadata": {
    "slideshow": {
     "slide_type": "fragment"
    }
   },
   "outputs": [
    {
     "data": {
      "text/plain": [
       "1.8706431329975584"
      ]
     },
     "execution_count": 12,
     "metadata": {},
     "output_type": "execute_result"
    }
   ],
   "source": [
    "## eta_T here\n",
    "φ_Tf = pwr.flux['fuel'][1]\n",
    "Σa_Tf = pwr.SigmaA['fuel'][1]\n",
    "νΣf_Tf = pwr.nuSigmaF['fuel'][1]\n",
    "\n",
    "eta_T = νΣf_Tf/Σa_Tf\n",
    "eta_T"
   ]
  },
  {
   "cell_type": "code",
   "execution_count": 13,
   "id": "7f942443",
   "metadata": {
    "slideshow": {
     "slide_type": "fragment"
    }
   },
   "outputs": [
    {
     "data": {
      "text/plain": [
       "0.9506436943748207"
      ]
     },
     "execution_count": 13,
     "metadata": {},
     "output_type": "execute_result"
    }
   ],
   "source": [
    "## f here\n",
    "φ_Tnf = pwr.flux['non-fuel'][1]\n",
    "Σa_Tnf = pwr.SigmaA['non-fuel'][1]\n",
    "V_f = pwr.volume['fuel']\n",
    "V_nf = pwr.volume['non-fuel']\n",
    "\n",
    "f = (V_f*Σa_Tf*φ_Tf) / \\\n",
    "    (V_f*Σa_Tf*φ_Tf + V_nf*Σa_Tnf*φ_Tnf)\n",
    "\n",
    "f"
   ]
  },
  {
   "cell_type": "code",
   "execution_count": 14,
   "id": "d2720166",
   "metadata": {
    "slideshow": {
     "slide_type": "fragment"
    }
   },
   "outputs": [
    {
     "data": {
      "text/plain": [
       "0.5848274289096761"
      ]
     },
     "execution_count": 14,
     "metadata": {},
     "output_type": "execute_result"
    }
   ],
   "source": [
    "## p here\n",
    "φ_Ff = pwr.flux['fuel'][0]\n",
    "Σa_Ff = pwr.SigmaA['fuel'][0]\n",
    "φ_Fnf = pwr.flux['non-fuel'][0]\n",
    "Σa_Fnf = pwr.SigmaA['non-fuel'][0]\n",
    "\n",
    "p = 1  - (V_f*Σa_Ff*φ_Ff)/ \\\n",
    "         (V_f*(Σa_Tf*φ_Tf+Σa_Ff*φ_Ff) + V_nf*(Σa_Tnf*φ_Tnf+Σa_Fnf*φ_Fnf))   \n",
    "p"
   ]
  },
  {
   "cell_type": "code",
   "execution_count": 15,
   "id": "32f4e2bb",
   "metadata": {
    "slideshow": {
     "slide_type": "fragment"
    }
   },
   "outputs": [
    {
     "data": {
      "text/plain": [
       "1.3125785992824377"
      ]
     },
     "execution_count": 15,
     "metadata": {},
     "output_type": "execute_result"
    }
   ],
   "source": [
    "## epsilon here\n",
    "νΣf_Ff = pwr.nuSigmaF['fuel'][0]\n",
    "\n",
    "epsilon = (νΣf_Ff*φ_Ff + νΣf_Tf*φ_Tf)/(νΣf_Tf*φ_Tf)\n",
    "epsilon"
   ]
  },
  {
   "cell_type": "markdown",
   "id": "bccf117d",
   "metadata": {
    "slideshow": {
     "slide_type": "subslide"
    }
   },
   "source": [
    "Finally, use these four factors to compute the multiplication factor, i.e.,\n",
    "\n",
    "$$\n",
    "  k_{\\infty} = \\varepsilon p f \\eta_T  \\, .\n",
    "  \\tag{4.24}\n",
    "$$"
   ]
  },
  {
   "cell_type": "code",
   "execution_count": 16,
   "id": "eed56e9f",
   "metadata": {
    "slideshow": {
     "slide_type": "fragment"
    }
   },
   "outputs": [
    {
     "data": {
      "text/plain": [
       "1.3650915180634822"
      ]
     },
     "execution_count": 16,
     "metadata": {},
     "output_type": "execute_result"
    }
   ],
   "source": [
    "## kinf here\n",
    "kinf = eta_T*f*p*epsilon\n",
    "kinf"
   ]
  },
  {
   "cell_type": "markdown",
   "id": "7be6d6d8",
   "metadata": {
    "slideshow": {
     "slide_type": "fragment"
    }
   },
   "source": [
    "## Exercises\n",
    "\n",
    "   1. An approximation made in Eq. (4.28*) is that no absorption of neutrons above 1 eV occurs in the non-fuel regions.  Write down an updated expression for $p$ that includes this absorption and compute the new value.  By what percentage does $k_{\\infty}$ change?\n",
    "   2. Plot the PWR spectra. Do they overlap as much as for the SFR?\n",
    "   3. Compute $k_{\\infty} = \\text{gains}/\\text{losses}$ using the two-group fluxes and cross sections for the PWR."
   ]
  }
 ],
 "metadata": {
  "celltoolbar": "Slideshow",
  "kernelspec": {
   "display_name": "Python 3 (ipykernel)",
   "language": "python",
   "name": "python3"
  },
  "language_info": {
   "codemirror_mode": {
    "name": "ipython",
    "version": 3
   },
   "file_extension": ".py",
   "mimetype": "text/x-python",
   "name": "python",
   "nbconvert_exporter": "python",
   "pygments_lexer": "ipython3",
   "version": "3.11.4"
  },
  "rise": {
   "scroll": true
  }
 },
 "nbformat": 4,
 "nbformat_minor": 5
}
