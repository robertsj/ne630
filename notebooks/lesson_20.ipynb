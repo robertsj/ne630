{
 "cells": [
  {
   "cell_type": "markdown",
   "id": "c58a90f6",
   "metadata": {
    "slideshow": {
     "slide_type": "slide"
    }
   },
   "source": [
    "# NE 630 - Lesson 20\n",
    "\n",
    "**Last Time**: Parametric studies and optimization of unit cells.\n",
    "\n",
    "**Today**: reactivity feedback"
   ]
  },
  {
   "cell_type": "markdown",
   "id": "e66801e1",
   "metadata": {
    "slideshow": {
     "slide_type": "slide"
    }
   },
   "source": [
    "## What is Reactivity?"
   ]
  },
  {
   "cell_type": "markdown",
   "id": "465e19ee",
   "metadata": {
    "slideshow": {
     "slide_type": "fragment"
    }
   },
   "source": [
    "Recall that\n",
    "\n",
    "$$\n",
    "  k_{\\infty} = \\frac{\\text{total fission rate}}{\\text{total absorption rate}} \\, .\n",
    "$$"
   ]
  },
  {
   "cell_type": "markdown",
   "id": "1f0cbf9d",
   "metadata": {
    "slideshow": {
     "slide_type": "fragment"
    }
   },
   "source": [
    "Then the *reactivity* is defined as\n",
    "\n",
    "$$\n",
    "  \\rho_{\\infty} = \\frac{k_{\\infty} - 1}{k_{\\infty}} \\, \n",
    "  \\tag{Equivalent to 9.1}\n",
    "$$"
   ]
  },
  {
   "cell_type": "markdown",
   "id": "cc5365f0",
   "metadata": {
    "slideshow": {
     "slide_type": "subslide"
    }
   },
   "source": [
    "**Example**: Compute the reactivity of a reactor with $k_{\\infty} = 1.01$."
   ]
  },
  {
   "cell_type": "code",
   "execution_count": 1,
   "id": "4dba44df",
   "metadata": {
    "slideshow": {
     "slide_type": "fragment"
    }
   },
   "outputs": [
    {
     "data": {
      "text/plain": [
       "0.00990099009900991"
      ]
     },
     "execution_count": 1,
     "metadata": {},
     "output_type": "execute_result"
    }
   ],
   "source": [
    "rho = (1.01-1)/1.01\n",
    "rho"
   ]
  },
  {
   "cell_type": "markdown",
   "id": "e6513496",
   "metadata": {
    "slideshow": {
     "slide_type": "subslide"
    }
   },
   "source": [
    "Reactivity, like the multiplication factor, is *unitless*, but we often label it with the unit $[dk/k]$. There are also special \"units\" we use to scale reactivities numerically:\n",
    "\n",
    "  - A *dollar* (\\\\$) of reactivity is numerically equal to $\\beta$, the fraction of fission neutrons that are *delayed*.\n",
    "  - A *pcm* (percent-milli) of reactivity is numerically equal to $10^{-5} = 10^{-2} 10^{-3} = 1~\\text{m}\\%$ (where m is for milli)"
   ]
  },
  {
   "cell_type": "markdown",
   "id": "2c493499",
   "metadata": {
    "slideshow": {
     "slide_type": "fragment"
    }
   },
   "source": [
    "**Example**: How many dollars of reactivity is $\\rho = 0.01$ dk/k?  pcm?"
   ]
  },
  {
   "cell_type": "code",
   "execution_count": 2,
   "id": "9551e380",
   "metadata": {
    "slideshow": {
     "slide_type": "fragment"
    }
   },
   "outputs": [
    {
     "data": {
      "text/plain": [
       "999.9999999999999"
      ]
     },
     "execution_count": 2,
     "metadata": {},
     "output_type": "execute_result"
    }
   ],
   "source": [
    "beta = 0.007 # for U-235\n",
    "rho = 0.01 # dk/k\n",
    "rho_dollars = rho / beta\n",
    "rho_dollars\n",
    "rho_pcm = rho / 1e-5\n",
    "rho_pcm"
   ]
  },
  {
   "cell_type": "markdown",
   "id": "d7aff737",
   "metadata": {
    "slideshow": {
     "slide_type": "slide"
    }
   },
   "source": [
    "## Reactivity Coefficients"
   ]
  },
  {
   "cell_type": "markdown",
   "id": "32d33559",
   "metadata": {
    "slideshow": {
     "slide_type": "fragment"
    }
   },
   "source": [
    "We often care how $\\rho$ changes when a system property (like temperature) changes.  In other words, we want to compute for some property $x$ the following:\n",
    "\n",
    "$$\n",
    "   \\frac{d\\rho}{dx} = \\frac{d\\rho}{dk} \\frac{\\partial k}{\\partial x}\n",
    "   \\tag{***}\n",
    "$$"
   ]
  },
  {
   "cell_type": "markdown",
   "id": "3b345d20",
   "metadata": {
    "slideshow": {
     "slide_type": "fragment"
    }
   },
   "source": [
    "The first term on the right is\n",
    "\n",
    "$$\n",
    "   \\frac{d\\rho}{dk} = \\frac{1}{k^2} \\approx \\frac{1}{k} \n",
    "   \\tag{Equivalent to 9.2} \n",
    "$$\n",
    "\n",
    "where the $\\approx$ is really only justified for nearly-critical systems!"
   ]
  },
  {
   "cell_type": "markdown",
   "id": "17a33b07",
   "metadata": {
    "slideshow": {
     "slide_type": "fragment"
    }
   },
   "source": [
    "Then, we can write \\*\\*\\* as \n",
    "\n",
    "$$\n",
    "   \\frac{d\\rho}{dx} \\approx \\frac{1}{k} \\frac{\\partial k}{\\partial x} \n",
    "     = \\frac{1}{\\varepsilon}\\frac{\\partial \\varepsilon}{\\partial x} \n",
    "     + \\frac{1}{p}\\frac{\\partial p}{\\partial x}\n",
    "     + \\frac{1}{\\eta_T}\\frac{\\partial \\eta_T}{\\partial x}\n",
    "     + \\frac{1}{f}\\frac{\\partial f}{\\partial x}\n",
    "   \\tag{Equivalent to 9.10}\n",
    "$$\n",
    "\n",
    "This is a *reactivity coefficient*, and given $\\delta x$, we want $\\delta \\rho$."
   ]
  },
  {
   "cell_type": "markdown",
   "id": "1d8568f6",
   "metadata": {
    "slideshow": {
     "slide_type": "subslide"
    }
   },
   "source": [
    "## Fuel Temperature Coefficient\n",
    "\n",
    "The FTC is dominated by changes in resonance absorption via Doppler broadening."
   ]
  },
  {
   "cell_type": "markdown",
   "id": "b960c59d",
   "metadata": {
    "slideshow": {
     "slide_type": "subslide"
    }
   },
   "source": [
    "A simple approximation for $p$ is \n",
    "\n",
    "$$\n",
    "  p = \\exp \\left ( - \\frac{V_f N_{fe}}{V_m \\xi^m \\Sigma^m_s} I(T_f) \\right )\n",
    "\\tag{4.40}\n",
    "$$\n",
    "\n",
    "where \n",
    "\n",
    "$$\n",
    "  I(T_f) \\approx I(300) [ 1 + \\bar{\\gamma} ( \\sqrt{T_f} - \\sqrt{300}) \\, ,\n",
    "  \\tag{9.13}\n",
    "$$\n",
    "\n",
    "$$\n",
    "  \\bar{\\gamma} = 0.0061 + 0.0047 (4/\\rho D) \\, ,\n",
    "  \\tag{Table 9.1}\n",
    "$$\n",
    "\n",
    "and \n",
    "\n",
    "$$\n",
    "  I(300) = 4.45 + 26.6\\sqrt{4/\\rho D} \\, ,\n",
    "  \\tag{Table 4.3}\n",
    "$$\n",
    "\n",
    "is the resonance integral (in barns!).\n",
    "\n",
    "\n"
   ]
  },
  {
   "cell_type": "markdown",
   "id": "ff37a48e",
   "metadata": {
    "slideshow": {
     "slide_type": "fragment"
    }
   },
   "source": [
    "With these expressions, the fuel-temperature coefficient is\n",
    "\n",
    "$$\n",
    "  \\frac{d\\rho}{dT_f} \\equiv \\alpha_{f} = \n",
    "    - \\frac{\\bar{\\gamma}}{2\\sqrt{T_f}}\\ln(1/p(T_0)) \\, .\n",
    "   \\tag{9.16}\n",
    "$$ \n",
    "\n",
    "Remember that this coefficient is a function of $T_f$."
   ]
  },
  {
   "cell_type": "markdown",
   "id": "7a58a0c6",
   "metadata": {
    "slideshow": {
     "slide_type": "subslide"
    }
   },
   "source": [
    "## Exercise\n",
    "\n",
    "Compute $\\alpha_f$ for our PWR previously analyzed with `LWRUnitCell`.  Use the default settings."
   ]
  },
  {
   "cell_type": "markdown",
   "id": "c8923d69",
   "metadata": {
    "slideshow": {
     "slide_type": "subslide"
    }
   },
   "source": [
    "**Solution**\n",
    "\n",
    "We can actually use the `LWRUnitCell` class to get many of the parameters needed."
   ]
  },
  {
   "cell_type": "code",
   "execution_count": 3,
   "id": "044ad525",
   "metadata": {},
   "outputs": [],
   "source": [
    "import sys\n",
    "sys.path.append(\"unitcell\") \n",
    "from unitcell_utils import *\n",
    "\n",
    "import warnings                    # THIS IS GENERALLY NOT RECOMMNENDED\n",
    "warnings.filterwarnings(\"ignore\")  # BUT NOBODY WILL DIE...."
   ]
  },
  {
   "cell_type": "code",
   "execution_count": 4,
   "id": "3258b692",
   "metadata": {
    "slideshow": {
     "slide_type": "fragment"
    }
   },
   "outputs": [],
   "source": [
    "pwr = LWRUnitCell(T_fuel=900)"
   ]
  },
  {
   "cell_type": "code",
   "execution_count": 5,
   "id": "be932e6b",
   "metadata": {
    "slideshow": {
     "slide_type": "fragment"
    }
   },
   "outputs": [],
   "source": [
    "V_f = pwr.volume['fuel']\n",
    "V_m = pwr.volume['non-fuel']\n",
    "xi = 0.94 # from Table 3.1\n",
    "D = 2*pwr.r_fuel\n",
    "N_fe = pwr.fuel.get_nuclide_atom_densities()['U238']\n",
    "rho_f = pwr.fuel.density\n",
    "I_300 = (4.45 + 26.6*np.sqrt(4/rho_f/D))*1e-24\n",
    "N_H1 = pwr.coolant.get_nuclide_atom_densities()['H1']\n",
    "N_O16 = pwr.coolant.get_nuclide_atom_densities()['O16']\n",
    "Sigma_sm = (47.7*N_H1 + 4.01*N_O16)*1e-24 # sigma_s values from Table 3.2"
   ]
  },
  {
   "cell_type": "code",
   "execution_count": 6,
   "id": "983ac941",
   "metadata": {
    "slideshow": {
     "slide_type": "fragment"
    }
   },
   "outputs": [
    {
     "data": {
      "text/plain": [
       "0.8337009704199803"
      ]
     },
     "execution_count": 6,
     "metadata": {},
     "output_type": "execute_result"
    }
   ],
   "source": [
    "p_300 = np.exp(-V_f*N_fe*I_300/(V_m*xi*Sigma_sm))\n",
    "p_300"
   ]
  },
  {
   "cell_type": "code",
   "execution_count": 7,
   "id": "9ddcd66f",
   "metadata": {
    "slideshow": {
     "slide_type": "fragment"
    }
   },
   "outputs": [],
   "source": [
    "bar_gamma = 0.0061 + 0.0047 * 4 / (rho_f*D)"
   ]
  },
  {
   "cell_type": "code",
   "execution_count": 8,
   "id": "097d2fb3",
   "metadata": {
    "slideshow": {
     "slide_type": "fragment"
    }
   },
   "outputs": [],
   "source": [
    "α_f = -bar_gamma/(2*np.sqrt(900))*np.log(1/p_300)"
   ]
  },
  {
   "cell_type": "code",
   "execution_count": 9,
   "id": "fffceca7",
   "metadata": {
    "slideshow": {
     "slide_type": "fragment"
    }
   },
   "outputs": [
    {
     "data": {
      "text/plain": [
       "-2.482331866969493e-05"
      ]
     },
     "execution_count": 9,
     "metadata": {},
     "output_type": "execute_result"
    }
   ],
   "source": [
    "α_f"
   ]
  },
  {
   "cell_type": "code",
   "execution_count": 1,
   "id": "068566e6",
   "metadata": {
    "slideshow": {
     "slide_type": "fragment"
    }
   },
   "outputs": [
    {
     "ename": "NameError",
     "evalue": "name 'α_f' is not defined",
     "output_type": "error",
     "traceback": [
      "\u001b[0;31m---------------------------------------------------------------------------\u001b[0m",
      "\u001b[0;31mNameError\u001b[0m                                 Traceback (most recent call last)",
      "Cell \u001b[0;32mIn[1], line 1\u001b[0m\n\u001b[0;32m----> 1\u001b[0m \u001b[38;5;28mprint\u001b[39m(\u001b[38;5;124m\"\u001b[39m\u001b[38;5;124mα_f = \u001b[39m\u001b[38;5;132;01m{:.3f}\u001b[39;00m\u001b[38;5;124m pcm/K\u001b[39m\u001b[38;5;124m\"\u001b[39m\u001b[38;5;241m.\u001b[39mformat(\u001b[43mα_f\u001b[49m\u001b[38;5;241m/\u001b[39m\u001b[38;5;241m1e-5\u001b[39m))\n",
      "\u001b[0;31mNameError\u001b[0m: name 'α_f' is not defined"
     ]
    }
   ],
   "source": [
    "print(\"α_f = {:.3f} pcm/K\".format(α_f/1e-5))"
   ]
  },
  {
   "cell_type": "markdown",
   "id": "9caf5c35",
   "metadata": {
    "slideshow": {
     "slide_type": "fragment"
    }
   },
   "source": [
    "We can also use OpenMC directly to compute $\\alpha_f$ using the finite-difference approximation\n",
    "\n",
    "$$\n",
    "  \\alpha_f \\approx \\frac{\\rho(T_f+\\Delta)-\\rho(T_f)}{\\Delta} = \\frac{ \\frac{k(T_f+\\Delta)-1}{k(T_f+\\Delta)} -  \\frac{k(T_f)-1}{k(T_f)}}{ \\Delta} = \\frac{1}{\\Delta} \\left( \\frac{1}{ k(T_f)} - \\frac{1}{k(T_f+\\Delta)} \\right ) \\, ,\n",
    "$$\n",
    "\n",
    "where $T_f = 900$ K and $\\Delta$ is a suitable step size, e.g., 100 K.  However, we need to use `pwr.run(ng=N)` where `N` is large enough so that uncertainties are negligible.  I assume that `N = 1e6` is large enough (but you can also perform a sanity check by going from `1e6` to `2e6` and seeing when a further increase in `N` does not appear to change the result."
   ]
  }
 ],
 "metadata": {
  "celltoolbar": "Slideshow",
  "kernelspec": {
   "display_name": "Python 3 (ipykernel)",
   "language": "python",
   "name": "python3"
  },
  "language_info": {
   "codemirror_mode": {
    "name": "ipython",
    "version": 3
   },
   "file_extension": ".py",
   "mimetype": "text/x-python",
   "name": "python",
   "nbconvert_exporter": "python",
   "pygments_lexer": "ipython3",
   "version": "3.11.4"
  },
  "rise": {
   "scroll": true
  }
 },
 "nbformat": 4,
 "nbformat_minor": 5
}
