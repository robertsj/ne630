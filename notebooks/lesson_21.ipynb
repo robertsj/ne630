{
 "cells": [
  {
   "cell_type": "code",
   "execution_count": 1,
   "id": "864c1f67",
   "metadata": {},
   "outputs": [],
   "source": [
    "import sympy as sy"
   ]
  },
  {
   "cell_type": "code",
   "execution_count": 7,
   "id": "2c4ab794",
   "metadata": {},
   "outputs": [],
   "source": [
    "D, T, r = sy.symbols('D, T, r')\n",
    "rho = sy.Function('rho')"
   ]
  },
  {
   "cell_type": "code",
   "execution_count": 4,
   "id": "5a720bb6",
   "metadata": {},
   "outputs": [
    {
     "data": {
      "text/latex": [
       "$\\displaystyle e^{- \\frac{D}{\\rho{\\left(T \\right)}}}$"
      ],
      "text/plain": [
       "exp(-D/rho(T))"
      ]
     },
     "execution_count": 4,
     "metadata": {},
     "output_type": "execute_result"
    }
   ],
   "source": [
    "p = sy.exp(-D/rho(T))\n",
    "p"
   ]
  },
  {
   "cell_type": "code",
   "execution_count": 6,
   "id": "b8933db9",
   "metadata": {},
   "outputs": [
    {
     "data": {
      "text/latex": [
       "$\\displaystyle \\frac{D e^{- \\frac{D}{\\rho{\\left(T \\right)}}} \\frac{d}{d T} \\rho{\\left(T \\right)}}{\\rho^{2}{\\left(T \\right)}}$"
      ],
      "text/plain": [
       "D*exp(-D/rho(T))*Derivative(rho(T), T)/rho(T)**2"
      ]
     },
     "execution_count": 6,
     "metadata": {},
     "output_type": "execute_result"
    }
   ],
   "source": [
    "sy.diff(p, T).simplify()"
   ]
  },
  {
   "cell_type": "code",
   "execution_count": 8,
   "id": "a936d4f9",
   "metadata": {},
   "outputs": [
    {
     "data": {
      "text/latex": [
       "$\\displaystyle \\frac{D e^{- \\frac{D}{r}}}{r^{2}}$"
      ],
      "text/plain": [
       "D*exp(-D/r)/r**2"
      ]
     },
     "execution_count": 8,
     "metadata": {},
     "output_type": "execute_result"
    }
   ],
   "source": [
    "sy.diff(sy.exp(-D/r), r)"
   ]
  },
  {
   "cell_type": "code",
   "execution_count": 11,
   "id": "6d6c991e",
   "metadata": {},
   "outputs": [],
   "source": [
    "from iapws import IAPWS97"
   ]
  },
  {
   "cell_type": "code",
   "execution_count": 13,
   "id": "2e9fc9f0",
   "metadata": {},
   "outputs": [
    {
     "data": {
      "text/plain": [
       "0.00028981971605230303"
      ]
     },
     "execution_count": 13,
     "metadata": {},
     "output_type": "execute_result"
    }
   ],
   "source": [
    "IAPWS97(T=300, P=15.5).alfav"
   ]
  },
  {
   "cell_type": "code",
   "execution_count": 25,
   "id": "421a3b54",
   "metadata": {},
   "outputs": [
    {
     "data": {
      "text/plain": [
       "-0.0002970688287884495"
      ]
     },
     "execution_count": 25,
     "metadata": {},
     "output_type": "execute_result"
    }
   ],
   "source": [
    "(IAPWS97(T=302, P=14.5).rho-IAPWS97(T=300, P=14.5).rho)/2/IAPWS97(T=300, P=14.5).rho"
   ]
  },
  {
   "cell_type": "code",
   "execution_count": 18,
   "id": "9201e1e1",
   "metadata": {},
   "outputs": [
    {
     "data": {
      "text/plain": [
       "0.00011547005383792514"
      ]
     },
     "execution_count": 18,
     "metadata": {},
     "output_type": "execute_result"
    }
   ],
   "source": [
    "import numpy as np\n",
    "\n",
    "0.008/2/np.sqrt(1200)"
   ]
  },
  {
   "cell_type": "code",
   "execution_count": 23,
   "id": "2b4b32b1",
   "metadata": {},
   "outputs": [
    {
     "data": {
      "text/plain": [
       "2.5766397883837616e-05"
      ]
     },
     "execution_count": 23,
     "metadata": {},
     "output_type": "execute_result"
    }
   ],
   "source": [
    "np.log(1/0.8)*.008/2/np.sqrt(1200)"
   ]
  },
  {
   "cell_type": "code",
   "execution_count": 31,
   "id": "49114281",
   "metadata": {},
   "outputs": [
    {
     "data": {
      "text/plain": [
       "-0.00014523943089213732"
      ]
     },
     "execution_count": 31,
     "metadata": {},
     "output_type": "execute_result"
    }
   ],
   "source": [
    "-2.9e-4 * (np.log(1/.6) - (1-0.99))"
   ]
  },
  {
   "cell_type": "code",
   "execution_count": null,
   "id": "98f872dc",
   "metadata": {},
   "outputs": [],
   "source": []
  }
 ],
 "metadata": {
  "kernelspec": {
   "display_name": "Python 3 (ipykernel)",
   "language": "python",
   "name": "python3"
  },
  "language_info": {
   "codemirror_mode": {
    "name": "ipython",
    "version": 3
   },
   "file_extension": ".py",
   "mimetype": "text/x-python",
   "name": "python",
   "nbconvert_exporter": "python",
   "pygments_lexer": "ipython3",
   "version": "3.11.5"
  }
 },
 "nbformat": 4,
 "nbformat_minor": 5
}
