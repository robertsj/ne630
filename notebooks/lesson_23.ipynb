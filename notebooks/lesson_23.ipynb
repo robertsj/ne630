{
 "cells": [
  {
   "cell_type": "markdown",
   "id": "b2d1a68f",
   "metadata": {
    "slideshow": {
     "slide_type": "slide"
    }
   },
   "source": [
    "# NE 630 - Lesson 23\n",
    "\n",
    "**LAST TIME**: reactivity control and fission products (our focus was on Xe-135, but Sm-149 is also important!)\n",
    "\n",
    "**TODAY**: fuel depletion, burnup, and the impact on reactivity "
   ]
  },
  {
   "cell_type": "markdown",
   "id": "c6ef22c1",
   "metadata": {
    "slideshow": {
     "slide_type": "slide"
    }
   },
   "source": [
    "# What *is* Depletion?"
   ]
  },
  {
   "cell_type": "markdown",
   "id": "87c273e8",
   "metadata": {
    "slideshow": {
     "slide_type": "fragment"
    }
   },
   "source": [
    "**Depletion** refers to the changes--primarily decreases--in the number of *fuel nuclei* in the core as a function of time at power.  "
   ]
  },
  {
   "cell_type": "markdown",
   "id": "ce3d9503",
   "metadata": {
    "slideshow": {
     "slide_type": "subslide"
    }
   },
   "source": [
    "Here's a typical *actinide chain* used for real-world reactor analysis that accounts for 25 nuclides:\n",
    "\n",
    "![Actinide chain](https://www-nds.iaea.org/wimsd/images/achain.gif)\n",
    "\n",
    "(Source: https://www-nds.iaea.org/wimsd/achain.htm)"
   ]
  },
  {
   "cell_type": "markdown",
   "id": "f6ea164d",
   "metadata": {
    "slideshow": {
     "slide_type": "fragment"
    }
   },
   "source": [
    "Click [here](https://www-nds.iaea.org/wimsd/fpbchains.htm) for chains to track various fission products."
   ]
  },
  {
   "cell_type": "markdown",
   "id": "c31958dd",
   "metadata": {
    "slideshow": {
     "slide_type": "slide"
    }
   },
   "source": [
    "# A Simplified Depletion Model"
   ]
  },
  {
   "cell_type": "markdown",
   "id": "b204f479",
   "metadata": {
    "slideshow": {
     "slide_type": "fragment"
    }
   },
   "source": [
    "**First approximation**: Track only ${}^{235}$U, ${}^{238}$U, and ${}^{239}$Pu, and ignore their decay."
   ]
  },
  {
   "cell_type": "markdown",
   "id": "4898f089",
   "metadata": {
    "slideshow": {
     "slide_type": "fragment"
    }
   },
   "source": [
    "**Second approximation**: ${}^{239}$Pu is produced *directly* and *immediately* from ${}^{238}$U (n,$\\gamma$) reactions."
   ]
  },
  {
   "cell_type": "markdown",
   "id": "c0506b67",
   "metadata": {
    "slideshow": {
     "slide_type": "fragment"
    }
   },
   "source": [
    "**Third approximation**: The amount of ${}^{238}$U is so large that absorption losses are neglible, and the amount of ${}^{238}$U remains constant."
   ]
  },
  {
   "cell_type": "markdown",
   "id": "9e07a57d",
   "metadata": {
    "slideshow": {
     "slide_type": "subslide"
    }
   },
   "source": [
    "**The resulting model**:\n",
    "\n",
    "$$\n",
    "\\begin{split}\n",
    "\\frac{dN^{\\text{U}235}}{dt} &=  -N^{\\text{U}235}(t) \\bar{\\sigma}^{\\text{U}235}_a \\phi \\\\\n",
    " \\longrightarrow \\, & \\boxed{N^{\\text{U}235}(t) = N^{\\text{U}235}(0) e^{-\\bar{\\sigma}^{\\text{U}235}_a \\phi t}} \n",
    "\\end{split}\n",
    "\\tag{10.27 $\\rightarrow$ 10.31}\n",
    "$$\n",
    "\n",
    "$$\n",
    "\\begin{split}\n",
    "\\frac{dN^{\\text{U}238}}{dt} &= -N^{\\text{U}238}(t) \\bar{\\sigma}^{\\text{U}238}_a \\phi \\approx 0 \\\\\n",
    " \\longrightarrow \\, & \\boxed{N^{\\text{U}238}(t) = N^{\\text{U}238}(0)}\n",
    "\\end{split}\n",
    "\\tag{10.27 $\\rightarrow$  10.34}\n",
    "$$\n",
    "\n",
    "$$\n",
    "\\begin{split}\n",
    "\\frac{dN^{\\text{Pu}239}}{dt} &=  \n",
    " N^{\\text{U}238}(t) \\bar{\\sigma}^{\\text{U}238}_{\\gamma} \\phi \n",
    " - N^{\\text{Pu}239}(t) \\bar{\\sigma}^{\\text{Pu}239}_a \\phi \\\\\n",
    "\\longrightarrow \\, & \\boxed{N^{\\text{Pu}239}(t) \n",
    "  = \\frac{\\bar{\\sigma}^{\\text{U}238}_{\\gamma}}{\\bar{\\sigma}^{\\text{Pu}239}_a} \n",
    "    N^{\\text{U}238}(0) \\left [1 - e^{-\\bar{\\sigma}^{\\text{Pu}239}_a \\phi t} \\right ]}\n",
    "\\end{split}    \n",
    "\\tag{10.30 $\\rightarrow$  10.37}\n",
    "$$"
   ]
  },
  {
   "cell_type": "markdown",
   "id": "77258d1e",
   "metadata": {
    "slideshow": {
     "slide_type": "subslide"
    }
   },
   "source": [
    "## Example\n",
    "\n",
    "Consider 4% enriched UO$_2$ fuel.  Compute the number densities of ${}^{239}$Pu and ${}^{235}$U as functions of time assuming $\\phi = 10^{14}$ [1/cm$^2$-s] and the following cross sections:\n",
    "\n",
    "|              | $\\bar{\\sigma}_a$ [b] | $\\bar{\\sigma}_f$ [b] |\n",
    "|--------------|------------------|------------------|\n",
    "| U-235  | 57.20388         | 46.88856         | \n",
    "| U-238  | 1.02191          | 0.10507         | \n",
    "| Pu-239 | 195.10020        | 124.41051         | \n",
    "\n",
    "These cross sections are averaged over the *entire* flux spectrum.\n",
    "\n",
    "Plot the number densities of ${}^{239}$Pu and ${}^{235}$U over 1 year of operation."
   ]
  },
  {
   "cell_type": "code",
   "execution_count": 1,
   "id": "b64a4fed",
   "metadata": {
    "slideshow": {
     "slide_type": "subslide"
    }
   },
   "outputs": [],
   "source": [
    "import numpy as np\n",
    "import matplotlib.pyplot as plt"
   ]
  },
  {
   "cell_type": "code",
   "execution_count": 2,
   "id": "13bba7f4",
   "metadata": {
    "slideshow": {
     "slide_type": "fragment"
    }
   },
   "outputs": [],
   "source": [
    "ϕ = 2e14\n",
    "σ235a = 57.20388;  σ235f = 46.88856\n",
    "σ238a = 1.02191 ;   σ238f = 0.10507 \n",
    "σ239a = 195.10020;  σ239f = 124.41051 "
   ]
  },
  {
   "cell_type": "code",
   "execution_count": 3,
   "id": "56aa4dcf",
   "metadata": {
    "slideshow": {
     "slide_type": "fragment"
    }
   },
   "outputs": [],
   "source": [
    "N_a = 6.022e23\n",
    "ρUO2 = 10\n",
    "N_238_0 = 0.96*(238/(238+2*16))*ρUO2*N_a/238\n",
    "N_235_0 = 0.04*(238/(238+2*16))*ρUO2*N_a/235"
   ]
  },
  {
   "cell_type": "code",
   "execution_count": 4,
   "id": "59727ca2",
   "metadata": {
    "slideshow": {
     "slide_type": "subslide"
    }
   },
   "outputs": [],
   "source": [
    "N_235 = lambda t: N_235_0 * np.exp(-σ235a*1e-24*ϕ*t)"
   ]
  },
  {
   "cell_type": "code",
   "execution_count": 5,
   "id": "7e914714",
   "metadata": {
    "slideshow": {
     "slide_type": "fragment"
    }
   },
   "outputs": [],
   "source": [
    "σ238g = σ238a - σ238f"
   ]
  },
  {
   "cell_type": "code",
   "execution_count": 6,
   "id": "504662c9",
   "metadata": {
    "slideshow": {
     "slide_type": "fragment"
    }
   },
   "outputs": [],
   "source": [
    "N_239 = lambda t: (σ238g/σ239a)*N_238_0*(1 - np.exp(-σ239a*1e-24*ϕ*t))"
   ]
  },
  {
   "cell_type": "code",
   "execution_count": 7,
   "id": "12750a97",
   "metadata": {
    "slideshow": {
     "slide_type": "subslide"
    }
   },
   "outputs": [
    {
     "data": {
      "image/png": "[encoded data removed]",
      "text/plain": [
       "<Figure size 600x300 with 1 Axes>"
      ]
     },
     "metadata": {},
     "output_type": "display_data"
    }
   ],
   "source": [
    "times = np.linspace(0, 365*24*3600, 10000)\n",
    "plt.figure(figsize=(6,3))\n",
    "plt.semilogy(times, N_235(times)/N_238_0, label='235')\n",
    "plt.semilogy(times, N_239(times)/N_238_0, label='239')\n",
    "plt.grid(True)\n",
    "plt.legend();"
   ]
  },
  {
   "cell_type": "markdown",
   "id": "bedc34dd",
   "metadata": {
    "slideshow": {
     "slide_type": "slide"
    }
   },
   "source": [
    "# Time, Fluence, and Burnup"
   ]
  },
  {
   "cell_type": "markdown",
   "id": "9bed46b0",
   "metadata": {
    "slideshow": {
     "slide_type": "fragment"
    }
   },
   "source": [
    "Time is a familiar quantity, but alternatives can be useful when quantifying depletion effects."
   ]
  },
  {
   "cell_type": "markdown",
   "id": "29bb75ac",
   "metadata": {
    "slideshow": {
     "slide_type": "fragment"
    }
   },
   "source": [
    "**Fluence** is the time-integrated flux, or\n",
    "\n",
    "$$\n",
    "   \\Phi(t) = \\int^t_0 \\phi(t')dt' \n",
    "$$\n",
    "\n",
    "and has units of [1/cm$^2$]."
   ]
  },
  {
   "cell_type": "markdown",
   "id": "4c386619",
   "metadata": {
    "slideshow": {
     "slide_type": "fragment"
    }
   },
   "source": [
    "**Burnup** is the energy produced per (initial) unit mass of actinides.\n",
    "\n",
    "Possible units:\n",
    "\n",
    "  - MWd/kg  (most common)\n",
    "  - GWd/MTU (equivalent to MWd/kg; MTU is \"metric ton (of) uranium\")\n",
    "  - J/kg"
   ]
  },
  {
   "cell_type": "markdown",
   "id": "6374f1a8",
   "metadata": {
    "slideshow": {
     "slide_type": "slide"
    }
   },
   "source": [
    "# Reactivity and Depletion"
   ]
  },
  {
   "cell_type": "markdown",
   "id": "32690e95",
   "metadata": {
    "slideshow": {
     "slide_type": "fragment"
    }
   },
   "source": [
    "The net impact of depletion of reactivity is most often a reduction. "
   ]
  },
  {
   "cell_type": "markdown",
   "id": "29b0ccf1",
   "metadata": {
    "slideshow": {
     "slide_type": "fragment"
    }
   },
   "source": [
    "The multiplication factor can now be written as\n",
    "\n",
    "$$\n",
    "  k(t) = \\frac{\\big(\\nu\\bar{\\sigma}^{\\text{U}235}_{fT} N^{\\text{U}235}(t) + \\nu\\bar{\\sigma}^{\\text{Pu}239}_{fT} N^{\\text{Pu}239}(t)\\big)\\varepsilon p P_{NL}}\n",
    "  {\\bar{\\sigma}^{\\text{U}235}_{aT} N^{\\text{U}235}(t) + \\bar{\\sigma}^{\\text{Pu}239}_{aT} N^{\\text{Pu}239}(t) + \\Sigma_{aT}^{\\text{U}238} + \\varsigma (V_m \\big / V_f)\\Sigma_{aT}^m}\n",
    "  \\tag{10.39}\n",
    "$$\n",
    "\n",
    "**Note the T subscripts on the cross sections!**  When doing depletion, we use the total flux over the entire energy range and must use the appropriate 1-group cross sections.  When using the four-factor formula, we need the appropriate two-group cross sections!  (The first paragraph on page 244 of the book points out that the T subscript is dropped; I'm replacing it here for clarity!)"
   ]
  },
  {
   "cell_type": "markdown",
   "id": "c9a00a88",
   "metadata": {
    "slideshow": {
     "slide_type": "subslide"
    }
   },
   "source": [
    "## Example\n",
    "\n",
    "Consider the depletion we did above.  The appropriate *thermal* cross sections for the fuel nuclides are\n",
    "\n",
    "|              | $\\bar{\\sigma}_a$ [b] | $\\bar{\\sigma}_f$ [b] |\n",
    "|--------------|------------------|------------------|\n",
    "| U-235  | 297.40444         | 253.08847         | \n",
    "| U-238  | 1.32087           | 0.00000        | \n",
    "| Pu-239 | 1146.51259        | 732.21983       | \n",
    "\n",
    "Assuming $\\nu = 2.5$, $\\varsigma = 1.1$, $V_m/V_f = 1$, $p=0.6$, $\\varepsilon=1.3$, $P_{NL}=0.95$, and $\\Sigma^m_{aT} = 0.007$ [1/cm], plot the *reactivity* versus *fluence* over the same time period."
   ]
  },
  {
   "cell_type": "code",
   "execution_count": 8,
   "id": "da287185",
   "metadata": {
    "slideshow": {
     "slide_type": "subslide"
    }
   },
   "outputs": [],
   "source": [
    "σ235aT = 297.40444 ;  σ235fT =  253.08847 \n",
    "σ238aT = 1.32087   ;  σ238fT =  0.00000 \n",
    "σ239aT = 1146.51259;  σ239fT =  732.21983 "
   ]
  },
  {
   "cell_type": "code",
   "execution_count": 9,
   "id": "504d617c",
   "metadata": {
    "slideshow": {
     "slide_type": "fragment"
    }
   },
   "outputs": [],
   "source": [
    "ς = 1.1; p=0.6; Ɛ = 1.3; P_NL = 0.95; ν=2.5; ΣaT = 0.007"
   ]
  },
  {
   "cell_type": "code",
   "execution_count": 10,
   "id": "6b3fa6fa",
   "metadata": {
    "slideshow": {
     "slide_type": "fragment"
    }
   },
   "outputs": [],
   "source": [
    "def k(t):\n",
    "    return ((ν*σ235fT*N_235(t) + ν*σ239fT*N_239(t))*Ɛ*p*P_NL) /       \\\n",
    "    (σ235aT*N_235(t) + σ239aT*N_239(t) + σ238aT*N_238_0 + ς*ΣaT)\n",
    "\n",
    "def rho(t):\n",
    "    return (k(t)-1)/k(t)"
   ]
  },
  {
   "cell_type": "code",
   "execution_count": 11,
   "id": "0c383b23",
   "metadata": {
    "slideshow": {
     "slide_type": "subslide"
    }
   },
   "outputs": [
    {
     "data": {
      "image/png": "[encoded data removed]",
      "text/plain": [
       "<Figure size 600x300 with 1 Axes>"
      ]
     },
     "metadata": {},
     "output_type": "display_data"
    }
   ],
   "source": [
    "times = np.linspace(0, 5*365*24*3600)\n",
    "fluence = ϕ*times\n",
    "plt.figure(figsize=(6,3))\n",
    "plt.plot(fluence, rho(times))\n",
    "plt.ylabel(r'$\\rho$')\n",
    "plt.xlabel('$\\Phi$ [1/cm$^2$]');"
   ]
  },
  {
   "cell_type": "markdown",
   "id": "a70905cf",
   "metadata": {
    "slideshow": {
     "slide_type": "fragment"
    }
   },
   "source": [
    "**Food for thought**: If the reactivity is declining, and our fissile nuclides are declining, what happens to the *fission rate* in time?"
   ]
  },
  {
   "cell_type": "code",
   "execution_count": null,
   "id": "ec1d967e",
   "metadata": {},
   "outputs": [],
   "source": []
  }
 ],
 "metadata": {
  "celltoolbar": "Slideshow",
  "kernelspec": {
   "display_name": "Python 3 (ipykernel)",
   "language": "python",
   "name": "python3"
  },
  "language_info": {
   "codemirror_mode": {
    "name": "ipython",
    "version": 3
   },
   "file_extension": ".py",
   "mimetype": "text/x-python",
   "name": "python",
   "nbconvert_exporter": "python",
   "pygments_lexer": "ipython3",
   "version": "3.11.5"
  },
  "rise": {
   "scroll": true
  }
 },
 "nbformat": 4,
 "nbformat_minor": 5
}
