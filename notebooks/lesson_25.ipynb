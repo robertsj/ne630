{
 "cells": [
  {
   "cell_type": "markdown",
   "id": "a0b56022",
   "metadata": {
    "slideshow": {
     "slide_type": "slide"
    }
   },
   "source": [
    "# NE 630 - Lesson 25\n",
    "\n",
    "**LAST TIME**: The linear reactivity model; cycle length; discharge burnup.\n",
    "\n",
    "\n",
    "**TODAY**: neutron kinetics in the absence of multiplication; mean neutron speed and lifetime\n",
    "\n",
    "**NEXT TIME**: read 5.2 (after Eq. (5.8)) and 5.3."
   ]
  },
  {
   "attachments": {
    "image.png": {
     "image/png": "[encoded data removed]"
    }
   },
   "cell_type": "markdown",
   "id": "adb74643",
   "metadata": {
    "slideshow": {
     "slide_type": "subslide"
    }
   },
   "source": [
    "## NE 648 - Nuclear Reactor Laboratory\n",
    "\n",
    "![image.png](attachment:image.png)\n",
    "\n",
    "https://github.com/robertsj/ne648/tree/s22"
   ]
  },
  {
   "cell_type": "markdown",
   "id": "f4458190",
   "metadata": {
    "slideshow": {
     "slide_type": "slide"
    }
   },
   "source": [
    "# Revisiting the BIG PICTURE™\n",
    "\n",
    "In the course introduction, I wrote the following horror:\n",
    "\n",
    "$$\n",
    "\\begin{split}\n",
    "\\frac{1}{v} \\frac{\\partial \\phi}{\\partial t} \n",
    " &- \\nabla D(\\mathbf{r}, E) \\nabla \\phi \n",
    "  + \\Sigma_t(\\mathbf{r}, E) \\phi(\\mathbf{r}, E, t) \\\\\n",
    "  &= \\int^{\\infty}_0 \\Sigma_s(\\mathbf{r}, E'\\to E) \\phi(\\mathbf{r}, E', t) dE' \\\\\n",
    "  &+ \\frac{\\chi(E)}{k_{\\text{eff}}} \\int^{\\infty}_0 \\bar{\\nu}(\\mathbf{r}, E')\\Sigma_f(\\mathbf{r}, E') \\phi(\\mathbf{r}, E', t) dE'  \\\\\n",
    "  &+ S(\\mathbf{r}, E, t) \\, .\n",
    "\\end{split}\n",
    "$$\n"
   ]
  },
  {
   "cell_type": "markdown",
   "id": "383c46d7",
   "metadata": {
    "slideshow": {
     "slide_type": "subslide"
    }
   },
   "source": [
    "We still ignore space:\n",
    "\n",
    "$$\n",
    "\\begin{split}\n",
    "\\frac{1}{v} \\frac{\\partial \\phi}{\\partial t} \n",
    " &+ \\Sigma_t(E) \\phi( E, t) \\\\\n",
    "  &= \\int^{\\infty}_0 \\Sigma_s(E'\\to E) \\phi(E', t) dE' \\\\\n",
    "  &+ \\frac{\\chi(E)}{k_{\\text{eff}}} \\int^{\\infty}_0 \\bar{\\nu}(E')\\Sigma_f(E') \\phi(E', t) dE'  \\\\\n",
    "  &+ S(E, t) \\, .\n",
    "\\end{split}\n",
    "$$\n"
   ]
  },
  {
   "cell_type": "markdown",
   "id": "bc07e2ba",
   "metadata": {
    "slideshow": {
     "slide_type": "slide"
    }
   },
   "source": [
    "# The Kinetics Equation"
   ]
  },
  {
   "cell_type": "markdown",
   "id": "93d035a4",
   "metadata": {
    "slideshow": {
     "slide_type": "fragment"
    }
   },
   "source": [
    "We don't *ignore* energy, but we integrate it away:"
   ]
  },
  {
   "cell_type": "markdown",
   "id": "61e75474",
   "metadata": {
    "slideshow": {
     "slide_type": "fragment"
    }
   },
   "source": [
    "$$\n",
    "\\begin{split}\n",
    "\\int^{\\infty}_0 dE \\Bigg \\{\n",
    "\\frac{1}{v} \\frac{\\partial \\phi}{\\partial t} \n",
    " &+ \\Sigma_t(E) \\phi( E, t) \\\\\n",
    "  &= \\int^{\\infty}_0 \\Sigma_s(E'\\to E) \\phi(E', t) dE' \\\\\n",
    "  &+ \\frac{\\chi(E)}{k_{\\text{eff}}} \\int^{\\infty}_0 \\bar{\\nu}(E')\\Sigma_f(E') \\phi(E', t) dE'  \\\\\n",
    "  &+ S(E, t) \\Bigg \\} \\, .\n",
    "\\end{split}\n",
    "$$"
   ]
  },
  {
   "cell_type": "markdown",
   "id": "b076e3d6",
   "metadata": {
    "slideshow": {
     "slide_type": "subslide"
    }
   },
   "source": [
    "If we assume that $\\phi(E, t) = \\phi(t)\\varphi(E)$, then we can write"
   ]
  },
  {
   "cell_type": "markdown",
   "id": "5d393e56",
   "metadata": {
    "slideshow": {
     "slide_type": "fragment"
    }
   },
   "source": [
    "$$\n",
    "\\begin{split}\n",
    "\\frac{d\\phi}{dt} \\times \\int^{\\infty}_0  \n",
    "\\left ( \\frac{\\varphi(E)}{v(E)} \\right ) dE\n",
    " + \\bar{\\Sigma}_t \\phi(t) \n",
    "  = \\bar{\\Sigma}_s \\phi(t)  + \\frac{1}{k_{\\text{eff}}} \\bar{\\nu}\\bar{\\Sigma}_f \\phi(t) + S(t)  \\, .\n",
    "\\end{split}\n",
    "$$"
   ]
  },
  {
   "cell_type": "markdown",
   "id": "d875a5fe",
   "metadata": {
    "slideshow": {
     "slide_type": "fragment"
    }
   },
   "source": [
    "$$\n",
    "\\begin{split}\n",
    "  \\frac{1}{\\bar{v}}\\frac{d\\phi}{dt}\n",
    " + \\bar{\\Sigma}_t \\phi(t) \n",
    "  = \\bar{\\Sigma}_s \\phi(t)  + \\frac{1}{k_{\\text{eff}}} \\bar{\\nu}\\bar{\\Sigma}_f \\phi(t) + S(t)  \\, .\n",
    "\\end{split}\n",
    "\\tag{25-1}\n",
    "$$"
   ]
  },
  {
   "cell_type": "markdown",
   "id": "9e667a07",
   "metadata": {
    "slideshow": {
     "slide_type": "fragment"
    }
   },
   "source": [
    "where, e.g., $\\bar{\\Sigma}_t = \\int^{\\infty}_0 \\Sigma_t(E) \\varphi(E) dE \\Big / \\int^{\\infty}_0 \\varphi(E) dE$ and\n",
    "\n",
    "$$\n",
    "   \\boxed{\\bar{v} = \\frac{  \\int^{\\infty}_0 \\varphi(E) dE }{  \\int^{\\infty}_0 \\frac{\\varphi(E)}{v(E)} dE }} \\, .\n",
    "\\tag{25-2}\n",
    "$$"
   ]
  },
  {
   "cell_type": "markdown",
   "id": "f41235ef",
   "metadata": {
    "slideshow": {
     "slide_type": "subslide"
    }
   },
   "source": [
    "## Example 1\n",
    "\n",
    "Suppose the flux spectrum is $\\varphi(E) = E e^{-E/kT}$.  What is $\\bar{v}$?"
   ]
  },
  {
   "cell_type": "code",
   "execution_count": 4,
   "id": "90ec68eb",
   "metadata": {
    "slideshow": {
     "slide_type": "fragment"
    }
   },
   "outputs": [],
   "source": [
    "import sympy as sy \n",
    "E, k, T, m = sy.symbols('E, k, T, m', positive=True)"
   ]
  },
  {
   "cell_type": "code",
   "execution_count": 6,
   "id": "fd652d32",
   "metadata": {
    "slideshow": {
     "slide_type": "fragment"
    }
   },
   "outputs": [],
   "source": [
    "𝜑 = E*sy.exp(-E/(k*T))\n",
    "v = sy.sqrt(2*E/m)"
   ]
  },
  {
   "cell_type": "code",
   "execution_count": 7,
   "id": "26ce2b77",
   "metadata": {
    "slideshow": {
     "slide_type": "fragment"
    }
   },
   "outputs": [
    {
     "data": {
      "text/latex": [
       "$\\displaystyle \\frac{2 \\sqrt{2} \\sqrt{T} \\sqrt{k}}{\\sqrt{\\pi} \\sqrt{m}}$"
      ],
      "text/plain": [
       "2*sqrt(2)*sqrt(T)*sqrt(k)/(sqrt(pi)*sqrt(m))"
      ]
     },
     "execution_count": 7,
     "metadata": {},
     "output_type": "execute_result"
    }
   ],
   "source": [
    "sy.integrate(𝜑, (E, 0, sy.oo)) / sy.integrate(𝜑/v, (E, 0, sy.oo))"
   ]
  },
  {
   "cell_type": "markdown",
   "id": "c14860d1",
   "metadata": {
    "slideshow": {
     "slide_type": "slide"
    }
   },
   "source": [
    "# Kinetics Sans Multiplication\n",
    "\n",
    "If we take $\\bar{\\Sigma}_f = 0$, then Eq. (25-1) becomes\n",
    "\n",
    "$$\n",
    "\\begin{split}\n",
    "  \\frac{1}{\\bar{v}}\\frac{d\\phi}{dt}\n",
    " + \\bar{\\Sigma}_t \\phi(t) \n",
    "  = \\bar{\\Sigma}_s \\phi(t) + S(t)  \\, ,\n",
    "\\end{split}\n",
    "$$\n",
    "\n",
    "or"
   ]
  },
  {
   "cell_type": "markdown",
   "id": "ed0d8968",
   "metadata": {
    "slideshow": {
     "slide_type": "fragment"
    }
   },
   "source": [
    "$$\n",
    "\\begin{split}\n",
    "  \\frac{1}{\\bar{v}}\\frac{d\\phi}{dt}\n",
    " + \\bar{\\Sigma}_a \\phi(t) \n",
    "  = S(t)  \\, .\n",
    "\\end{split}\n",
    "\\tag{25-3}\n",
    "$$"
   ]
  },
  {
   "cell_type": "markdown",
   "id": "640bfbc6",
   "metadata": {
    "slideshow": {
     "slide_type": "fragment"
    }
   },
   "source": [
    "## Example 2\n",
    "\n",
    "Rewrite Eq. (25-3) in terms of the neutron density $n(t)$.  What are the units of $n(t)$?"
   ]
  },
  {
   "cell_type": "markdown",
   "id": "b961cee1",
   "metadata": {
    "slideshow": {
     "slide_type": "fragment"
    }
   },
   "source": [
    "$\\phi = nv \\longrightarrow n' + \\bar{\\Sigma}_a \\bar{v} n(t) = S(t)$"
   ]
  },
  {
   "cell_type": "markdown",
   "id": "eb199636",
   "metadata": {
    "slideshow": {
     "slide_type": "subslide"
    }
   },
   "source": [
    "## Example 3\n",
    "\n",
    "Suppose that $S(t) = S_0 \\delta(t)$ and that $n(0) = 0$. Find $n(t)$."
   ]
  },
  {
   "cell_type": "markdown",
   "id": "8f29ddd8",
   "metadata": {
    "slideshow": {
     "slide_type": "fragment"
    }
   },
   "source": [
    "Here, the integrating factor is $e^{\\bar{\\Sigma}_a \\bar{v}t}$ so that (you should *confirm* this)\n",
    "\n",
    "$$\n",
    "   \\frac{d}{dt} \\left ( n(t) e^{\\bar{\\Sigma}_a \\bar{v}t} \\right ) = S(t) e^{\\bar{\\Sigma}_a \\bar{v}t} .\n",
    "$$\n",
    "\n"
   ]
  },
  {
   "cell_type": "markdown",
   "id": "eaf947c3",
   "metadata": {
    "slideshow": {
     "slide_type": "fragment"
    }
   },
   "source": [
    "Then, integrate from $t = 0$ (or some other initial time) to $t = t'$:\n",
    "\n",
    "\n",
    "$$\n",
    "   \\int^{t'}_0 \\frac{d}{dt} \\left ( n(t) e^{\\bar{\\Sigma}_a \\bar{v}t} \\right ) dt = \n",
    "     \\int^{t'}_0 \\left( S(t) e^{\\bar{\\Sigma}_a \\bar{v}t} \\right ) dt .\n",
    "$$"
   ]
  },
  {
   "cell_type": "markdown",
   "id": "1141b0bf",
   "metadata": {
    "slideshow": {
     "slide_type": "fragment"
    }
   },
   "source": [
    "Evaluate the left-hand-side integral to get \n",
    "\n",
    "$$\n",
    "   n(t') e^{\\bar{\\Sigma}_a \\bar{v}t'} - n(0) = \n",
    "     \\int^{t'}_0  \\left( S(t) e^{\\bar{\\Sigma}_a \\bar{v}t} \\right ) dt .\n",
    "$$"
   ]
  },
  {
   "cell_type": "markdown",
   "id": "aa96f486",
   "metadata": {
    "slideshow": {
     "slide_type": "fragment"
    }
   },
   "source": [
    "Now, solve for $n(t')$ to find\n",
    "\n",
    "$$\n",
    "   n(t') =  \\frac{\\int^{t'}_0  \\left( S(t) e^{\\bar{\\Sigma}_a \\bar{v}t} \\right ) dt + n(0)}\n",
    "                 {e^{\\bar{\\Sigma}_a \\bar{v}t'}}\n",
    "$$"
   ]
  },
  {
   "cell_type": "markdown",
   "id": "bc6682da",
   "metadata": {
    "slideshow": {
     "slide_type": "fragment"
    }
   },
   "source": [
    "Recall that a property of $\\delta(t-t_0)$ is that for any function $f(t)$, an integral $\\int^b_a f(t) \\delta(t-t_0) dt = f(t_0)$ as long as $a \\leq t_0 \\leq b$."
   ]
  },
  {
   "cell_type": "markdown",
   "id": "33829d43",
   "metadata": {
    "slideshow": {
     "slide_type": "fragment"
    }
   },
   "source": [
    "Thus, for $S(t) = S_0 \\delta(t)$ and $n(0) = 0$, we have\n",
    "\n",
    "$$\n",
    "   n(t') =  \\frac{S_0 + 0}\n",
    "                 {e^{\\bar{\\Sigma}_a \\bar{v}t'}} \\qquad \\longrightarrow \\qquad \n",
    "                 \\boxed{n(t) = S_0 e^{-\\Sigma_a \\bar{v} t}} \\, .\n",
    "$$"
   ]
  },
  {
   "cell_type": "markdown",
   "id": "d553398d",
   "metadata": {
    "slideshow": {
     "slide_type": "slide"
    }
   },
   "source": [
    "# The Neutron Lifetime\n",
    "\n",
    "If we consider $n(t)$ as just found, or, if $S_0 = 0$ and we let $n(0) = n_0$ such that\n",
    "\n",
    "$$\n",
    " n(t) = n_0 e^{-\\Sigma_a \\bar{v} t} \\, ,\n",
    "$$\n",
    "\n",
    "one should immediately see a similarity to \n",
    "\n",
    "$$\n",
    "    I(x) = I_0 e^{-\\Sigma x} \\qquad \\text{and} \\qquad n(t) = n(0) e^{-\\lambda t} \\, .\n",
    "$$"
   ]
  },
  {
   "cell_type": "markdown",
   "id": "8bbd92b3",
   "metadata": {
    "slideshow": {
     "slide_type": "subslide"
    }
   },
   "source": [
    "All three represent exponential attenuation in which\n",
    "\n",
    "  - $\\Sigma^{-1} = \\tau$ is the mean-free path (i.e., distance traveled on the average between collisions)\n",
    "  - $\\lambda^{-1} = \\bar{t}$ is the mean time (i.e., the time elapsed on the average before a nucleus decays)"
   ]
  },
  {
   "cell_type": "markdown",
   "id": "0b817368",
   "metadata": {
    "slideshow": {
     "slide_type": "fragment"
    }
   },
   "source": [
    " - $\\boxed{l_{\\infty} = [\\bar{\\Sigma}_a \\bar{v}]^{-1} = \\bar{t}}$ is also a mean time, but here is the time a neutron travels on the average before being absorbed (and, hence, \"dying\")"
   ]
  },
  {
   "cell_type": "markdown",
   "id": "83b47a25",
   "metadata": {
    "slideshow": {
     "slide_type": "subslide"
    }
   },
   "source": [
    "## Example 4\n",
    "\n",
    "What's $l_{\\infty}$ for thermal neutrons emitted in the center of a giant pool of room-temperature water?  Assume $\\bar{\\sigma}^{\\text{H}_2\\text{O}}_a = 0.6$ [b]."
   ]
  },
  {
   "cell_type": "code",
   "execution_count": 8,
   "id": "02929de0",
   "metadata": {},
   "outputs": [
    {
     "data": {
      "text/plain": [
       "0.00022651766837813352"
      ]
     },
     "execution_count": 8,
     "metadata": {},
     "output_type": "execute_result"
    }
   ],
   "source": [
    "N = 1*6.02e23 / 18\n",
    "sigA = 0.6e-24\n",
    "SigA = N*sigA\n",
    "v = 2200*100\n",
    "\n",
    "l_oo = 1/(SigA*v)\n",
    "l_oo"
   ]
  }
 ],
 "metadata": {
  "celltoolbar": "Slideshow",
  "kernelspec": {
   "display_name": "Python 3 (ipykernel)",
   "language": "python",
   "name": "python3"
  },
  "language_info": {
   "codemirror_mode": {
    "name": "ipython",
    "version": 3
   },
   "file_extension": ".py",
   "mimetype": "text/x-python",
   "name": "python",
   "nbconvert_exporter": "python",
   "pygments_lexer": "ipython3",
   "version": "3.11.4"
  },
  "rise": {
   "scroll": true
  }
 },
 "nbformat": 4,
 "nbformat_minor": 5
}
