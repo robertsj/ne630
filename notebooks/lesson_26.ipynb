{
 "cells": [
  {
   "cell_type": "markdown",
   "id": "d8b3795d",
   "metadata": {
    "slideshow": {
     "slide_type": "slide"
    }
   },
   "source": [
    " # NE 630 - Lesson 26\n",
    "\n",
    "**LAST TIME**: Neutron kinetics in the absence of multiplication; mean neutron speed and lifetime\n",
    "\n",
    "**TODAY**: Neutron kinetics with multiplication.\n",
    "\n",
    "**NEXT TIME**: read 5.4 and 5.5 (we'll continue exploring 5.5 in Lesson 27, too)."
   ]
  },
  {
   "cell_type": "markdown",
   "id": "72d0d3a8",
   "metadata": {
    "slideshow": {
     "slide_type": "slide"
    }
   },
   "source": [
    "# The Kinetics Equation\n",
    "\n",
    "Last time, we found \n",
    "\n",
    "$$\n",
    "\\begin{split}\n",
    "  \\frac{1}{\\bar{v}}\\frac{d\\phi}{dt}\n",
    " + \\bar{\\Sigma}_t \\phi(t) \n",
    "  = \\bar{\\Sigma}_s \\phi(t)  + \\frac{1}{k_{\\text{eff}}} \\bar{\\nu}\\bar{\\Sigma}_f \\phi(t) + S(t)  \\, \n",
    "\\end{split}\n",
    "$$\n",
    "\n",
    "before dropping multiplication.  "
   ]
  },
  {
   "cell_type": "markdown",
   "id": "d58ba6bf",
   "metadata": {
    "slideshow": {
     "slide_type": "fragment"
    }
   },
   "source": [
    "As used here, $k_{\\text{eff}}$ is a scaling parameterthat we can use to *force* a source-free system into a steady state even when $k_{\\infty} = v\\bar{\\Sigma}_f/\\bar{\\Sigma}_a \\neq 1$. **We'll set $\\mathbf{k_{\\text{eff}}=1}$.**"
   ]
  },
  {
   "cell_type": "markdown",
   "id": "0f9ef7e2",
   "metadata": {
    "slideshow": {
     "slide_type": "subslide"
    }
   },
   "source": [
    "Let $\\bar{\\Sigma}_a = \\bar{\\Sigma}_t - \\bar{\\Sigma}_s$ and $\\phi(t) = n(t)\\bar{v}$ so that\n",
    "\n",
    "$$\n",
    "\\begin{split}\n",
    "  \\frac{dn}{dt}\n",
    " &= \\bar{v} (\\bar{\\nu}\\bar{\\Sigma}_f - \\bar{\\Sigma}_a) n(t) \n",
    "  + S(t) \\\\\n",
    " &= \\bar{\\Sigma}_a\\bar{v} \\left ( \\frac{\\bar{\\nu}\\bar{\\Sigma}_f}{\\bar{\\Sigma}_a} - 1 \\right ) n(t) \n",
    "  + S(t) \\\\\n",
    " &= \\left ( \\frac{k_{\\infty} - 1}{l_{\\infty}} \\right ) n(t) \n",
    "  + S(t) \\\\\n",
    "\\end{split}\n",
    "\\tag{Lewis [5.12]}\n",
    "$$\n"
   ]
  },
  {
   "cell_type": "markdown",
   "id": "18c55519",
   "metadata": {
    "slideshow": {
     "slide_type": "fragment"
    }
   },
   "source": [
    "For finite systems with leakage, the text explains how to incorporate the non-leakage probability $P_{NL}$, and the resulting Eq. (5.22) is identical to Eq. (5.12) without the $\\infty$'s on $k$ and $l$."
   ]
  },
  {
   "cell_type": "markdown",
   "id": "beea4e6f",
   "metadata": {
    "slideshow": {
     "slide_type": "subslide"
    }
   },
   "source": [
    "## Example 1\n",
    "\n",
    "Let $S(t) = 0$ and $n(0) = n_0$.  Determine $n(t)$."
   ]
  },
  {
   "cell_type": "markdown",
   "id": "13cacd30",
   "metadata": {
    "slideshow": {
     "slide_type": "fragment"
    }
   },
   "source": [
    "**Step 1.  Write down the equations.**  \n",
    "\n",
    "We are solving\n",
    "\n",
    "\n",
    "$$\n",
    " \\frac{dn}{dt} = \n",
    "  \\left ( \\frac{k_{\\infty} - 1}{l_{\\infty}} \\right ) n(t) \n",
    "  \\qquad \\text{where} \\qquad n(0) = n_0 \\, .\n",
    "$$"
   ]
  },
  {
   "cell_type": "markdown",
   "id": "4bd6b17b",
   "metadata": {
    "slideshow": {
     "slide_type": "fragment"
    }
   },
   "source": [
    "**Step 2. Identify the type and any special features of the differential equation, and rewrite the equation in a \"familiar\" form.** \n",
    "\n",
    "This first-order, initial-value problem is [separable](https://tutorial.math.lamar.edu/classes/de/separable.aspx), and we can write\n",
    "\n",
    "$$\n",
    "   \\frac{dn}{n(t)} =  \\left ( \\frac{k_{\\infty} - 1}{l_{\\infty}} \\right ) dt\n",
    "$$"
   ]
  },
  {
   "cell_type": "markdown",
   "id": "7fca693e",
   "metadata": {
    "slideshow": {
     "slide_type": "fragment"
    }
   },
   "source": [
    "**Step 3. Integrate the differential equation using the appropriate technique.** Integrate the left from $n(0)$ to $n(t')$ and the right from $0$ to $t'$:\n",
    "\n",
    "$$\n",
    "\\begin{split}\n",
    "   \\int^{n(t')}_{n(0)} \\frac{dn}{n(t)} &=  \n",
    "   \\left ( \\frac{k_{\\infty}-1}{l_{\\infty}} \\right ) \\int^{t'}_{0} dt \\\\\n",
    "   \\ln \\left ( \\frac{n(t)}{n(0)} \\right ) &=  \\left ( \\frac{k_{\\infty} - 1}{l_{\\infty}}  \\right ) t' \\\\   \n",
    "   \\frac{n(t')}{n(0)}  &=  e^{\\left ( \\frac{k_{\\infty} - 1}{l_{\\infty}}  \\right ) t'} \\\\  \n",
    "   n(t')  &=  n(0) e^{\\left ( \\frac{k_{\\infty} - 1}{l_{\\infty}}  \\right ) t'} \\\\   \n",
    "  \\rightarrow n(t)  &=  n(0) e^{\\left ( \\frac{k_{\\infty} - 1}{l_{\\infty}}  \\right ) t} \\\\  \n",
    "\\end{split}\n",
    "$$"
   ]
  },
  {
   "cell_type": "markdown",
   "id": "40b75124",
   "metadata": {
    "slideshow": {
     "slide_type": "fragment"
    }
   },
   "source": [
    "**Step 4. Apply any initial conditions.**\n",
    "\n",
    "$$\n",
    "  \\boxed{ n(t)  =  n_0 e^{\\left ( \\frac{k_{\\infty} - 1}{l_{\\infty}}  \\right ) t} }\n",
    "  \\tag{5.24*}\n",
    "$$\n",
    "\n",
    "*identical to (5.24) in the book if we drop the $\\infty$'s."
   ]
  },
  {
   "cell_type": "markdown",
   "id": "e0e45488",
   "metadata": {
    "slideshow": {
     "slide_type": "subslide"
    }
   },
   "source": [
    "Although it's introduced a bit later in the reading, recall that \n",
    "\n",
    "$$\n",
    "    \\rho_{\\infty} = \\frac{k_{\\infty}-1}{k_{\\infty}} \\, .\n",
    "$$\n"
   ]
  },
  {
   "cell_type": "markdown",
   "id": "d5db0ecc",
   "metadata": {
    "slideshow": {
     "slide_type": "fragment"
    }
   },
   "source": [
    "\n",
    "Then Eq. (5.24*) can be written as \n",
    "\n",
    "$$\n",
    "  \\boxed{ n(t)  =  n_0 e^{\\left ( \\frac{\\rho_{\\infty} }{{\\Lambda}_{\\infty}}  \\right ) t} }\n",
    "  \\tag{5.24**}\n",
    "$$\n",
    "\n",
    "where $\\Lambda_{\\infty}=l_{\\infty}/k_{\\infty}$ (or just $\\Lambda/k$) is the **mean generation time**.  "
   ]
  },
  {
   "cell_type": "markdown",
   "id": "b4fdbc4f",
   "metadata": {
    "slideshow": {
     "slide_type": "slide"
    }
   },
   "source": [
    "## Multiplication and Exponential Growth"
   ]
  },
  {
   "cell_type": "markdown",
   "id": "b95a9698",
   "metadata": {
    "slideshow": {
     "slide_type": "fragment"
    }
   },
   "source": [
    "With no multiplication, the number of neutrons in a sourceless system can only decrease."
   ]
  },
  {
   "cell_type": "markdown",
   "id": "3751e92d",
   "metadata": {
    "slideshow": {
     "slide_type": "fragment"
    }
   },
   "source": [
    "With multiplication, the number of neutrons in a sourceless system may decrease, stay constant, or increase."
   ]
  },
  {
   "cell_type": "markdown",
   "id": "d27ab8de",
   "metadata": {
    "slideshow": {
     "slide_type": "subslide"
    }
   },
   "source": [
    "## Example 2\n",
    "\n",
    "Let $n_0 = 1$ and $l_{\\infty} = 10^{-3}$ s.  Compute $n(1)$ for (a) $k_{\\infty} = 0.999$, (b) $k_{\\infty} = 1.0$, and (c) $k_{\\infty} = 1.001$.  "
   ]
  },
  {
   "cell_type": "code",
   "execution_count": 1,
   "id": "2808498a",
   "metadata": {
    "slideshow": {
     "slide_type": "fragment"
    }
   },
   "outputs": [],
   "source": [
    "n_0 = 1\n",
    "l_oo = 1e-3\n",
    "#  (a)   n(1) = 0.367\n",
    "#  (b)   n(1) = 1\n",
    "#  (c)   n(1) = 2.72"
   ]
  },
  {
   "cell_type": "code",
   "execution_count": 4,
   "id": "fbdb0622",
   "metadata": {
    "slideshow": {
     "slide_type": "fragment"
    }
   },
   "outputs": [
    {
     "data": {
      "text/plain": [
       "2.7182818284587458"
      ]
     },
     "execution_count": 4,
     "metadata": {},
     "output_type": "execute_result"
    }
   ],
   "source": [
    "import numpy as np\n",
    "np.exp(-(1-0.999)/1e-3)\n",
    "np.exp(-(1-1.001)/1e-3)"
   ]
  },
  {
   "cell_type": "code",
   "execution_count": 5,
   "id": "180e3e0b",
   "metadata": {
    "slideshow": {
     "slide_type": "fragment"
    }
   },
   "outputs": [
    {
     "data": {
      "image/png": "[encoded data removed]",
      "text/plain": [
       "<Figure size 500x300 with 1 Axes>"
      ]
     },
     "metadata": {},
     "output_type": "display_data"
    }
   ],
   "source": [
    "import numpy as np\n",
    "import matplotlib.pyplot as plt\n",
    "t = np.linspace(0, 1)\n",
    "plt.figure(figsize=(5,3))\n",
    "plt.plot(t, n_0*np.exp((0.999-1)/l_oo*t))\n",
    "plt.plot(t, n_0*np.exp((1.000-1)/l_oo*t))\n",
    "plt.plot(t, n_0*np.exp((1.001-1)/l_oo*t))\n",
    "plt.ylabel(\"$n(t)/n(0)$\")\n",
    "plt.xlabel(\"$t$\");"
   ]
  },
  {
   "cell_type": "markdown",
   "id": "c5802a67",
   "metadata": {
    "slideshow": {
     "slide_type": "slide"
    }
   },
   "source": [
    "# Source-Driven, Subcritical Systems\n",
    "\n",
    "When $S(t) \\neq 0$, we go from\n",
    "\n",
    "$$\n",
    "   \\frac{d}{dt} \\left ( n(t) e^{-\\left(\\frac{k_{\\infty}-1}{l_{\\infty}}\\right )t} \\right ) = S(t) e^{-\\left(\\frac{k_{\\infty}-1}{l_{\\infty}}\\right )t} .\n",
    "$$\n",
    "\n",
    "to"
   ]
  },
  {
   "cell_type": "markdown",
   "id": "98d69f79",
   "metadata": {
    "slideshow": {
     "slide_type": "fragment"
    }
   },
   "source": [
    "$$\n",
    "   n(t') =  \\frac{\\int^{t'}_0  \\left( S(t) e^{-\\left(\\frac{k_{\\infty}-1}{l_{\\infty}}\\right )t} \\right ) dt + n(0)}\n",
    "                 {e^{-\\left(\\frac{k_{\\infty}-1}{l_{\\infty}}\\right )t'}}\n",
    "$$"
   ]
  },
  {
   "cell_type": "markdown",
   "id": "75390555",
   "metadata": {
    "slideshow": {
     "slide_type": "subslide"
    }
   },
   "source": [
    "If $S(t) = S_0$, then"
   ]
  },
  {
   "cell_type": "markdown",
   "id": "13985870",
   "metadata": {
    "slideshow": {
     "slide_type": "fragment"
    }
   },
   "source": [
    "$$\n",
    "   n(t) = \\frac{l_{\\infty} S_0}{k_{\\infty}-1}\n",
    "     \\left (  e^{\\frac{k_{\\infty}-1}{l_{\\infty}}t} - 1 \\right )\n",
    "     + n(0) e^{\\frac{k_{\\infty}-1}{l_{\\infty}}t} \\, .\n",
    "$$\n",
    "\n",
    "If we further set $n(0) = 0$ and drop $\\infty$'s, we get Lewis Eq. (5.26)."
   ]
  },
  {
   "cell_type": "markdown",
   "id": "ec7e2a95",
   "metadata": {
    "slideshow": {
     "slide_type": "subslide"
    }
   },
   "source": [
    "## Example 3\n",
    "\n",
    "Let $n(0) = 0$, $S_0 = 1$, and $l_{\\infty} = 10^{-2}$.  Compute and plot $n(t)$ for $0 \\leq t \\leq 10$ s for $k_{\\infty} = 0.5, 0.9, 0.99$ and $0.999$.  What happens to $n(t)/S_0$ as $t\\to \\infty$?"
   ]
  },
  {
   "cell_type": "code",
   "execution_count": 6,
   "id": "c32a04dd",
   "metadata": {
    "slideshow": {
     "slide_type": "fragment"
    }
   },
   "outputs": [],
   "source": [
    "def n(t, k_oo):\n",
    "    l_oo = 1e-2\n",
    "    S_0 = 1\n",
    "    return (l_oo*S_0/(k_oo-1))*(np.exp((k_oo-1)/l_oo*t) - 1)"
   ]
  },
  {
   "cell_type": "code",
   "execution_count": 7,
   "id": "45c8e52e",
   "metadata": {
    "slideshow": {
     "slide_type": "fragment"
    }
   },
   "outputs": [],
   "source": [
    "t = np.linspace(0, 10, 10000)"
   ]
  },
  {
   "cell_type": "code",
   "execution_count": 11,
   "id": "a6895432",
   "metadata": {
    "slideshow": {
     "slide_type": "fragment"
    }
   },
   "outputs": [
    {
     "data": {
      "image/png": "[encoded data removed]",
      "text/plain": [
       "<Figure size 800x600 with 1 Axes>"
      ]
     },
     "metadata": {},
     "output_type": "display_data"
    }
   ],
   "source": [
    "plt.figure(figsize=(8,6))\n",
    "plt.plot(t, n(t, k_oo=0.5), label='0.5')\n",
    "plt.plot(t, n(t, k_oo=0.9), label='0.9')\n",
    "plt.plot(t, n(t, k_oo=0.99), label='0.99')\n",
    "#plt.plot(t, n(t, k_oo=0.999), label='0.999')\n",
    "#plt.yscale(\"log\")\n",
    "plt.xlabel(\"$t$ [s]\"); plt.ylabel(\"$n(t)/S_0$\")\n",
    "plt.legend();"
   ]
  },
  {
   "cell_type": "markdown",
   "id": "3222846f",
   "metadata": {
    "slideshow": {
     "slide_type": "subslide"
    }
   },
   "source": [
    "If we replace the \"unit\" source with $S_0$ in the HW 7, problem 4 solution, we have\n",
    "\n",
    "\\begin{equation*}\n",
    "   \\phi_1 = \\frac{ \\frac{S_0}{\\Sigma_{r1}} }{ 1 - \\frac{\\nu\\Sigma_{f1}-\\nu\\Sigma_{f2} \\frac{\\Sigma_{s2\\gets 1}}{\\Sigma_{a2}}}{\\Sigma_{r1}} } = \\frac{ \\frac{S_0}{\\Sigma_{r1}} }{ 1 - k_{\\infty} }  \\, .\n",
    "\\end{equation*}\n",
    "\n"
   ]
  },
  {
   "cell_type": "markdown",
   "id": "bacb53ef",
   "metadata": {
    "slideshow": {
     "slide_type": "fragment"
    }
   },
   "source": [
    "If we ignore the two-group stuff, set $\\Sigma_{r1} = \\bar{\\Sigma}_{a}$, and set $\\phi_1 = \\bar{v}n$, then we have\n",
    "\n",
    "$$\n",
    "   n(\\infty) = \\frac{l_{\\infty} S_0}{1-k_{\\infty}} \\, ,\n",
    "$$\n",
    "\n",
    "which (dropping $\\infty$'s) is equivalent to Eq. (5.28) in the book.  The quantity $M=1/(1-k)$ is sometimes called the *multiplication*, and we'll use it next semester to predict how close we get to criticality.  (Notice that it takes longer and longer to stabilize the closer to $k = 1$ we get!)."
   ]
  },
  {
   "cell_type": "markdown",
   "id": "7820d65a",
   "metadata": {
    "slideshow": {
     "slide_type": "fragment"
    }
   },
   "source": [
    "**El fin**: Read 5.4!"
   ]
  },
  {
   "cell_type": "code",
   "execution_count": 12,
   "id": "4c2e0a4b",
   "metadata": {},
   "outputs": [
    {
     "name": "stdout",
     "output_type": "stream",
     "text": [
      "x = 1.23\n"
     ]
    }
   ],
   "source": [
    "x=1.23\n",
    "print(f\"x = {x}\")"
   ]
  },
  {
   "cell_type": "code",
   "execution_count": null,
   "id": "fd13c42e",
   "metadata": {},
   "outputs": [],
   "source": []
  }
 ],
 "metadata": {
  "celltoolbar": "Slideshow",
  "kernelspec": {
   "display_name": "Python 3 (ipykernel)",
   "language": "python",
   "name": "python3"
  },
  "language_info": {
   "codemirror_mode": {
    "name": "ipython",
    "version": 3
   },
   "file_extension": ".py",
   "mimetype": "text/x-python",
   "name": "python",
   "nbconvert_exporter": "python",
   "pygments_lexer": "ipython3",
   "version": "3.11.4"
  },
  "rise": {
   "scroll": true
  }
 },
 "nbformat": 4,
 "nbformat_minor": 5
}
