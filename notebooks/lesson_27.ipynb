{
 "cells": [
  {
   "cell_type": "markdown",
   "id": "b750b1ee",
   "metadata": {
    "slideshow": {
     "slide_type": "slide"
    }
   },
   "source": [
    " # NE 630 - Lesson 27\n",
    "\n",
    "**LAST TIME**: Neutron kinetics with multiplication.\n",
    "\n",
    "**TODAY**: Neutron kinetics with delayed neutron precursors.\n",
    "\n",
    "**NEXT TIME**: Read 5.5."
   ]
  },
  {
   "cell_type": "markdown",
   "id": "378cbdfb",
   "metadata": {
    "slideshow": {
     "slide_type": "slide"
    }
   },
   "source": [
    "# The Kinetics Equation (Review)\n",
    "\n",
    "\n",
    "Recall that our focus was on \n",
    "\n",
    "$$\n",
    " \\frac{dn}{dt} = \n",
    "  \\left ( \\frac{k - 1}{l} \\right ) n(t) + S(t) \\, .\n",
    "$$\n",
    "\n",
    "where I've dropped $\\infty$'s for clarity."
   ]
  },
  {
   "cell_type": "markdown",
   "id": "48c254d2",
   "metadata": {
    "slideshow": {
     "slide_type": "fragment"
    }
   },
   "source": [
    "Recall also that we can write this as\n",
    "\n",
    "$$\n",
    " \\frac{dn}{dt} = \n",
    "  \\left ( \\frac{\\rho}{\\Lambda} \\right ) n(t) + S(t) \\, .\n",
    "$$\n",
    "\n",
    "where the *prompt generation time* is \n",
    "\n",
    "$$\n",
    "  \\Lambda = \\frac{l}{k} \\, .\n",
    "$$"
   ]
  },
  {
   "cell_type": "markdown",
   "id": "2c28bf53",
   "metadata": {
    "slideshow": {
     "slide_type": "subslide"
    }
   },
   "source": [
    "Key observations from last time:\n",
    "  \n",
    "  - If $S(t) = 0$, then $n$ increases if $\\rho > 0$, decreases if $\\rho < 0$, and stays constant if $\\rho = 0$.\n",
    "  \n",
    "  - If $S(t) = S_0$, then $n$ increases but approaches an asymptotic value for $\\rho < 0$.\n"
   ]
  },
  {
   "cell_type": "markdown",
   "id": "1cc421c4",
   "metadata": {
    "slideshow": {
     "slide_type": "fragment"
    }
   },
   "source": [
    "## Example 1 \n",
    "\n",
    "What does $n(t)$ look like if $S=S_0$ and $\\rho=0$?"
   ]
  },
  {
   "cell_type": "markdown",
   "id": "f43251f4",
   "metadata": {
    "slideshow": {
     "slide_type": "slide"
    }
   },
   "source": [
    "# Delayed Neutron Precursors"
   ]
  },
  {
   "cell_type": "markdown",
   "id": "628f291a",
   "metadata": {
    "slideshow": {
     "slide_type": "fragment"
    }
   },
   "source": [
    "Recall that every fission produces two, neutron-rich fission fragments."
   ]
  },
  {
   "cell_type": "markdown",
   "id": "ab93c944",
   "metadata": {
    "slideshow": {
     "slide_type": "fragment"
    }
   },
   "source": [
    "Some of these fragments produce radioactive daughters that decay by neutron emission, and we call the initial nuclide a **delayed neutron precursor** or just **precursor**."
   ]
  },
  {
   "cell_type": "markdown",
   "id": "3c873902",
   "metadata": {
    "slideshow": {
     "slide_type": "subslide"
    }
   },
   "source": [
    "## Precursors by Example: Br-87\n",
    "\n",
    "Among the most important precursors is ${}^{87}$Br:\n",
    "\n",
    "$$\n",
    "  {}^{87}\\text{Br} \\longrightarrow {}^{87}\\text{Kr}^* \\longrightarrow {}^{86}\\text{Kr} + n\n",
    "$$\n",
    "\n",
    "Here, the initial $\\beta^{-}$ decay occurs with $t_{1/2}=55.65$ s, and the decay of the excited ${}^{87}$Kr$^*$ is instantaneous.\n"
   ]
  },
  {
   "attachments": {
    "image-2.png": {
     "image/png": "[encoded data removed]"
    }
   },
   "cell_type": "markdown",
   "id": "23e491b6",
   "metadata": {
    "slideshow": {
     "slide_type": "fragment"
    }
   },
   "source": [
    "![image-2.png](attachment:image-2.png)\n",
    "\n",
    "(From [NuDat 3](https://www.nndc.bnl.gov/nudat3/))"
   ]
  },
  {
   "cell_type": "markdown",
   "id": "e1b7f831",
   "metadata": {
    "slideshow": {
     "slide_type": "fragment"
    }
   },
   "source": [
    "From this graphic, we have\n",
    "\n",
    "  - $\\gamma_{\\text{Br-87}} = 0.01274$ (fission yield)\n",
    "  - $f^n_{\\text{Br-87}} = 0.0260$ (branching ratio for n decay)"
   ]
  },
  {
   "cell_type": "markdown",
   "id": "a24a783b",
   "metadata": {
    "slideshow": {
     "slide_type": "subslide"
    }
   },
   "source": [
    "## Steady-State Br-87 Concentration\n"
   ]
  },
  {
   "cell_type": "markdown",
   "id": "c74fc24c",
   "metadata": {
    "slideshow": {
     "slide_type": "fragment"
    }
   },
   "source": [
    "As we did for ${}^{135}$Xe, we can explicitly track the concentration of ${}^{87}$Br in time for a *constant* flux by solving\n",
    "\n",
    "\n",
    "$$\n",
    "\\begin{equation}\n",
    "  \\frac{d N_{\\text{Br-87}}}{dt} = -\\lambda_{\\text{Br-87}} N_{\\text{Br-87}}(t) + \\gamma_{\\text{Br-87}} \\Sigma_f \\phi \\, .\n",
    "\\end{equation}\n",
    "$$"
   ]
  },
  {
   "cell_type": "markdown",
   "id": "3a356709",
   "metadata": {
    "slideshow": {
     "slide_type": "fragment"
    }
   },
   "source": [
    "The steady-state concentration comes from setting the derivative to zero, from which\n",
    "\n",
    "$$\n",
    "\\begin{equation}\n",
    "  N^{\\infty}_{\\text{Br-87}} = \\frac{\\gamma_{\\text{Br-87}} \\Sigma_f \\phi}{\\lambda_{\\text{Br-87}}} \\, .\n",
    "\\end{equation}\n",
    "$$"
   ]
  },
  {
   "cell_type": "markdown",
   "id": "37b983bd",
   "metadata": {
    "slideshow": {
     "slide_type": "subslide"
    }
   },
   "source": [
    "## Steady-State Neutron Emission Rate"
   ]
  },
  {
   "cell_type": "markdown",
   "id": "3149a5e6",
   "metadata": {
    "slideshow": {
     "slide_type": "fragment"
    }
   },
   "source": [
    "\n",
    "The total rate of neutron emission (in steady state) is\n",
    "\n",
    "$$\n",
    "\\begin{equation}\n",
    "\\begin{split}\n",
    "  R_n = \\bar{\\nu}\\Sigma_f \\phi &=  \\bar{\\nu}_p\\Sigma_f \\phi + f^n_{\\text{Br-87}} \\lambda_{\\text{Br-87}} N^{\\infty}_{\\text{Br-87}} \\\\\n",
    "  &= (\\bar{\\nu}_p + f^n_{\\text{Br-87}} \\gamma)\\Sigma_f \\phi  + S(t) \\, .\n",
    "\\end{split}\n",
    "\\end{equation}\n",
    "$$\n"
   ]
  },
  {
   "cell_type": "markdown",
   "id": "076657ff",
   "metadata": {
    "slideshow": {
     "slide_type": "fragment"
    }
   },
   "source": [
    "The $p$ subscript in $\\bar{\\nu}_p$ indicates only *prompt* neutrons."
   ]
  },
  {
   "cell_type": "markdown",
   "id": "864f1c63",
   "metadata": {
    "slideshow": {
     "slide_type": "subslide"
    }
   },
   "source": [
    "## The Delayed Neutron Precursor Fraction: $\\beta$"
   ]
  },
  {
   "cell_type": "markdown",
   "id": "8588a12a",
   "metadata": {
    "slideshow": {
     "slide_type": "fragment"
    }
   },
   "source": [
    "Based on the form above, one can define\n",
    "\n",
    "$$\n",
    "\\begin{equation}\n",
    "   \\bar{\\nu} = \\bar{\\nu}_p + f^n_{Br-87} \\gamma_{Br-87} =\\bar{\\nu}_p  + \\bar{\\nu}_d   \\, .\n",
    "\\end{equation}\n",
    "$$"
   ]
  },
  {
   "cell_type": "markdown",
   "id": "1975760b",
   "metadata": {
    "slideshow": {
     "slide_type": "fragment"
    }
   },
   "source": [
    "Thus, the fraction of all neutrons emitted from an initial fission event that are delayed is\n",
    "\n",
    "$$  \n",
    "\\begin{equation}\n",
    " \\frac{ \\bar{\\nu}_d}{\\bar{\\nu}} =  \\frac{f^n_{\\text{Br-87}} \\gamma_{\\text{Br-87}}}{\\bar{\\nu}} = \\frac{f^n_{\\text{Br-87}} \\gamma_{\\text{Br-87}}}{\\bar{\\nu}_p + f^n_{\\text{Br-87}} \\gamma_{\\text{Br-87}}} \\equiv \\beta_{\\text{Br-87}} \\, .\n",
    "\\end{equation}\n",
    "$$\n",
    "  \n",
    "Consequently, the fraction of emitted neutrons that are prompt is $1 - \\beta_{\\text{Br-87}}$, while $\\beta_{\\text{Br-87}}$ is the fraction of neutrons born delayed.\n"
   ]
  },
  {
   "cell_type": "markdown",
   "id": "bc73202b",
   "metadata": {
    "slideshow": {
     "slide_type": "fragment"
    }
   },
   "source": [
    "## Example 2\n",
    "\n",
    "Compute $\\beta_{\\text{Br-87}}$ for ${}^{235}$U (for which $\\bar{\\nu} = 2.43$)."
   ]
  },
  {
   "cell_type": "code",
   "execution_count": 1,
   "id": "0459a976",
   "metadata": {
    "slideshow": {
     "slide_type": "fragment"
    }
   },
   "outputs": [
    {
     "data": {
      "text/plain": [
       "0.00013631275720164606"
      ]
     },
     "execution_count": 1,
     "metadata": {},
     "output_type": "execute_result"
    }
   ],
   "source": [
    "f = 0.0260; gamma=0.01274; f*gamma/2.43"
   ]
  },
  {
   "cell_type": "markdown",
   "id": "6ae88264",
   "metadata": {
    "slideshow": {
     "slide_type": "subslide"
    }
   },
   "source": [
    "## The Delayed Neutron Precursor Concentration: $C$"
   ]
  },
  {
   "cell_type": "markdown",
   "id": "2ee2a5c1",
   "metadata": {
    "slideshow": {
     "slide_type": "fragment"
    }
   },
   "source": [
    "With $\\beta_{\\text{Br-87}}$, we can write a modified balance equation for neutrons:"
   ]
  },
  {
   "cell_type": "markdown",
   "id": "704939bb",
   "metadata": {
    "slideshow": {
     "slide_type": "fragment"
    }
   },
   "source": [
    "$$\n",
    "\\begin{equation}\n",
    "  \\frac{dn}{dt} = \\left ( \\frac{\\rho - \\beta_{Br-87}}{\\Lambda} \\right ) n(t) +  f_{Br-87} \\lambda_{Br-87} N_{Br-87} (t) + S(t) \\, ,\n",
    "\\end{equation}\n",
    "$$"
   ]
  },
  {
   "cell_type": "markdown",
   "id": "f2ba4344",
   "metadata": {
    "slideshow": {
     "slide_type": "fragment"
    }
   },
   "source": [
    "The corresponding balance equation for ${}^{87}$Br is"
   ]
  },
  {
   "cell_type": "markdown",
   "id": "8ef0ebde",
   "metadata": {
    "slideshow": {
     "slide_type": "fragment"
    }
   },
   "source": [
    "\n",
    "$$\n",
    "\\begin{equation}\n",
    "  \\frac{d N_{Br-87}}{dt} = -\\lambda_{Br-87} N_{Br-87}(t) + \\gamma_{Br-87} \\Sigma_f \\phi(t) \\, .\n",
    "\\end{equation}\n",
    "$$\n"
   ]
  },
  {
   "cell_type": "markdown",
   "id": "ffc9aa73",
   "metadata": {
    "slideshow": {
     "slide_type": "fragment"
    }
   },
   "source": [
    "Although complete, we can simplify the notation a little bit by defining\n",
    "\n",
    "$$\n",
    "    C_{Br-87} = f_n N_{Br-87}\n",
    "$$\n",
    "\n",
    "where $C_{Br-87}$ represents the concentration of only those ${}^{87}$Br nuclei that ultimately decay by neutron emission. "
   ]
  },
  {
   "cell_type": "markdown",
   "id": "9c9542ed",
   "metadata": {
    "slideshow": {
     "slide_type": "fragment"
    }
   },
   "source": [
    "$$\n",
    "\\begin{equation}\n",
    "\\boxed{\n",
    "  \\frac{dn}{dt} = \\left ( \\frac{\\rho - \\beta}{\\Lambda} \\right ) n(t) +  \\lambda_{Br-87} c_{Br-87} (t) + S(t)}  \\, .\n",
    "\\end{equation}\n",
    "$$\n",
    "\n",
    "and\n",
    "\n",
    "$$\n",
    "\\begin{equation}\n",
    "  \\boxed{\\frac{d c}{dt} = -\\lambda_{Br-87} c_{Br-87}(t) + \\beta_{Br-87} \\bar{\\nu} \\Sigma_f \\overbrace{\\bar{v}n(t)}^{\\phi(t)} }\\, .\n",
    "\\end{equation}\n",
    "$$"
   ]
  },
  {
   "cell_type": "markdown",
   "id": "9ae4325c",
   "metadata": {
    "slideshow": {
     "slide_type": "fragment"
    }
   },
   "source": [
    "Though specific to Br-87, these equations have the proper form for single-precursor kinetics!"
   ]
  },
  {
   "cell_type": "markdown",
   "id": "b2a78370",
   "metadata": {
    "slideshow": {
     "slide_type": "slide"
    }
   },
   "source": [
    "# The Kinetics Equations with Multiple Precursors\n",
    "\n",
    "Because there are several dozen (or more!) precursors, it a universal practice is to lump the precursors into groups defined by effective $\\beta$'s and $\\lambda$'s:"
   ]
  },
  {
   "attachments": {
    "image.png": {
     "image/png": "[encoded data removed]"
    }
   },
   "cell_type": "markdown",
   "id": "acb5caea",
   "metadata": {
    "slideshow": {
     "slide_type": "fragment"
    }
   },
   "source": [
    "![image.png](attachment:image.png)"
   ]
  },
  {
   "cell_type": "markdown",
   "id": "d0094ff8",
   "metadata": {
    "slideshow": {
     "slide_type": "subslide"
    }
   },
   "source": [
    "\n",
    "Using these data, the point kinetics equations are defined as\n",
    "\n",
    "\n",
    "$$\n",
    "\\begin{equation}\n",
    "  \\boxed{\\frac{dn}{dt} = \\left ( \\frac{\\rho(t) - \\beta}{\\Lambda} \\right ) n(t) + \\sum^N_{i=1} \\lambda_i C_i (t) + S(t)}  \\, ,\n",
    "  \\tag{Lewis 5.47}\n",
    "\\end{equation}\n",
    "$$\n",
    "\n",
    "where $\\beta = \\sum^N_{i=1} \\beta_i$, and\n",
    "\n",
    "$$\n",
    "\\begin{equation}\n",
    "  \\frac{d C_i}{dt} = -\\lambda_i C_i(t) + \\beta_i\\bar{\\nu} \\Sigma_f \\bar{v} n(t) \\, \\quad i = 1, 2, \\ldots N \\, .\n",
    "\\end{equation}\n",
    "$$\n",
    "\n",
    "$$\n",
    "\\begin{equation}\n",
    "  \\boxed{\\frac{d C_i}{dt} = -\\lambda_i C_i(t) + \\frac{\\beta_i}{\\Lambda} n(t) \\, \\quad i = 1, 2, \\ldots N } \\, .\n",
    "  \\tag{Lewis 5.48}\n",
    "\\end{equation}\n",
    "$$\n",
    "\n",
    "where $\\Lambda = (\\bar{\\nu}\\Sigma_f \\bar{v})^{-1}$. "
   ]
  },
  {
   "cell_type": "markdown",
   "id": "96c9e0b5",
   "metadata": {
    "slideshow": {
     "slide_type": "fragment"
    }
   },
   "source": [
    "**Food for thought**: In Lewis 5.47 as written above, $\\rho(t)$ is a function of time.  What real-world things could lead to a time-dependent reactivity?"
   ]
  },
  {
   "cell_type": "markdown",
   "id": "2a68185f",
   "metadata": {
    "slideshow": {
     "slide_type": "fragment"
    }
   },
   "source": [
    "## Example 3\n",
    "\n",
    "Suppose a reactor is operating at a constant power $P_0$ such that the neutron density is $n_0$.  \n",
    "\n",
    "  - Determine an expression for the initial concentration $C_i(0)$.\n",
    "  \n",
    "  - Using the precursor data from Table 5.1, $n_0 = 10^{8}$, and $\\Lambda = 5\\cdot 10^{-5}$ s, determine each of the initial precursor concentrations."
   ]
  },
  {
   "cell_type": "markdown",
   "id": "888c40b6",
   "metadata": {
    "slideshow": {
     "slide_type": "fragment"
    }
   },
   "source": [
    "From Eq. (5.48), we have \n",
    "\n",
    "$$\n",
    "  C_i(0) = \\frac{\\beta_i n_0}{\\lambda_i \\Lambda} \\, , \\quad i = 1, 2, \\ldots N \\, .\n",
    "$$"
   ]
  },
  {
   "cell_type": "markdown",
   "id": "074bc8bd",
   "metadata": {
    "slideshow": {
     "slide_type": "fragment"
    }
   },
   "source": [
    "Enter the data from Table 5.1, compute the decay constants, and compute the $C_i$'s:"
   ]
  },
  {
   "cell_type": "code",
   "execution_count": 2,
   "id": "32f2313d",
   "metadata": {
    "slideshow": {
     "slide_type": "fragment"
    }
   },
   "outputs": [
    {
     "data": {
      "text/html": [
       "<div>\n",
       "<style scoped>\n",
       "    .dataframe tbody tr th:only-of-type {\n",
       "        vertical-align: middle;\n",
       "    }\n",
       "\n",
       "    .dataframe tbody tr th {\n",
       "        vertical-align: top;\n",
       "    }\n",
       "\n",
       "    .dataframe thead th {\n",
       "        text-align: right;\n",
       "    }\n",
       "</style>\n",
       "<table border=\"1\" class=\"dataframe\">\n",
       "  <thead>\n",
       "    <tr style=\"text-align: right;\">\n",
       "      <th></th>\n",
       "      <th>halflife_i</th>\n",
       "      <th>beta_i</th>\n",
       "      <th>lambda_i</th>\n",
       "      <th>C_i0</th>\n",
       "    </tr>\n",
       "  </thead>\n",
       "  <tbody>\n",
       "    <tr>\n",
       "      <th>0</th>\n",
       "      <td>56.00</td>\n",
       "      <td>0.00021</td>\n",
       "      <td>0.012378</td>\n",
       "      <td>3.393219e+10</td>\n",
       "    </tr>\n",
       "    <tr>\n",
       "      <th>1</th>\n",
       "      <td>23.00</td>\n",
       "      <td>0.00142</td>\n",
       "      <td>0.030137</td>\n",
       "      <td>9.423684e+10</td>\n",
       "    </tr>\n",
       "    <tr>\n",
       "      <th>2</th>\n",
       "      <td>6.20</td>\n",
       "      <td>0.00128</td>\n",
       "      <td>0.111798</td>\n",
       "      <td>2.289846e+10</td>\n",
       "    </tr>\n",
       "    <tr>\n",
       "      <th>3</th>\n",
       "      <td>2.30</td>\n",
       "      <td>0.00257</td>\n",
       "      <td>0.301368</td>\n",
       "      <td>1.705554e+10</td>\n",
       "    </tr>\n",
       "    <tr>\n",
       "      <th>4</th>\n",
       "      <td>0.61</td>\n",
       "      <td>0.00075</td>\n",
       "      <td>1.136307</td>\n",
       "      <td>1.320066e+09</td>\n",
       "    </tr>\n",
       "    <tr>\n",
       "      <th>5</th>\n",
       "      <td>0.23</td>\n",
       "      <td>0.00027</td>\n",
       "      <td>3.013683</td>\n",
       "      <td>1.791827e+08</td>\n",
       "    </tr>\n",
       "  </tbody>\n",
       "</table>\n",
       "</div>"
      ],
      "text/plain": [
       "   halflife_i   beta_i  lambda_i          C_i0\n",
       "0       56.00  0.00021  0.012378  3.393219e+10\n",
       "1       23.00  0.00142  0.030137  9.423684e+10\n",
       "2        6.20  0.00128  0.111798  2.289846e+10\n",
       "3        2.30  0.00257  0.301368  1.705554e+10\n",
       "4        0.61  0.00075  1.136307  1.320066e+09\n",
       "5        0.23  0.00027  3.013683  1.791827e+08"
      ]
     },
     "execution_count": 2,
     "metadata": {},
     "output_type": "execute_result"
    }
   ],
   "source": [
    "import numpy as np\n",
    "import pandas # great package for dealing with data; used here for a pretty table.\n",
    "betas = np.array([0.00021, 0.00142, 0.00128, 0.00257, 0.00075, 0.00027])\n",
    "thalfs = np.array([56, 23, 6.2, 2.3, 0.61, 0.23])\n",
    "lambdas = np.log(2)/thalfs\n",
    "n0 = 1e8\n",
    "Lambda = 5e-5\n",
    "C_i = betas * n0 / (lambdas * Lambda)\n",
    "df = pandas.DataFrame([thalfs, betas, lambdas, C_i], index=['halflife_i', 'beta_i', 'lambda_i', 'C_i0']).T\n",
    "df"
   ]
  },
  {
   "cell_type": "markdown",
   "id": "f3e88de9",
   "metadata": {
    "slideshow": {
     "slide_type": "fragment"
    }
   },
   "source": [
    "**Food for thought**: Are there more neutrons or precursors in the reactor?"
   ]
  },
  {
   "cell_type": "markdown",
   "id": "4363f7e2",
   "metadata": {
    "slideshow": {
     "slide_type": "slide"
    }
   },
   "source": [
    "# Solving the Kinetics Equations Numerically"
   ]
  },
  {
   "cell_type": "markdown",
   "id": "85095138",
   "metadata": {
    "slideshow": {
     "slide_type": "fragment"
    }
   },
   "source": [
    "Most computer tools for solving systems of first-order equations require that the system be written in the following form:\n",
    "\n",
    "$$\n",
    "  \\frac{d}{dt} \\mathbf{y} = \\mathbf{f}(\\mathbf{y}(t), t) \\, .\n",
    "$$"
   ]
  },
  {
   "cell_type": "markdown",
   "id": "17d7fa5c",
   "metadata": {
    "slideshow": {
     "slide_type": "fragment"
    }
   },
   "source": [
    "We'll use `scipy.integrate.odeint`, which requires a function for $\\mathbf{f}$ of the form\n",
    "\n",
    "```\n",
    "def f(y, t, a, b, c, ...):\n",
    "   dydt = # do some operations with y, t, and a, b, or c\n",
    "   return dydt\n",
    "```\n",
    "\n",
    "along with an intial condition `y0`, an array of `times` with `n` times at which you want the solution, and (possibly) a list of arguments `[a, b, c, ...]` to pass to `f`.  These could be the decay constants, etc., if they aren't \"hard-coded\" in the function `f`.  Then, the solution is\n",
    "\n",
    "```\n",
    "y = odeint(f, y0, times, args=[a, b, c]) # y is a\n",
    "```\n",
    "\n",
    "\n",
    "\n",
    "For those with MATLAB experience, a function like [`ode15s`](https://www.mathworks.com/help/matlab/ref/ode15s.html) provides very similar functionality."
   ]
  },
  {
   "cell_type": "markdown",
   "id": "70feacd2",
   "metadata": {
    "slideshow": {
     "slide_type": "subslide"
    }
   },
   "source": [
    "Equations (5.47) and (5.48) can be written as\n",
    "\n",
    "$$\n",
    "\\begin{equation}\n",
    " \\frac{d}{dt}  \n",
    "   \\overbrace{\\left [ \\begin{array}{c} n(t) \\\\ C_1(t) \\\\  \\vdots \\\\ C_N(t) \\end{array} \\right ]}^{\\mathbf{y}}\n",
    " =\n",
    "   \\overbrace{\\left [ \\begin{array}{cccc}\n",
    "       (\\rho(t)-\\beta)/\\Lambda        & \\lambda_1 & \\ldots & \\lambda_N \\\\\n",
    "       \\beta_1 /\\Lambda  & -\\lambda_1 & \\ldots & 0        \\\\\n",
    "                             \\vdots & \\vdots & \\ddots & \\vdots        \\\\\n",
    "       \\beta_N /\\Lambda  & 0 & \\ldots & -\\lambda_N \\\\\n",
    "   \\end{array} \\right ]}^{\\mathbf{A}} \\times\n",
    "   \\left [ \\begin{array}{c} n(t) \\\\ C_1(t) \\\\  \\vdots \\\\ C_N(t) \\end{array} \\right ] +\n",
    "   \\overbrace{\\left [ \\begin{array}{c} S(t) \\\\ 0 \\\\  \\vdots \\\\ 0 \\end{array} \\right ]}^{\\mathbf{b}} \\, .\n",
    "\\end{equation}\n",
    "$$\n",
    "\n",
    "so we already have the form needed where $\\mathbf{f}(\\mathbf{y},t) = \\mathbf{A}\\mathbf{y}+\\mathbf{b}$.  "
   ]
  },
  {
   "cell_type": "markdown",
   "id": "a7776258",
   "metadata": {
    "slideshow": {
     "slide_type": "fragment"
    }
   },
   "source": [
    "If $S(t) = 0$ so that $\\mathbf{b} = \\mathbf{0}$, and $\\rho(t)$ is constant, then the system is [autonomous](https://en.wikipedia.org/wiki/Autonomous_system_(mathematics)), and the solution is incredibly easy to write down:\n",
    "\n",
    "$$\n",
    "  \\mathbf{y}(t) =  e^{\\mathbf{A}t}\\mathbf{y}_0 \\, .\n",
    "$$"
   ]
  },
  {
   "cell_type": "markdown",
   "id": "e7d2662f",
   "metadata": {
    "slideshow": {
     "slide_type": "fragment"
    }
   },
   "source": [
    "Yep, that's a *matrix* inside the exponential, it's called the [matrix exponential](https://en.wikipedia.org/wiki/Matrix_exponential), and it can be computed using, e.g., `scipy.linalg.expm`."
   ]
  },
  {
   "cell_type": "markdown",
   "id": "7b67ce2e",
   "metadata": {
    "slideshow": {
     "slide_type": "subslide"
    }
   },
   "source": [
    "## Example 4\n",
    "\n",
    "Suppose a reactor is initially critical with $n(0) = 10^8$.  Compute $n(t)$ and the precursor concentrations for $t \\in [0, 10]$ s assuming \n",
    "\n",
    "$$\n",
    "\\begin{equation}\n",
    " \\rho(t) =\n",
    "  \\begin{cases}\n",
    "      0       & \\quad  t < 1 \\\\\n",
    "      0.001   & \\quad  1 \\leq t < 2 \\\\\n",
    "      0       & \\quad  t > 2 \\, .\n",
    "  \\end{cases}\n",
    "\\end{equation}\n",
    "$$\n",
    "\n",
    "Take $\\Lambda = 5\\cdot 10^{-5}$ s."
   ]
  },
  {
   "cell_type": "markdown",
   "id": "3f7426ef",
   "metadata": {
    "slideshow": {
     "slide_type": "subslide"
    }
   },
   "source": [
    "**Step 1** Define the function for $d\\mathbf{y}/dt$."
   ]
  },
  {
   "cell_type": "code",
   "execution_count": 3,
   "id": "129b2e9b",
   "metadata": {
    "slideshow": {
     "slide_type": "fragment"
    }
   },
   "outputs": [],
   "source": [
    "def f(y, t, rho, betas, lambdas, Lambda):\n",
    "    n = y[0]                       # I find it useful to \"unpack\"\n",
    "    C = y[1:]                      #   the unknowns so that the equations are clearer.\n",
    "    beta = sum(betas)              # Total delayed neutron fraction\n",
    "    dndt = ((rho(t)-beta)/Lambda)*n + sum(C*lambdas)\n",
    "    dCdt = -C*lambdas + betas*n/Lambda\n",
    "    dydt = np.zeros(7)\n",
    "    dydt[0] = dndt                 # Collect the derivatives\n",
    "    dydt[1:] = dCdt                #   into one array that we return\n",
    "    return dydt"
   ]
  },
  {
   "cell_type": "markdown",
   "id": "94b7aa6d",
   "metadata": {
    "slideshow": {
     "slide_type": "subslide"
    }
   },
   "source": [
    "**Step 2**: Define all the arguments needed for `f`, including a function for $\\rho(t)$."
   ]
  },
  {
   "cell_type": "code",
   "execution_count": 4,
   "id": "a0d624ce",
   "metadata": {
    "slideshow": {
     "slide_type": "fragment"
    }
   },
   "outputs": [],
   "source": [
    "def rho(t):\n",
    "    if t < 1:\n",
    "        return 0.0\n",
    "    if t > 2:\n",
    "        return 0.0\n",
    "    return 0.001\n",
    "\n",
    "Lambda = 5e-5 \n",
    "# and we already have betas and lambdas from above"
   ]
  },
  {
   "cell_type": "markdown",
   "id": "912f61da",
   "metadata": {
    "slideshow": {
     "slide_type": "subslide"
    }
   },
   "source": [
    "**Step 3**: Define the initial condition and any quantities needed to do so."
   ]
  },
  {
   "cell_type": "code",
   "execution_count": 5,
   "id": "0ef15e20",
   "metadata": {
    "slideshow": {
     "slide_type": "fragment"
    }
   },
   "outputs": [],
   "source": [
    "y0 = np.zeros(7)\n",
    "n0 = 1e8\n",
    "y0[0] = n0\n",
    "y0[1:] = betas * n0 / (lambdas * Lambda)"
   ]
  },
  {
   "cell_type": "markdown",
   "id": "4ec4a8cb",
   "metadata": {
    "slideshow": {
     "slide_type": "subslide"
    }
   },
   "source": [
    "**Step 4**: Define the times at which we'd like the solution."
   ]
  },
  {
   "cell_type": "code",
   "execution_count": 6,
   "id": "48591d9e",
   "metadata": {
    "slideshow": {
     "slide_type": "fragment"
    }
   },
   "outputs": [],
   "source": [
    "times = np.linspace(0, 10, 10000)"
   ]
  },
  {
   "cell_type": "markdown",
   "id": "9f8e46b6",
   "metadata": {
    "slideshow": {
     "slide_type": "subslide"
    }
   },
   "source": [
    "**Step 5**: Load `odeint`, and solve the problem."
   ]
  },
  {
   "cell_type": "code",
   "execution_count": 7,
   "id": "db28e224",
   "metadata": {
    "slideshow": {
     "slide_type": "fragment"
    }
   },
   "outputs": [],
   "source": [
    "from scipy.integrate import odeint\n",
    "\n",
    "y = odeint(f, y0, times, args=(rho, betas, lambdas, Lambda))"
   ]
  },
  {
   "cell_type": "markdown",
   "id": "614399a0",
   "metadata": {
    "slideshow": {
     "slide_type": "subslide"
    }
   },
   "source": [
    "**Step 6**: Organize the output, and plot the results."
   ]
  },
  {
   "cell_type": "code",
   "execution_count": 8,
   "id": "6e1ec430",
   "metadata": {
    "slideshow": {
     "slide_type": "fragment"
    }
   },
   "outputs": [],
   "source": [
    "n = y[:, 0]\n",
    "C = y[:, 1:]"
   ]
  },
  {
   "cell_type": "code",
   "execution_count": 9,
   "id": "aceefea3",
   "metadata": {
    "slideshow": {
     "slide_type": "fragment"
    }
   },
   "outputs": [
    {
     "data": {
      "image/png": "[encoded data removed]",
      "text/plain": [
       "<Figure size 640x480 with 1 Axes>"
      ]
     },
     "metadata": {},
     "output_type": "display_data"
    }
   ],
   "source": [
    "import matplotlib.pyplot as plt\n",
    "plt.plot(times, n, label=\"$n(t)$\")\n",
    "for i in range(6):\n",
    "    plt.plot(times, C[:, i], label=f\"$C_{{{i+1}}}(t)$\")\n",
    "plt.xlabel(\"$t$ [s]\")\n",
    "plt.yscale(\"log\")\n",
    "plt.legend();"
   ]
  },
  {
   "cell_type": "code",
   "execution_count": 10,
   "id": "833635da",
   "metadata": {
    "slideshow": {
     "slide_type": "fragment"
    }
   },
   "outputs": [
    {
     "data": {
      "image/png": "[encoded data removed]",
      "text/plain": [
       "<Figure size 640x480 with 1 Axes>"
      ]
     },
     "metadata": {},
     "output_type": "display_data"
    }
   ],
   "source": [
    "import matplotlib.pyplot as plt\n",
    "plt.plot(times, n, label=\"$n(t)$\")\n",
    "plt.xlabel(\"$t$ [s]\"); plt.ylabel(\"$n(t)$\")\n",
    "plt.yscale(\"log\")\n",
    "plt.xlim(0.9, 10)\n",
    "plt.legend();"
   ]
  },
  {
   "cell_type": "code",
   "execution_count": null,
   "id": "09bc276a",
   "metadata": {},
   "outputs": [],
   "source": []
  }
 ],
 "metadata": {
  "celltoolbar": "Slideshow",
  "kernelspec": {
   "display_name": "Python 3 (ipykernel)",
   "language": "python",
   "name": "python3"
  },
  "language_info": {
   "codemirror_mode": {
    "name": "ipython",
    "version": 3
   },
   "file_extension": ".py",
   "mimetype": "text/x-python",
   "name": "python",
   "nbconvert_exporter": "python",
   "pygments_lexer": "ipython3",
   "version": "3.11.4"
  },
  "rise": {
   "scroll": true,
   "slideNumber": true
  }
 },
 "nbformat": 4,
 "nbformat_minor": 5
}
