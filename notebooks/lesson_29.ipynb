{
 "cells": [
  {
   "cell_type": "markdown",
   "id": "60a37e80",
   "metadata": {
    "slideshow": {
     "slide_type": "slide"
    }
   },
   "source": [
    "# NE 630 - Lesson 29"
   ]
  },
  {
   "cell_type": "markdown",
   "id": "b7421c22",
   "metadata": {
    "slideshow": {
     "slide_type": "subslide"
    }
   },
   "source": [
    "## Kinetics with Feedback"
   ]
  },
  {
   "cell_type": "markdown",
   "id": "fdf17159",
   "metadata": {
    "slideshow": {
     "slide_type": "fragment"
    }
   },
   "source": [
    "We already have \n",
    "\n",
    "$$\n",
    "\\begin{equation}\n",
    "  \\frac{dn}{dt} = \\left ( \\frac{\\rho(t) - \\beta}{\\Lambda} \\right ) n(t) + \\lambda C (t)  \\, ,\n",
    "\\end{equation}\n",
    "$$\n",
    "\n",
    "\n",
    "$$\n",
    "\\begin{equation}\n",
    "  \\frac{d C}{dt} = -\\lambda C(t) + \\frac{\\beta}{\\Lambda} n(t)  \\, .\n",
    "\\end{equation}\n",
    "$$"
   ]
  },
  {
   "cell_type": "markdown",
   "id": "368004aa",
   "metadata": {},
   "source": [
    "### An Aside on the Homework\n",
    "\n",
    "\n",
    "(From last time and repeated on the board today): An eigenvalue $\\alpha$ satisfies\n",
    "\n",
    "$$\n",
    "  \\text{det}(\\mathbf{A}-\\alpha\\mathbf{I}) = 0 \\longrightarrow \\left(\\frac{\\rho-\\beta}{\\Lambda}-\\alpha\\right)\\left(-\\lambda-\\alpha\\right)-\\frac{\\lambda \\beta}{\\Lambda} = 0 \\, .\n",
    "$$\n",
    "\n"
   ]
  },
  {
   "cell_type": "markdown",
   "id": "8af19f9f",
   "metadata": {
    "slideshow": {
     "slide_type": "subslide"
    }
   },
   "source": [
    "Rearranging, we have\n",
    "\n",
    "$$\n",
    " \\alpha^2  + \\overbrace{\\lambda \\left( 1 - \\frac{\\rho-\\beta}{\\lambda \\Lambda} \\right )}^{\\mathcal{B}} \\alpha \n",
    " \\overbrace{- \\left(\\frac{\\lambda(\\rho-\\beta)}{\\Lambda} + \\frac{\\lambda\\beta}{\\Lambda}\\right )}^{\\mathcal{C}} = 0 \\, .\n",
    " \\tag{1}\n",
    "$$\n",
    "\n",
    "The first assumption (i.e., $\\frac{1}{\\lambda \\Lambda} |\\beta - \\rho| \\gg 1$) lets us simplify $\\mathcal{B}$ as\n",
    "\n",
    "$$\n",
    " \\mathcal{B} = \\lambda \\left( 1 - \\frac{\\rho-\\beta}{\\lambda \\Lambda} \\right ) \n",
    "    \\approx \\frac{\\rho-\\beta}{ \\Lambda} \\, .\n",
    "$$\n",
    "\n",
    "Using this approximation in Eq. (1), and multiplying both sides by $\\Lambda$, we now seek roots of\n",
    "\n",
    "$$\n",
    " \\Lambda \\alpha^2  + \n",
    "   (\\beta-\\rho)\\alpha - \\lambda\\rho = 0 \\, .\n",
    "$$\n",
    "\n",
    "or\n",
    "\n",
    "$$\n",
    "  \\alpha_{\\pm} = \\frac{ -(\\beta-\\rho) \\pm (\\beta-\\rho)\\sqrt{1 + 4\\rho\\frac{\\Lambda \\lambda}{(\\beta-\\rho)^2} }}{2\\Lambda} \\, .\n",
    "$$\n",
    "\n",
    "From the first assumption, $x = \\Lambda \\lambda/|\\beta-\\rho| \\ll 1$.  Then rewrite the radical as\n",
    "\n",
    "$$\n",
    "\\sqrt{1 + \\frac{4\\rho}{\\beta-\\rho} x } \\, .\n",
    "$$\n",
    "\n",
    "\n",
    "This can be simplified by recalling that\n",
    "\n",
    "$$\n",
    "  f(x) \\approx f(0) + f'(0)x \n",
    "$$\n",
    "\n",
    "or \n",
    "\n",
    "$$\n",
    "f(x) = \\sqrt{1 + a x } \\approx \\sqrt{1 + 0} + \\frac{1}{2}(1+0)^{-1/2} a x = 1 + \\frac{ax}{2} \\, .\n",
    "$$\n",
    "\n",
    "This should get you to $\\alpha_{\\pm}$ that match the terms in the exponentials of the $n(t)$ given in the problem statement.  With $\\alpha_{\\pm}$, we can write down\n",
    "\n",
    "$$\n",
    "  n(t) = a e^{\\alpha_+ t} + b e^{\\alpha_- t} \\, \\qquad \\text{and} \\qquad C(t) = c e^{\\alpha_+ t} + d e^{\\alpha_- t} \\, .\n",
    "$$\n",
    "\n",
    "To get $a$ and $b$, let $n(0) = 1$ (everything will scale according to $n(0)$), so $a + b = n(0) = 1$ or $b = 1-a$.  Similarly, $c + d = C(0) = \\beta/(\\lambda \\Lambda)$.  Then, if we plug $n(t)$ and $C(t)$ into the first kinetics equation and set $t = 0$, you should find (after some rearranging) that\n",
    "\n",
    "$$\n",
    "a  \\left ( \\frac{\\rho}{\\beta-\\rho} - \\frac{\\rho-\\beta}{\\lambda \\Lambda} \\right)   =  \\frac{\\beta}{ \\lambda\\Lambda}\n",
    "$$\n",
    "\n",
    "Use the first approximation another time, and you'll end up with\n",
    "\n",
    "$$\n",
    "  a= \\frac{\\beta}{\\beta-\\rho} \\, .\n",
    "$$"
   ]
  },
  {
   "cell_type": "markdown",
   "id": "7105d2a2",
   "metadata": {
    "slideshow": {
     "slide_type": "fragment"
    }
   },
   "source": [
    "And we know that \n",
    "\n",
    "\n",
    "$$\n",
    "\\rho(t) = \\rho_0 - \\alpha T_f(t)\n",
    "$$\n",
    "\n",
    "or\n",
    "\n",
    "$$\n",
    "  \\frac{d\\rho}{dT_f} \\equiv \\alpha_{T_f} \\approx \\text{-3 pcm/K}\n",
    "$$"
   ]
  },
  {
   "cell_type": "markdown",
   "id": "f0477810",
   "metadata": {
    "slideshow": {
     "slide_type": "fragment"
    }
   },
   "source": [
    "\n",
    "so \n",
    "\n",
    "$$\n",
    "  \\frac{d\\rho}{dt} = \\frac{d\\rho}{dT_f} \\frac{dT_f}{dt} = \\alpha_{T_f} \\frac{dT_f}{dt}\n",
    "$$"
   ]
  },
  {
   "cell_type": "markdown",
   "id": "06e86af3",
   "metadata": {
    "slideshow": {
     "slide_type": "fragment"
    }
   },
   "source": [
    "Our model:  **assume** that \n",
    "\n",
    "$$\n",
    " T_f(t) = \\kappa \\phi(t) + T(0) = \\kappa \\bar{v} n(t) + T(0)\n",
    "$$\n",
    "\n",
    "so\n",
    "\n",
    "$$\n",
    "  \\frac{d T_f}{dt} = \\kappa \\bar{v} \\frac{dn}{dt} \n",
    "$$"
   ]
  },
  {
   "cell_type": "code",
   "execution_count": 53,
   "id": "1fc758ba",
   "metadata": {
    "slideshow": {
     "slide_type": "subslide"
    }
   },
   "outputs": [
    {
     "name": "stdout",
     "output_type": "stream",
     "text": [
      "1.0842447281323879e-13\n"
     ]
    }
   ],
   "source": [
    "sigma_f = 100 # barns\n",
    "density_UO2 = 10.0 # g/cc\n",
    "n_U235 = 0.05*(238/(238+32))*density_UO2*6.022e23/235 # a/cc\n",
    "Sigma_f = sigma_f*1e-24*n_U235 # fission/cm\n",
    "E_per_fission = 180 # MeV\n",
    "heat_capacity_UO2 = 300 # J / gK\n",
    "kappa = Sigma_f * E_per_fission * 1.6e-13 / heat_capacity_UO2 * density_UO2\n",
    "print(kappa)"
   ]
  },
  {
   "cell_type": "code",
   "execution_count": 54,
   "id": "46b19c0d",
   "metadata": {
    "slideshow": {
     "slide_type": "subslide"
    }
   },
   "outputs": [],
   "source": [
    "def f(y, t, rho00, alpha):\n",
    "    n, C, T = y[0], y[1], y[2]\n",
    "    beta = 0.0065\n",
    "    Lambda = 1e-4 # mean generation time (s)\n",
    "    lambda_ = np.log(2.0)/5.0  # delayed decay constant (1/s)\n",
    "    v = 2200*100\n",
    "    #alpha = 3e-5 # 3 pcm / K\n",
    "\n",
    "    sigma_f = 100 # barns\n",
    "    density_UO2 = 10.0 # g/cc\n",
    "    n_U235 = 0.05*(238/(238+32))*density_UO2*6.022e23/235 # a/cc\n",
    "    Sigma_f = sigma_f*1e-24*n_U235 # fission/cm\n",
    "    E_per_fission = 180 # MeV\n",
    "    heat_capacity_UO2 = 300 # J / gK\n",
    "\n",
    "    kappa = Sigma_f * E_per_fission * 1.6e-13 / heat_capacity_UO2 * density_UO2\n",
    "\n",
    "    # set the inserted reactivity with no feedback (i.e., rho at 300)\n",
    "    rho0 = 0.0\n",
    "    if 0 < t < 5:\n",
    "        rho0 = rho00 # <<<< CHANGE ME\n",
    "\n",
    "    # add the feedback effect\n",
    "    rho = rho0 - alpha*(T-300)\n",
    "\n",
    "    dndt = (rho - beta)/Lambda*n + lambda_ * C\n",
    "    dCdt = beta/Lambda*n  - lambda_ * C\n",
    "    dTdt = v*kappa*dndt \n",
    "\n",
    "    return dndt, dCdt, dTdt"
   ]
  },
  {
   "cell_type": "code",
   "execution_count": 55,
   "id": "875a2947",
   "metadata": {
    "slideshow": {
     "slide_type": "subslide"
    }
   },
   "outputs": [],
   "source": [
    "import numpy as np\n",
    "from scipy.integrate import odeint\n",
    "\n",
    "times = np.linspace(-5, 10, 1000)\n",
    "\n",
    "beta_1 = 0.0065\n",
    "Lambda = 1e-4 # mean generation time (s)\n",
    "lambda_1 = np.log(2.0)/5.0  # delayed decay constant (1/s)\n",
    "\n",
    "n0 = 1e9\n",
    "C0 = beta_1 / Lambda * n0 / lambda_1\n",
    "T0 = 300.0\n",
    "\n",
    "y0 = [n0, C0, T0]\n"
   ]
  },
  {
   "cell_type": "code",
   "execution_count": 56,
   "id": "7ec4918b",
   "metadata": {
    "slideshow": {
     "slide_type": "fragment"
    }
   },
   "outputs": [],
   "source": [
    "import matplotlib.pyplot as plt"
   ]
  },
  {
   "cell_type": "code",
   "execution_count": 62,
   "id": "4da253f6",
   "metadata": {
    "slideshow": {
     "slide_type": "fragment"
    }
   },
   "outputs": [
    {
     "data": {
      "text/plain": [
       "[<matplotlib.lines.Line2D at 0x7f287fff9a10>]"
      ]
     },
     "execution_count": 62,
     "metadata": {},
     "output_type": "execute_result"
    },
    {
     "data": {
      "image/png": "[encoded data removed]",
      "text/plain": [
       "<Figure size 640x480 with 1 Axes>"
      ]
     },
     "metadata": {},
     "output_type": "display_data"
    }
   ],
   "source": [
    "sol1 = odeint(f, y0, times, args=(0.003, 0e-5))\n",
    "sol2 = odeint(f, y0, times, args=(0.003, 3e-5))\n",
    "\n",
    "plt.plot(times, sol1[:, 0])\n",
    "plt.plot(times, sol2[:, 0])"
   ]
  },
  {
   "cell_type": "code",
   "execution_count": null,
   "id": "0be4b8c0",
   "metadata": {},
   "outputs": [],
   "source": []
  }
 ],
 "metadata": {
  "celltoolbar": "Slideshow",
  "kernelspec": {
   "display_name": "Python 3 (ipykernel)",
   "language": "python",
   "name": "python3"
  },
  "language_info": {
   "codemirror_mode": {
    "name": "ipython",
    "version": 3
   },
   "file_extension": ".py",
   "mimetype": "text/x-python",
   "name": "python",
   "nbconvert_exporter": "python",
   "pygments_lexer": "ipython3",
   "version": "3.11.4"
  },
  "rise": {
   "scroll": true,
   "slideNumber": true
  }
 },
 "nbformat": 4,
 "nbformat_minor": 5
}
