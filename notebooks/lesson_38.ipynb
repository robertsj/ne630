{
 "cells": [
  {
   "cell_type": "markdown",
   "id": "1ee79889",
   "metadata": {
    "slideshow": {
     "slide_type": "slide"
    }
   },
   "source": [
    "# NE 630 - Lesson 38\n",
    "\n",
    "**LAST TIME**:  The reflected reactor.\n",
    "\n",
    "**TODAY**: Modeling reactor control (and control \"worth\").\n",
    "\n",
    "**NEXT TIME**:  When is \"diffusion theory\" a good approximation? (Read 6.6)"
   ]
  },
  {
   "cell_type": "markdown",
   "id": "1eca0927",
   "metadata": {
    "slideshow": {
     "slide_type": "slide"
    }
   },
   "source": [
    "# Review: Reflector Savings\n",
    "\n",
    "For our **bare** reactor, we needed to satisfy the criticality condition\n",
    "\n",
    "$$\n",
    "  \\cot{\\frac{Ba}{2}} = 2BD_I  \\, .\n",
    "$$\n",
    "\n",
    "and for $D_I = 1$ cm, $\\Sigma_a = 0.1$ 1/cm, $k_{\\infty} = 1.3$, and $a = 50$ cm, we found\n",
    "\n",
    "$$\n",
    "B^2 = 0.003387 \\qquad \\text{and} \\qquad  k = 1.25741 \\, .\n",
    "$$"
   ]
  },
  {
   "cell_type": "markdown",
   "id": "d7ec6507",
   "metadata": {
    "slideshow": {
     "slide_type": "fragment"
    }
   },
   "source": [
    "For the **reflected** reactor (with an *infinitely thick reflector*), we found the modified criticality condition\n",
    "\n",
    "$$\n",
    "  a' = \\frac{2 \\operatorname{atan}{\\left(\\frac{D_{II}}{B D_{I} L_{II}} \\right)}}{B}\n",
    "$$\n",
    "\n",
    "where $a'$ is the width of the reflected reactor (and $a$ is the width of the bare reactor)."
   ]
  },
  {
   "cell_type": "code",
   "execution_count": 1,
   "id": "c86fed80",
   "metadata": {
    "slideshow": {
     "slide_type": "fragment"
    }
   },
   "outputs": [],
   "source": [
    "import numpy as np\n",
    "D_I = 1.0; Σ_a_I = 0.1;   L_I = np.sqrt(D_I/Σ_a_I);  k_oo = 1.3;\n",
    "D_II = 0.9; Σ_a_II = 0.01; L_II = np.sqrt(D_II/Σ_a_II); a = 50;\n",
    "B_bare = np.sqrt(0.003387)"
   ]
  },
  {
   "cell_type": "code",
   "execution_count": 2,
   "id": "b1db3f42",
   "metadata": {
    "slideshow": {
     "slide_type": "fragment"
    }
   },
   "outputs": [
    {
     "name": "stdout",
     "output_type": "stream",
     "text": [
      "a' = 17.5356 cm\n"
     ]
    }
   ],
   "source": [
    "a_prime = np.arctan(D_II/(B_bare*D_I*L_II))/B_bare\n",
    "print(f\"a' = {a_prime:.4f} cm\")"
   ]
  },
  {
   "cell_type": "markdown",
   "id": "28461b40",
   "metadata": {
    "slideshow": {
     "slide_type": "fragment"
    }
   },
   "source": [
    "The key point: $a' = 17.5356$ cm is *much less than* $a = 50$ cm for the same value of $B^2$ (and, hence, $k$)."
   ]
  },
  {
   "cell_type": "markdown",
   "id": "5b24ebc4",
   "metadata": {
    "slideshow": {
     "slide_type": "fragment"
    }
   },
   "source": [
    "The book defines the **reflector savings** specifically as $\\delta_x = (1/2)(a-a')$, so our savings would be"
   ]
  },
  {
   "cell_type": "code",
   "execution_count": 3,
   "id": "270dde6b",
   "metadata": {
    "slideshow": {
     "slide_type": "fragment"
    }
   },
   "outputs": [
    {
     "name": "stdout",
     "output_type": "stream",
     "text": [
      "reflector savings = 16.2322 cm\n"
     ]
    }
   ],
   "source": [
    "print(f\"reflector savings = {0.5*(a-a_prime):.4f} cm\")"
   ]
  },
  {
   "cell_type": "markdown",
   "id": "38b9c3f5",
   "metadata": {
    "slideshow": {
     "slide_type": "fragment"
    }
   },
   "source": [
    "The approximation $\\delta_z \\approx \\hat{M}D/\\hat{D}$ becomes $\\delta_x \\approx L_{II} D_I / D_{II}$ in our one-group model and gives"
   ]
  },
  {
   "cell_type": "code",
   "execution_count": 4,
   "id": "6a98010a",
   "metadata": {
    "slideshow": {
     "slide_type": "fragment"
    }
   },
   "outputs": [
    {
     "name": "stdout",
     "output_type": "stream",
     "text": [
      "reflector savings ≈ 10.5409 cm\n"
     ]
    }
   ],
   "source": [
    "print(f\"reflector savings ≈ {L_II*D_I/D_II:.4f} cm\") "
   ]
  },
  {
   "cell_type": "markdown",
   "id": "463767f7",
   "metadata": {
    "slideshow": {
     "slide_type": "slide"
    }
   },
   "source": [
    "# Modeling Control\n",
    "\n"
   ]
  },
  {
   "cell_type": "markdown",
   "id": "2c87d85a",
   "metadata": {
    "slideshow": {
     "slide_type": "fragment"
    }
   },
   "source": [
    "(Active) reactor control comes from a change in $\\Sigma_a \\rightarrow \\Sigma_a + \\delta \\Sigma_a$ via\n",
    "\n",
    "  - Soluble poison (a *uniform* change in $\\Sigma_a$)\n",
    "  - Control rods (a *local* change in $\\Sigma_a$)"
   ]
  },
  {
   "cell_type": "markdown",
   "id": "c17a0bb9",
   "metadata": {
    "slideshow": {
     "slide_type": "fragment"
    }
   },
   "source": [
    "What we want is $\\delta \\rho = \\frac{k'-k}{k'k} \\approx \\frac{k'-k}{k'}$  given $\\delta \\Sigma_a$.  (Usually, $k=1$!)"
   ]
  },
  {
   "cell_type": "markdown",
   "id": "18d81d13",
   "metadata": {
    "slideshow": {
     "slide_type": "fragment"
    }
   },
   "source": [
    "Method 1: Just resolve the problem using $\\Sigma_a = \\Sigma_a+\\delta \\Sigma_a$ to get $k'$!  This is called a **direct perturbation** and produces the exact result."
   ]
  },
  {
   "cell_type": "markdown",
   "id": "acf17a61",
   "metadata": {
    "slideshow": {
     "slide_type": "fragment"
    }
   },
   "source": [
    "Method 2: Use \"naïve\" perturbation theory to *estimate* $\\delta\\rho$."
   ]
  },
  {
   "cell_type": "markdown",
   "id": "0515ddff",
   "metadata": {
    "slideshow": {
     "slide_type": "fragment"
    }
   },
   "source": [
    "Method 3: Use first-order perturbation theory to *estimate* $\\delta\\rho$."
   ]
  },
  {
   "cell_type": "markdown",
   "id": "15cd0031",
   "metadata": {
    "slideshow": {
     "slide_type": "fragment"
    }
   },
   "source": [
    "# Naïve Perturbation Theory\n",
    "\n",
    "Because we're trying to find $\\delta \\rho$ or, equivalently, the new eigenvalue $k'$, it helps to return to the basics:  what *is* $k$?  Gains to losses.\n",
    "\n",
    "For a bare slab of width $a$, we can write\n",
    "\n",
    "$$\n",
    "  k = \\frac{\\text{gains}}{\\text{losses}} = \n",
    "  \\frac{\\int^{a/2}_{-a/2} \\nu\\Sigma_f(x) \\phi(x) dx}\n",
    "       {\\int^{a/2}_{-a/2} \\Sigma_a(x) \\phi(x) dx + \\text{leakage}} \\, .\n",
    "$$\n",
    "\n",
    "Because the reactor is bare, there should be no neutrons *entering* the reactor and, hence, the leakage should be the sum of the currents exiting the left and right sides, or $-D \\phi'(a/2) + D \\phi'(-a/2)$ (note the signs!).\n",
    "\n",
    "The naïve approach would simply substitute $\\Sigma_a = \\Sigma_a + \\delta \\Sigma_a$ into this equation to find\n",
    "\n",
    "$$\n",
    "  k' \\approx\n",
    "  \\frac{\\int^{a/2}_{-a/2} \\nu\\Sigma_f(x) \\phi(x) dx}\n",
    "       {\\int^{a/2}_{-a/2} (\\Sigma_a(x)+\\delta \\Sigma_a(x)) \\phi(x) dx + \\text{leakage}} \\, ,\n",
    "$$\n",
    "\n",
    "and\n",
    "\n",
    "$$\n",
    " \\delta \\rho = \\frac{k'-1}{k'} - \\frac{k-1}{k} = \\frac{k'-k}{k'k} \\approx\n",
    "- \\frac{ \\displaystyle \\int_{a/2}^{-a/2} \n",
    "   \\delta\\Sigma_a(x) \\phi(x) dx}\n",
    "   { \\displaystyle \\int_{-a/2}^{a/2}  \\nu\\Sigma_f(x) \\phi(x) dx}\n",
    "   \\tag{1}\n",
    "$$\n",
    "\n",
    "While this provides an estimate, it can't be totally right: a nonuniform $\\Sigma_a$ would yield a flux with a shape more complicated than a single cosine term!  "
   ]
  },
  {
   "cell_type": "markdown",
   "id": "ed1b75de",
   "metadata": {
    "slideshow": {
     "slide_type": "slide"
    }
   },
   "source": [
    "# First-Order Perturbation Theory"
   ]
  },
  {
   "cell_type": "markdown",
   "id": "3da03ad4",
   "metadata": {
    "slideshow": {
     "slide_type": "fragment"
    }
   },
   "source": [
    "The basic idea of perturbation theory is to *weight* a change in, e.g., $\\Sigma_a$, by the *importance* of that change."
   ]
  },
  {
   "cell_type": "markdown",
   "id": "e7da56f5",
   "metadata": {
    "slideshow": {
     "slide_type": "fragment"
    }
   },
   "source": [
    "This *importance* is represented by the function $\\phi^*(x)$ called the *adjoint flux*."
   ]
  },
  {
   "cell_type": "markdown",
   "id": "3746ebd1",
   "metadata": {
    "slideshow": {
     "slide_type": "subslide"
    }
   },
   "source": [
    "For a change $\\delta \\Sigma_a(x)$ and $\\delta \\nu\\Sigma_f(x)$, the result is\n",
    "\n",
    "$$\n",
    "\\delta \\rho \\approx - \\frac{ \\displaystyle \\int_{-a/2}^{a/2} \\phi^*(x) \n",
    "   \\left(\\delta\\Sigma_a(x)- \\frac{\\delta \\nu\\Sigma_f(x)}{k} \\right) \\phi(x) dx}\n",
    "   { \\displaystyle \\int_{-a/2}^{a/2} \\phi^*(x) \\nu\\Sigma_f(x) \\phi(x) dx}\n",
    "\\tag{2}\n",
    "$$"
   ]
  },
  {
   "cell_type": "markdown",
   "id": "86a64ff0",
   "metadata": {
    "slideshow": {
     "slide_type": "fragment"
    }
   },
   "source": [
    "As it turns out, the one-group diffusion equation is \"self adjoint\" and $\\phi^* = \\phi$, and Eq. (2) looks a lot like Eq. (7.82) in the book.  Compared to (1), Eq. (2) preferentially weights the absorption rate in regions where the flux is largest, which corresponds to regions in which the fission rate is largest. Hence, the impact of control is larger in high-flux (high-importance) regions.  We will be exploring this via measurements in NE 648."
   ]
  },
  {
   "cell_type": "markdown",
   "id": "80ed0fc3",
   "metadata": {
    "slideshow": {
     "slide_type": "fragment"
    }
   },
   "source": [
    "Note: For other coordinate systems, the integrals above may be over *radius* or entire *volumes*---be careful!"
   ]
  },
  {
   "cell_type": "markdown",
   "id": "f77dafc3",
   "metadata": {
    "slideshow": {
     "slide_type": "fragment"
    }
   },
   "source": [
    "Again, this provides an *estimate*.  Here, a change in $\\Sigma_a$ near the boundary (where $\\phi(x)$ is *lower*) will"
   ]
  },
  {
   "cell_type": "markdown",
   "id": "3f0e2ac4",
   "metadata": {
    "slideshow": {
     "slide_type": "slide"
    }
   },
   "source": [
    "# Worked Example\n",
    "\n",
    "Consider our favorite bare slab reactor of width $a$ with given $D$, $\\Sigma_a$, and $\\nu\\Sigma_f$.  Let's compute the change in $k$ when we perturb $\\Sigma_a \\to \\Sigma_a + \\delta \\Sigma_a$ by  (a) naïve perturbation theory, (b) first-order perturbation theory, and (c) direct perturbation. \n",
    "\n",
    "As a specific, nontrivial example, we'll assume that in the right third of the slab (i.e., $x = a/6$ to $x = a/2$), our absorption cross section increases by 10% to $\\Sigma_a = 0.11$. \n",
    "\n",
    "First, define the baseline case:"
   ]
  },
  {
   "cell_type": "code",
   "execution_count": 5,
   "id": "283a7096",
   "metadata": {
    "slideshow": {
     "slide_type": "fragment"
    }
   },
   "outputs": [
    {
     "name": "stdout",
     "output_type": "stream",
     "text": [
      "B^2 = 0.003387   k = 1.25741\n"
     ]
    }
   ],
   "source": [
    "# Here is our baseline value of k = k_0\n",
    "import numpy as np\n",
    "D = 1.0; Σ_a = 0.1; vΣ_f=1.3*0.1; k_oo = vΣ_f/Σ_a; L = np.sqrt(D/Σ_a); a=50;\n",
    "cot = lambda x: np.cos(x)/np.sin(x)\n",
    "f = lambda B: cot(B*a/2)-2*B*D\n",
    "from scipy.optimize import fsolve\n",
    "B_0 = fsolve(f, np.pi/a)[0]\n",
    "k_0 = k_oo / (1+L**2*B_0**2);\n",
    "print(f\"B^2 = {B_0**2:.6f}   k = {k_0:.5f}\")"
   ]
  },
  {
   "cell_type": "markdown",
   "id": "0e18c500",
   "metadata": {
    "slideshow": {
     "slide_type": "fragment"
    }
   },
   "source": [
    "Just to make sure we're truly balanced, let's compute compute gains and losses.  The neutron production and absorption rates require the integral of the flux, or\n",
    "\n",
    "$$\n",
    " \\displaystyle\\int^{a/2}_{-a/2}\\phi(x) = C\\cos(Bx) dx = \\frac{2C}{B}\\sin(Ba/2) \\, .\n",
    "$$\n",
    "\n",
    "The leakage requires its derivative at either boundary, or\n",
    "\n",
    "$$\n",
    "  \\frac{d\\phi}{dx}\\Big |_{x=\\pm a/2} = \\mp CB\\sin(Ba/2) \\, .\n",
    "$$"
   ]
  },
  {
   "cell_type": "markdown",
   "id": "82f47268",
   "metadata": {
    "slideshow": {
     "slide_type": "fragment"
    }
   },
   "source": [
    "Then, \n",
    "\n",
    "$$\n",
    "  k_0 = \\frac{R_n}{R_a + R_{leak}} = \\frac{\\nu\\Sigma_f \\frac{2C}{B}\\sin(Ba/2) } \n",
    "  { \\Sigma_a   \\frac{2C}{B}\\sin(Ba/2)  + 2D C B \\sin(Ba/2) } \n",
    "   = \\frac{\\nu\\Sigma_f }\n",
    "  { \\Sigma_a  + D  B^2  } = \\frac{k_{\\infty}}{1 + L^2 B^2} \\, .\n",
    "$$\n",
    "\n",
    "Here, we use $k_0$ to indicate the initial value of $k$ for this unperturbed case."
   ]
  },
  {
   "cell_type": "markdown",
   "id": "d3351afd",
   "metadata": {
    "slideshow": {
     "slide_type": "fragment"
    }
   },
   "source": [
    "**(a) Naïve Perturbation Theory**\n",
    "\n",
    "Now, integrate the absorption-rate change by computing\n",
    "\n",
    "$$\n",
    "\\begin{split}\n",
    "  \\delta R_a &= \\displaystyle\\int^{a/2}_{-a/2} \\delta \\Sigma_a(x) \\phi(x) dx \\\\\n",
    "  &=\n",
    "    \\displaystyle\\int^{a/6}_{-a/2} 0 C\\cos(Bx) dx \n",
    "     + \\displaystyle\\int^{a/2}_{a/6} \\delta\\Sigma_a C\\cos(Bx) dx \\\\\n",
    "  &=\n",
    "   \\frac{C}{B} \\big( [\\sin(Ba/2) - \\sin(Ba/6)] \\delta \\Sigma_a \\big) \\\\\n",
    "\\end{split}\n",
    "$$\n",
    "\n",
    "Then\n",
    "\n",
    "$$\n",
    "\\delta \\rho_{np} = -\\frac{ \\frac{C}{B} \\big( [\\sin(Ba/2) - \\sin(Ba/6)] \\delta \\Sigma_a \\big)  }\n",
    "  {\\nu\\Sigma_f \\frac{2C}{B}\\sin(Ba/2)} = -\\frac{ \\left( 1- \\displaystyle\\frac{\\sin(Ba/6)}{\\sin(Ba/2)} \\right )  \\delta \\Sigma_a   }\n",
    "  {2 \\nu\\Sigma_f  }\n",
    "$$\n",
    "\n",
    "and\n",
    "\n",
    "$$\n",
    "  k_1 \\approx \\frac{k_0}{1-k_0 \\delta \\rho_{np}} \\, .\n",
    "$$\n"
   ]
  },
  {
   "cell_type": "code",
   "execution_count": 6,
   "id": "21abbe14",
   "metadata": {
    "slideshow": {
     "slide_type": "fragment"
    }
   },
   "outputs": [
    {
     "name": "stdout",
     "output_type": "stream",
     "text": [
      "δρ_np = -0.02041  k_1 = 1.22595\n"
     ]
    }
   ],
   "source": [
    "δΣ_a = 0.01\n",
    "δρ_np = -(1-np.sin(B_0*a/6)/np.sin(B_0*a/2))*δΣ_a/(2*vΣ_f)\n",
    "k_1 = k_0/(1-k_0*δρ_np)\n",
    "print(f\"δρ_np = {δρ_np:.5f}  k_1 = {k_1:.5f}\")"
   ]
  },
  {
   "cell_type": "markdown",
   "id": "bf4553fb",
   "metadata": {
    "slideshow": {
     "slide_type": "fragment"
    }
   },
   "source": [
    "**(b) First-Order Perturbation Theory**\n",
    "\n",
    "Nearly the same procedure is used for the first-order perturbation theory, except now\n",
    "\n",
    "$$\n",
    "\\begin{split}\n",
    "\\delta \\rho_{pt} &\\approx - \n",
    "\\frac{ \\displaystyle   \\displaystyle\\int^{a/6}_{-a/2} 0 C\\cos^2(Bx) dx \n",
    "     + \\displaystyle\\int^{a/2}_{a/6} \\delta\\Sigma_a C\\cos^2(Bx) dx }\n",
    "   { \\displaystyle   \\displaystyle\\int^{a/2}_{-a/2} \\nu\\Sigma_f C\\cos^2(Bx) dx } \\\\\n",
    "   &=  \\frac{\\delta\\Sigma_a}{\\nu\\Sigma_f} \\left ( \\displaystyle \\frac{\\frac{B a}{3} - \\frac{\\sin{\\left(\\frac{B a}{3} \\right)}}{2} + \\frac{\\sin{\\left(B a \\right)}}{2}}{B a + \\sin{\\left(B a \\right)}} \\right ) \\, .\n",
    "\\end{split}\n",
    "$$"
   ]
  },
  {
   "cell_type": "code",
   "execution_count": 7,
   "id": "80ce4d9d",
   "metadata": {
    "slideshow": {
     "slide_type": "fragment"
    }
   },
   "outputs": [
    {
     "name": "stdout",
     "output_type": "stream",
     "text": [
      "δρ_np = -0.01647  k_1 = 1.23189\n"
     ]
    }
   ],
   "source": [
    "δρ_pt = -δΣ_a/vΣ_f * ((B_0*a/3 - np.sin(B_0*a/3)/2 + np.sin(B_0*a)/2)/(B_0*a+np.sin(B_0*a)))\n",
    "k_1 = k_0/(1-k_0*δρ_pt)\n",
    "print(f\"δρ_np = {δρ_pt:.5f}  k_1 = {k_1:.5f}\")"
   ]
  },
  {
   "cell_type": "markdown",
   "id": "d3ddbb63",
   "metadata": {
    "slideshow": {
     "slide_type": "fragment"
    }
   },
   "source": [
    "**Food for thought**: This is a *lower* estimate of $\\delta\\rho$. What does this say about the effectiveness of putting a control rod near the boundary of our bare core?\n",
    "\n",
    "**Food for thought**: When $\\Sigma_a$ changes, so, too, must $\\Sigma_t$, $\\Sigma_{tr}$, and $D$.  However, this effect is neglected in the derivation of the perturbation result. We could explore this impact, too, below, but how do you suspect setting $D' = \\frac{1}{3(\\Sigma_{tr} + \\delta\\Sigma_a)} \\approx \\frac{1}{3\\Sigma_{tr}}-\\frac{\\delta\\Sigma_a}{3\\Sigma_{tr}^2} = D - 3 D^2\\delta \\Sigma_a$ would change things?"
   ]
  },
  {
   "cell_type": "markdown",
   "id": "834cc558",
   "metadata": {
    "slideshow": {
     "slide_type": "subslide"
    }
   },
   "source": [
    "**(c) Direct Perturbation**\n",
    "\n",
    "To solve this problem, we first need to \"guess\" what the correct flux form should be in each region.  Obviously, we can *always* use exponentials, but depending on the magnitude of the region-wise $\\nu\\Sigma_f/k$ and $\\Sigma_a$, it may be best to use trigonometric functions or their hyperbolic analogs.  \n",
    "\n",
    "It might seem at first obvious to use only sines and cosines since we have multiplication in each region and we expect the reactor to have $k > 1$ based on the $\\delta \\rho$ values above, i.e., \n",
    "\n",
    "$$\n",
    "  k_1  \\approx 1.20739 \\, .\n",
    "$$\n",
    "\n",
    "With this value of $k$, the region I buckling remains positive:\n",
    "\n",
    "$$\n",
    "  B_{I}^2 \\approx \\frac{\\nu\\Sigma_f/k_1-\\Sigma_a}{D} \\approx 0.0055 \\, .\n",
    "$$"
   ]
  },
  {
   "cell_type": "code",
   "execution_count": 8,
   "id": "2171bb5e",
   "metadata": {
    "slideshow": {
     "slide_type": "fragment"
    }
   },
   "outputs": [
    {
     "data": {
      "text/plain": [
       "0.005528480171629352"
      ]
     },
     "execution_count": 8,
     "metadata": {},
     "output_type": "execute_result"
    }
   ],
   "source": [
    "(vΣ_f/k_1-Σ_a)/D"
   ]
  },
  {
   "cell_type": "markdown",
   "id": "332da58f",
   "metadata": {
    "slideshow": {
     "slide_type": "subslide"
    }
   },
   "source": [
    "Hence, the region I flux can be written as\n",
    "\n",
    "$$\n",
    "  \\phi_I(x) = \\cos(B_I x) + C_2 \\sin(B_I x) \\, ,\n",
    "$$\n",
    "\n",
    "where $C_1$ has been set immediately to 1.  We can do this because the flux is unique only to with a multiplicative constant, i.e., we can normalize it any way we like. \n",
    "\n",
    "\n",
    "For region II, we estimate that \n",
    "\n",
    "$$\n",
    "  B_{II}^2 = \\frac{\\nu\\Sigma_f/k'-\\Sigma_a-\\delta\\Sigma_a}{D} \\approx -0.0045 \\, .\n",
    "$$\n"
   ]
  },
  {
   "cell_type": "code",
   "execution_count": 9,
   "id": "f5d30103",
   "metadata": {
    "slideshow": {
     "slide_type": "fragment"
    }
   },
   "outputs": [
    {
     "data": {
      "text/plain": [
       "-0.004471519828370648"
      ]
     },
     "execution_count": 9,
     "metadata": {},
     "output_type": "execute_result"
    }
   ],
   "source": [
    "(vΣ_f/k_1-Σ_a-δΣ_a)/D"
   ]
  },
  {
   "cell_type": "markdown",
   "id": "853a4cf8",
   "metadata": {
    "slideshow": {
     "slide_type": "subslide"
    }
   },
   "source": [
    "\n",
    "Hence, we instead define \n",
    "\n",
    "\n",
    "$$\n",
    "  \\alpha_{II}^2 = -B_{II}^2 = -\\frac{\\nu\\Sigma_f/k'-\\Sigma_a-\\delta\\Sigma_a}{D} \\, \n",
    "$$\n",
    "\n",
    "and write \n",
    "\n",
    "$$\n",
    "  \\phi_{II}(x) = C_3 \\cosh(B_{II} x) + C_4 \\sinh(B_{II} x) \\, .\n",
    "$$\n",
    "\n",
    "\n",
    "Our boundary conditions remain vacuum, while our interface conditions are the usual flux and current continuity conditions.  All of that follows in some SymPy code:"
   ]
  },
  {
   "cell_type": "code",
   "execution_count": 10,
   "id": "732a07a5",
   "metadata": {
    "slideshow": {
     "slide_type": "fragment"
    }
   },
   "outputs": [],
   "source": [
    "import sympy as sy\n",
    "D, a, Σ_a, δΣ_a, vΣ_f = sy.symbols('D, a, Sigma_a, \\delta\\Sigma_a, \\nu\\Sigma_f', real=True)\n",
    "x, k, B_I, α_II = sy.symbols(\"x, k, B_I, alpha_II\", real=True)\n",
    "\n",
    "C2, C3, C4 = sy.symbols(\"C2, C3, C4\")\n",
    "phi_I = sy.cos(B_I*x) + C2*sy.sin(B_I*x)\n",
    "phi_II = C3*sy.cosh(α_II*x) + C4*sy.sinh(α_II*x)"
   ]
  },
  {
   "cell_type": "code",
   "execution_count": 11,
   "id": "b17629bc",
   "metadata": {
    "slideshow": {
     "slide_type": "fragment"
    }
   },
   "outputs": [
    {
     "data": {
      "text/latex": [
       "$\\displaystyle \\phi_{I}{\\left(x \\right)} = \\frac{2 B_{I} D \\cos{\\left(B_{I} \\left(\\frac{a}{2} + x\\right) \\right)} + \\sin{\\left(B_{I} \\left(\\frac{a}{2} + x\\right) \\right)}}{2 B_{I} D \\cos{\\left(\\frac{B_{I} a}{2} \\right)} + \\sin{\\left(\\frac{B_{I} a}{2} \\right)}}$"
      ],
      "text/plain": [
       "Eq(phi_I(x), (2*B_I*D*cos(B_I*(a/2 + x)) + sin(B_I*(a/2 + x)))/(2*B_I*D*cos(B_I*a/2) + sin(B_I*a/2)))"
      ]
     },
     "execution_count": 11,
     "metadata": {},
     "output_type": "execute_result"
    }
   ],
   "source": [
    "bcL = sy.Eq(phi_I.subs(x, -a/2)/4 - (D/2)*sy.diff(phi_I, x).subs(x, -a/2), 0).simplify()\n",
    "coef2= sy.solve(bcL, C2)[0]\n",
    "phi_I_sub = phi_I.subs(C2, coef2).simplify()\n",
    "sy.Eq(sy.Function('phi_I')(x), phi_I_sub)"
   ]
  },
  {
   "cell_type": "code",
   "execution_count": 12,
   "id": "2c3ef4d1",
   "metadata": {
    "slideshow": {
     "slide_type": "fragment"
    }
   },
   "outputs": [
    {
     "data": {
      "text/latex": [
       "$\\displaystyle \\phi_{II}{\\left(x \\right)} = \\frac{C_{3} \\cdot \\left(2 D \\alpha_{II} \\cosh{\\left(\\alpha_{II} \\left(\\frac{a}{2} - x\\right) \\right)} + \\sinh{\\left(\\alpha_{II} \\left(\\frac{a}{2} - x\\right) \\right)}\\right)}{2 D \\alpha_{II} \\cosh{\\left(\\frac{a \\alpha_{II}}{2} \\right)} + \\sinh{\\left(\\frac{a \\alpha_{II}}{2} \\right)}}$"
      ],
      "text/plain": [
       "Eq(phi_II(x), C3*(2*D*alpha_II*cosh(alpha_II*(a/2 - x)) + sinh(alpha_II*(a/2 - x)))/(2*D*alpha_II*cosh(a*alpha_II/2) + sinh(a*alpha_II/2)))"
      ]
     },
     "execution_count": 12,
     "metadata": {},
     "output_type": "execute_result"
    }
   ],
   "source": [
    "bcR = sy.Eq(phi_II.subs(x, a/2)/4 + (D/2)*sy.diff(phi_II, x).subs(x, a/2), 0).simplify()\n",
    "coef4 = sy.solve(bcR, C4)[0]\n",
    "phi_II_sub = phi_II.subs(C4, coef4).simplify()\n",
    "sy.Eq(sy.Function('phi_II')(x), phi_II_sub)"
   ]
  },
  {
   "cell_type": "markdown",
   "id": "0b3ad242",
   "metadata": {
    "slideshow": {
     "slide_type": "subslide"
    }
   },
   "source": [
    "Before we can determine $C_3$, we need to determine $k$.  As we did for the reflected reactor, we can divide the current continuity equation by the flux continuity equation to find the following criticality condition:"
   ]
  },
  {
   "cell_type": "code",
   "execution_count": 13,
   "id": "95c8ecb8",
   "metadata": {
    "slideshow": {
     "slide_type": "fragment"
    }
   },
   "outputs": [
    {
     "data": {
      "text/latex": [
       "$\\displaystyle \\frac{B_{I} D \\left(2 B_{I} D \\sin{\\left(\\frac{2 B_{I} a}{3} \\right)} - \\cos{\\left(\\frac{2 B_{I} a}{3} \\right)}\\right)}{2 B_{I} D \\cos{\\left(\\frac{2 B_{I} a}{3} \\right)} + \\sin{\\left(\\frac{2 B_{I} a}{3} \\right)}} = \\frac{D \\alpha_{II} \\left(2 D \\alpha_{II} \\sinh{\\left(\\frac{a \\alpha_{II}}{3} \\right)} + \\cosh{\\left(\\frac{a \\alpha_{II}}{3} \\right)}\\right)}{2 D \\alpha_{II} \\cosh{\\left(\\frac{a \\alpha_{II}}{3} \\right)} + \\sinh{\\left(\\frac{a \\alpha_{II}}{3} \\right)}}$"
      ],
      "text/plain": [
       "Eq(B_I*D*(2*B_I*D*sin(2*B_I*a/3) - cos(2*B_I*a/3))/(2*B_I*D*cos(2*B_I*a/3) + sin(2*B_I*a/3)), D*alpha_II*(2*D*alpha_II*sinh(a*alpha_II/3) + cosh(a*alpha_II/3))/(2*D*alpha_II*cosh(a*alpha_II/3) + sinh(a*alpha_II/3)))"
      ]
     },
     "execution_count": 13,
     "metadata": {},
     "output_type": "execute_result"
    }
   ],
   "source": [
    "LHS = (-sy.diff(D*phi_I_sub, x)/phi_I_sub).subs(x, a/6).simplify() \n",
    "RHS = (-sy.diff(D*phi_II_sub, x)/phi_II_sub).subs(x, a/6).simplify()\n",
    "crit_cond = sy.Eq(LHS, RHS)\n",
    "crit_cond"
   ]
  },
  {
   "cell_type": "markdown",
   "id": "b6f1551a",
   "metadata": {
    "slideshow": {
     "slide_type": "subslide"
    }
   },
   "source": [
    "Now, substitute the relationships between the buckling terms and $k$, and then substitute the numerical values for all parameters to produce a single nonlinear equation for $k$.  We can plot both sides to confirm our root is near $k = 1.21598$ (as predicted with the first-order perturbation theory), and then finally use `fsolve` to get the precise value."
   ]
  },
  {
   "cell_type": "code",
   "execution_count": 14,
   "id": "efdbd2e3",
   "metadata": {
    "slideshow": {
     "slide_type": "fragment"
    }
   },
   "outputs": [],
   "source": [
    "buckling = {B_I: sy.sqrt((vΣ_f/k-Σ_a)/D), α_II: sy.sqrt(-(vΣ_f/k-(Σ_a+δΣ_a))/D)}\n",
    "num_data = {D: 1.0, Σ_a: 0.1, δΣ_a: 0.01, vΣ_f: 1.3*0.1, a: 50}\n",
    "cc = crit_cond.subs(buckling).subs(num_data)"
   ]
  },
  {
   "cell_type": "code",
   "execution_count": 15,
   "id": "8ae40ac7",
   "metadata": {
    "slideshow": {
     "slide_type": "fragment"
    }
   },
   "outputs": [
    {
     "data": {
      "text/latex": [
       "$\\displaystyle \\frac{0.360555127546399 \\sqrt{0.846153846153846 - \\frac{1}{k}} \\left(0.721110255092798 \\sqrt{0.846153846153846 - \\frac{1}{k}} \\sinh{\\left(6.00925212577332 \\sqrt{0.846153846153846 - \\frac{1}{k}} \\right)} + \\cosh{\\left(6.00925212577332 \\sqrt{0.846153846153846 - \\frac{1}{k}} \\right)}\\right)}{0.721110255092798 \\sqrt{0.846153846153846 - \\frac{1}{k}} \\cosh{\\left(6.00925212577332 \\sqrt{0.846153846153846 - \\frac{1}{k}} \\right)} + \\sinh{\\left(6.00925212577332 \\sqrt{0.846153846153846 - \\frac{1}{k}} \\right)}}$"
      ],
      "text/plain": [
       "0.360555127546399*sqrt(0.846153846153846 - 1/k)*(0.721110255092798*sqrt(0.846153846153846 - 1/k)*sinh(6.00925212577332*sqrt(0.846153846153846 - 1/k)) + cosh(6.00925212577332*sqrt(0.846153846153846 - 1/k)))/(0.721110255092798*sqrt(0.846153846153846 - 1/k)*cosh(6.00925212577332*sqrt(0.846153846153846 - 1/k)) + sinh(6.00925212577332*sqrt(0.846153846153846 - 1/k)))"
      ]
     },
     "execution_count": 15,
     "metadata": {},
     "output_type": "execute_result"
    }
   ],
   "source": [
    "cc.rhs"
   ]
  },
  {
   "cell_type": "code",
   "execution_count": 16,
   "id": "91dba75b",
   "metadata": {
    "slideshow": {
     "slide_type": "subslide"
    }
   },
   "outputs": [
    {
     "data": {
      "image/png": "[encoded data removed]",
      "text/plain": [
       "<Figure size 800x200 with 1 Axes>"
      ]
     },
     "metadata": {},
     "output_type": "display_data"
    }
   ],
   "source": [
    "lhs = sy.lambdify(k, cc.lhs)\n",
    "rhs = sy.lambdify(k, cc.rhs)\n",
    "import matplotlib.pyplot as plt\n",
    "\n",
    "\n",
    "k_1 = fsolve(lambda k: lhs(k)-rhs(k), 1.21598)[0]\n",
    "\n",
    "k_vals = np.linspace(1.22, 1.25, 1000)\n",
    "plt.figure(figsize=(8,2))\n",
    "plt.plot(k_vals, lhs(k_vals), k_vals, rhs(k_vals), k_1, rhs(k_1), 'ko')\n",
    "plt.ylim(0, 0.5)\n",
    "plt.xlabel(\"$k$\")\n",
    "plt.legend([\"LHS\", \"RHS\", f\"$k_1={k_1:.5f}$\"]);"
   ]
  },
  {
   "cell_type": "markdown",
   "id": "b7d18c82",
   "metadata": {
    "slideshow": {
     "slide_type": "subslide"
    }
   },
   "source": [
    "The actual reactivity worth is, therefore,\n",
    "\n",
    "$$\n",
    "  \\delta \\rho = \\frac{k_1-k_0}{k_1 k_0} \\approx -0.01079 \\, ,\n",
    "$$\n",
    "\n",
    "which is even *smaller* than the first-order perturbation theory estimate of $\\rho_{pt} = -0.01647$ and naïve estimate of $\\rho_{np} = -0.02041$.\n",
    "\n",
    "So, to conclude, first-order perturbation theory gives us a better estimate than the naïve approach for about the same amount of work, and for much less work than the direct perturbation result.\n",
    "\n",
    "One might have hoped for a \"better\" estimate, but consider again our perturbation, which was a 10% increase in $\\Sigma_a$ in one third of the core.  That may seem small, but it has a profound impact on the flux, which went from a pure cosine to a mixed shape involving several functions. "
   ]
  },
  {
   "cell_type": "markdown",
   "id": "d0cd1c5c",
   "metadata": {
    "slideshow": {
     "slide_type": "fragment"
    }
   },
   "source": [
    "As a final step, let's plot the original and perturbed fluxes.  For the perturbed flux, we still need $C_3$, which we can get using flux continuity:"
   ]
  },
  {
   "cell_type": "code",
   "execution_count": 17,
   "id": "12c974db",
   "metadata": {
    "slideshow": {
     "slide_type": "fragment"
    }
   },
   "outputs": [],
   "source": [
    "cc_flux = sy.Eq(phi_I_sub.subs(x, a/6), phi_II_sub.subs(x, a/6))\n",
    "coef3 = sy.solve(cc_flux, C3)[0]\n",
    "phi_I_num = sy.lambdify(x, phi_I_sub.subs(buckling).subs(num_data).subs(k, k_1))\n",
    "phi_II_num = sy.lambdify(x, phi_II_sub.subs(C3, coef3).subs(buckling).subs(num_data).subs(k, k_1))"
   ]
  },
  {
   "cell_type": "code",
   "execution_count": 18,
   "id": "60bf5534",
   "metadata": {
    "slideshow": {
     "slide_type": "fragment"
    }
   },
   "outputs": [
    {
     "data": {
      "image/png": "[encoded data removed]",
      "text/plain": [
       "<Figure size 640x480 with 1 Axes>"
      ]
     },
     "metadata": {},
     "output_type": "display_data"
    }
   ],
   "source": [
    "x_full = np.linspace(-25, 25, 2000)\n",
    "plt.plot(x_full, np.cos(B_0*x_full), 'k')\n",
    "\n",
    "x_I = np.linspace(-25, 50/6, 1000)\n",
    "x_II = np.linspace(50/6, 25, 1000)\n",
    "plt.plot(x_I, phi_I_num(x_I), 'b')\n",
    "plt.plot(x_II, phi_II_num(x_II), 'b--')\n",
    "\n",
    "plt.legend(['unperturbed', 'perturbed'])\n",
    "plt.xlabel(\"$x$ [cm]\")\n",
    "plt.ylabel(\"$\\phi(x)$ [cm]\");"
   ]
  }
 ],
 "metadata": {
  "celltoolbar": "Slideshow",
  "kernelspec": {
   "display_name": "Python 3 (ipykernel)",
   "language": "python",
   "name": "python3"
  },
  "language_info": {
   "codemirror_mode": {
    "name": "ipython",
    "version": 3
   },
   "file_extension": ".py",
   "mimetype": "text/x-python",
   "name": "python",
   "nbconvert_exporter": "python",
   "pygments_lexer": "ipython3",
   "version": "3.11.4"
  },
  "rise": {
   "scroll": true,
   "slideNumber": true
  }
 },
 "nbformat": 4,
 "nbformat_minor": 5
}
