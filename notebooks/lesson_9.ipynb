{
 "cells": [
  {
   "cell_type": "markdown",
   "id": "847f1450",
   "metadata": {},
   "source": [
    "# NE 630 - Lesson 9"
   ]
  },
  {
   "cell_type": "markdown",
   "id": "b827ee87",
   "metadata": {},
   "source": [
    "Let's revisit our simulation from Lesson 7, in which\n",
    " \n",
    "  1. a neutron is born at $E_0 = 1$ MeV\n",
    "  2. it scatters with either ${}^1$H or ${}^{16}$O \n",
    "  3. it exits the interaction with a new energy between $\\alpha E$ and $E$.\n",
    "  4. go back to (2) until its energy is below $E_n = 10^{-3}$ eV.\n",
    "  \n",
    "Along the way, we counted the number of collisions a neutron has to see if it matched $n = \\ln(E_0/E_n)/\\xi$."
   ]
  },
  {
   "cell_type": "markdown",
   "id": "c7f21b66",
   "metadata": {},
   "source": [
    "We can modify this algorithm to keep track of which energies a neutron passes upon a scatter.  For example, suppose we selected $10^{-3}, 10^{-2}, \\ldots 10^{5}$ eV as energy boundaries.  If a neutron of energy 5 eV scatters to 0.002 eV, then it will pass the 1 eV, 0.1 eV, and 0.01 eV points but not the final one at 0.001 eV.  Consequently, we would add a 1 to to the counters for 1, 0.1, and 0.01 eV."
   ]
  },
  {
   "cell_type": "code",
   "execution_count": null,
   "id": "ca7f4d3c",
   "metadata": {},
   "outputs": [],
   "source": [
    "import numpy as np\n",
    "import matplotlib.pyplot as plt\n",
    "E0 = 2e6\n",
    "En = 1e-3\n",
    "np.log(E0/En)/0.924"
   ]
  },
  {
   "cell_type": "code",
   "execution_count": null,
   "id": "94c27a0b",
   "metadata": {},
   "outputs": [],
   "source": [
    "np.logspace(-3, 5, 9)"
   ]
  },
  {
   "cell_type": "code",
   "execution_count": null,
   "id": "a3a9fd2f",
   "metadata": {},
   "outputs": [],
   "source": [
    "n = 10000            # number of neutrons to simulate\n",
    "\n",
    "energies = np.logspace(-3, 5, 9) # energy bin boundaries \n",
    "counts = np.zeros_like(energies) # and counts\n",
    "for i in range(n):\n",
    "    \n",
    "    E = E0  # initialize my energy to 2 MeV\n",
    "    while E > En:\n",
    "\n",
    "        x = np.random.rand() # get a random number between 0 and 1\n",
    "        if x < 3.8/(3.8+2*20):\n",
    "            A = 16 # I scatter off of O\n",
    "        else:\n",
    "            A = 1  # I scatter off of H\n",
    "        alpha = (A-1)**2 / (A+1)**2 \n",
    "        \n",
    "        # Pick my new energy uniformly from between alpha*E to E\n",
    "        x = np.random.rand() # get another random number\n",
    "        E_prime = (E-alpha*E)*x + alpha*E \n",
    "        \n",
    "        for j in range(len(energies)):\n",
    "            if E_prime < energies[j] < E:\n",
    "                counts[j] += 1        \n",
    "        \n",
    "        E = E_prime    # My outgoing energy becomes my initial energy"
   ]
  },
  {
   "cell_type": "code",
   "execution_count": null,
   "id": "bf8f5495",
   "metadata": {},
   "outputs": [],
   "source": []
  },
  {
   "cell_type": "code",
   "execution_count": null,
   "id": "8c30661d",
   "metadata": {},
   "outputs": [],
   "source": []
  }
 ],
 "metadata": {
  "kernelspec": {
   "display_name": "Python 3 (ipykernel)",
   "language": "python",
   "name": "python3"
  },
  "language_info": {
   "codemirror_mode": {
    "name": "ipython",
    "version": 3
   },
   "file_extension": ".py",
   "mimetype": "text/x-python",
   "name": "python",
   "nbconvert_exporter": "python",
   "pygments_lexer": "ipython3",
   "version": "3.11.4"
  }
 },
 "nbformat": 4,
 "nbformat_minor": 5
}
