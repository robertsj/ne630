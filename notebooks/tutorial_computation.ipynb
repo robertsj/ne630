{
 "cells": [
  {
   "cell_type": "markdown",
   "id": "254b8c14",
   "metadata": {
    "slideshow": {
     "slide_type": "slide"
    }
   },
   "source": [
    "# NE 630 - Tutorial on Computation I \n",
    "\n",
    "This optional tutorial on computation is about an hour-long introduction-by-example to Jupyter and numerical Python for problem solving."
   ]
  },
  {
   "cell_type": "markdown",
   "id": "b757e800",
   "metadata": {
    "slideshow": {
     "slide_type": "subslide"
    }
   },
   "source": [
    "## Objective\n",
    "\n",
    " - Students will be able to open, create, modify, and share Jupyter Notebooks.\n",
    " - Students will be able to create, load, save, and plot NumPy arrays.\n",
    " - Students will be able to numerically integrate functions and ODEs over definite domains."
   ]
  },
  {
   "cell_type": "markdown",
   "id": "09257201",
   "metadata": {
    "slideshow": {
     "slide_type": "slide"
    }
   },
   "source": [
    "# Using Jupyter Notebooks\n",
    "\n",
    " - Create a Google Colaboratory file in or move an existing Jupyter notebook (.ipynb) file into Drive (what I'm showing)\n",
    " - Install Jupyter locally (that's up to you; I recommend [Anaconda](https://www.anaconda.com/)"
   ]
  },
  {
   "cell_type": "code",
   "execution_count": null,
   "id": "5333627a",
   "metadata": {
    "slideshow": {
     "slide_type": "fragment"
    }
   },
   "outputs": [],
   "source": [
    "# this is a code cell"
   ]
  },
  {
   "cell_type": "markdown",
   "id": "00a13742",
   "metadata": {
    "slideshow": {
     "slide_type": "fragment"
    }
   },
   "source": [
    "This is a Markdown (text, etc.) cell.  Markdown supports some basic [formatting](https://www.markdownguide.org/cheat-sheet/), e.g., `*`'s around a word like `*hello*` yields *hello*.  \n",
    "\n",
    "Markdown also supports use of $\\LaTeX$ for inline math, e.g., $E=mc^2$, and offset equations, e.g., \n",
    "\n",
    "$$\n",
    "  \\int^{\\infty}_0 a \\sinh(\\sqrt{2E}) e^{-E} dE = 1 \\, .\n",
    "$$"
   ]
  },
  {
   "cell_type": "markdown",
   "id": "15585c81",
   "metadata": {
    "slideshow": {
     "slide_type": "fragment"
    }
   },
   "source": [
    "You can share the `.ipynb` format directly, or do `File -> Download As ...` into a variety of formats."
   ]
  },
  {
   "cell_type": "markdown",
   "id": "a6ab4b7a",
   "metadata": {
    "slideshow": {
     "slide_type": "slide"
    }
   },
   "source": [
    "# Arrays and Plots\n",
    "\n",
    "**Exercise** Plot $f(E) = \\sinh(\\sqrt{2E}) e^{-E}$ over the range $0 < E < 10$."
   ]
  },
  {
   "cell_type": "code",
   "execution_count": null,
   "id": "732c898c",
   "metadata": {
    "slideshow": {
     "slide_type": "fragment"
    }
   },
   "outputs": [],
   "source": [
    "import numpy as np\n",
    "import matplotlib.pyplot as plt"
   ]
  },
  {
   "cell_type": "code",
   "execution_count": null,
   "id": "54e386e9",
   "metadata": {
    "slideshow": {
     "slide_type": "fragment"
    }
   },
   "outputs": [],
   "source": [
    "E = np.linspace(0, 10)\n",
    "# def f(E):\n",
    "#    np.sinh(np.sqrt(E))*np.exp(-E)\n",
    "f = lambda E: np.sinh(np.sqrt(2*E))*np.exp(-E)\n",
    "plt.plot(E, f(E))\n",
    "plt.xlabel(\"$E$\")\n",
    "plt.ylabel(\"$f(E)$\")\n",
    "plt.title(\"A Plot's Title...\")"
   ]
  },
  {
   "cell_type": "markdown",
   "id": "cbad0b5e",
   "metadata": {
    "slideshow": {
     "slide_type": "subslide"
    }
   },
   "source": [
    "**Exercise** Save `E` and `f` to a text file that looks something like \n",
    "\n",
    "```\n",
    "0.00000000, 0.00000000\n",
    "0.02408163, 0.38101594\n",
    "0.40816327, 0.45426147\n",
    "...\n",
    "```"
   ]
  },
  {
   "cell_type": "code",
   "execution_count": null,
   "id": "d9e43a3b",
   "metadata": {
    "slideshow": {
     "slide_type": "fragment"
    }
   },
   "outputs": [],
   "source": [
    "np.savetxt('myfile.txt', np.c_[E, f(E)]) # delimiter=\", \", fmt='%.8f\""
   ]
  },
  {
   "cell_type": "code",
   "execution_count": null,
   "id": "01ecd613",
   "metadata": {
    "slideshow": {
     "slide_type": "fragment"
    }
   },
   "outputs": [],
   "source": [
    "!head -3 myfile.txt # This may not work.  Click the folder icon in Colab."
   ]
  },
  {
   "cell_type": "markdown",
   "id": "7f9ccec1",
   "metadata": {
    "slideshow": {
     "slide_type": "slide"
    }
   },
   "source": [
    "# Integration"
   ]
  },
  {
   "cell_type": "markdown",
   "id": "6ce91a90",
   "metadata": {
    "slideshow": {
     "slide_type": "fragment"
    }
   },
   "source": [
    "Integrate $f(E) = \\sinh(\\sqrt{2E}) e^{-E}$ over the range $0 < E < 10$."
   ]
  },
  {
   "cell_type": "code",
   "execution_count": null,
   "id": "59869a68",
   "metadata": {
    "slideshow": {
     "slide_type": "fragment"
    }
   },
   "outputs": [],
   "source": [
    "from scipy.integrate import quad, trapz"
   ]
  },
  {
   "cell_type": "code",
   "execution_count": null,
   "id": "13044ee8",
   "metadata": {
    "slideshow": {
     "slide_type": "fragment"
    }
   },
   "outputs": [],
   "source": [
    "quad(f, a=0, b=10)"
   ]
  },
  {
   "cell_type": "code",
   "execution_count": null,
   "id": "2a761c1f",
   "metadata": {
    "slideshow": {
     "slide_type": "fragment"
    }
   },
   "outputs": [],
   "source": [
    "trapz(f(E), E)"
   ]
  },
  {
   "cell_type": "code",
   "execution_count": null,
   "id": "1999cf87",
   "metadata": {
    "slideshow": {
     "slide_type": "fragment"
    }
   },
   "outputs": [],
   "source": [
    "EE = np.linspace(0, 10, 10000)\n",
    "trapz(f(EE), EE)"
   ]
  },
  {
   "cell_type": "markdown",
   "id": "7637c777",
   "metadata": {
    "slideshow": {
     "slide_type": "subslide"
    }
   },
   "source": [
    "Integrate (i.e., solve) the IVP \n",
    "\n",
    "$$\n",
    "\\frac{dN}{dt} = \\overbrace{-0.1 N(t)}^{RHS} \\, \\qquad N(0) = 10^6 \\, .\n",
    "$$ \n",
    "\n",
    "for $0 \\leq t \\leq 10$ s."
   ]
  },
  {
   "cell_type": "code",
   "execution_count": null,
   "id": "f5f34573",
   "metadata": {},
   "outputs": [],
   "source": [
    "from scipy.integrate import odeint"
   ]
  },
  {
   "cell_type": "code",
   "execution_count": null,
   "id": "f7c56ad4",
   "metadata": {},
   "outputs": [],
   "source": [
    "times = np.linspace(0, 10)"
   ]
  },
  {
   "cell_type": "code",
   "execution_count": null,
   "id": "582dbad8",
   "metadata": {},
   "outputs": [],
   "source": [
    "# odeint solves IVPs using a Python function for the RHS of the IVP equations.\n",
    "def dN_dt(N, t, lamda):\n",
    "    # N is the (approximate) value of N(t) at time t\n",
    "    return -lamda * N"
   ]
  },
  {
   "cell_type": "code",
   "execution_count": null,
   "id": "3fbba5b5",
   "metadata": {},
   "outputs": [],
   "source": [
    "solution = odeint(dN_dt, y0=1e6, t=times, args=(0.1,))\n",
    "N_solution = solution[:, 0]"
   ]
  },
  {
   "cell_type": "code",
   "execution_count": null,
   "id": "0aa5d191",
   "metadata": {},
   "outputs": [],
   "source": [
    "plt.plot(times, N_solution)"
   ]
  }
 ],
 "metadata": {
  "celltoolbar": "Slideshow",
  "kernelspec": {
   "display_name": "Python 3 (ipykernel)",
   "language": "python",
   "name": "python3"
  },
  "language_info": {
   "codemirror_mode": {
    "name": "ipython",
    "version": 3
   },
   "file_extension": ".py",
   "mimetype": "text/x-python",
   "name": "python",
   "nbconvert_exporter": "python",
   "pygments_lexer": "ipython3",
   "version": "3.9.7"
  },
  "rise": {
   "scroll": true
  }
 },
 "nbformat": 4,
 "nbformat_minor": 5
}
